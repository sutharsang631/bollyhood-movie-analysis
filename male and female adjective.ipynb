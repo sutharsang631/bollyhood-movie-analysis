{
 "cells": [
  {
   "cell_type": "code",
   "execution_count": 1,
   "id": "ec8c9943",
   "metadata": {},
   "outputs": [],
   "source": [
    "import os\n",
    "import numpy as np\n",
    "import pandas as pd\n"
   ]
  },
  {
   "cell_type": "code",
   "execution_count": 2,
   "id": "6cfd0382",
   "metadata": {},
   "outputs": [],
   "source": [
    "os.chdir(\"C:\\\\Users\\\\Thispc\\\\Desktop\\\\python\\\\carpred\\\\wikipedia-data\")"
   ]
  },
  {
   "cell_type": "code",
   "execution_count": 3,
   "id": "611dcdfa",
   "metadata": {},
   "outputs": [],
   "source": [
    "df= pd.read_csv('femaleadjectives.csv')\n"
   ]
  },
  {
   "cell_type": "code",
   "execution_count": 4,
   "id": "4586cd3b",
   "metadata": {},
   "outputs": [],
   "source": [
    "mdf= pd.read_csv('maleadjectives.csv')"
   ]
  },
  {
   "cell_type": "code",
   "execution_count": 5,
   "id": "4d1f56d5",
   "metadata": {},
   "outputs": [
    {
     "data": {
      "text/plain": [
       "(5057, 7)"
      ]
     },
     "execution_count": 5,
     "metadata": {},
     "output_type": "execute_result"
    }
   ],
   "source": [
    "df.shape"
   ]
  },
  {
   "cell_type": "code",
   "execution_count": 6,
   "id": "bf7087ed",
   "metadata": {},
   "outputs": [
    {
     "name": "stdout",
     "output_type": "stream",
     "text": [
      "<class 'pandas.core.frame.DataFrame'>\n",
      "RangeIndex: 5057 entries, 0 to 5056\n",
      "Data columns (total 7 columns):\n",
      " #   Column      Non-Null Count  Dtype \n",
      "---  ------      --------------  ----- \n",
      " 0   1970        5057 non-null   int64 \n",
      " 1   [young]     5057 non-null   object\n",
      " 2   Unnamed: 2  199 non-null    object\n",
      " 3   Unnamed: 3  31 non-null     object\n",
      " 4   Unnamed: 4  11 non-null     object\n",
      " 5   Unnamed: 5  3 non-null      object\n",
      " 6   Unnamed: 6  2 non-null      object\n",
      "dtypes: int64(1), object(6)\n",
      "memory usage: 276.7+ KB\n"
     ]
    }
   ],
   "source": [
    "df.info()"
   ]
  },
  {
   "cell_type": "code",
   "execution_count": 7,
   "id": "ce3e4b6e",
   "metadata": {},
   "outputs": [],
   "source": [
    "df1=df.drop_duplicates()"
   ]
  },
  {
   "cell_type": "code",
   "execution_count": 8,
   "id": "fe40885c",
   "metadata": {},
   "outputs": [
    {
     "name": "stdout",
     "output_type": "stream",
     "text": [
      "<class 'pandas.core.frame.DataFrame'>\n",
      "Int64Index: 1104 entries, 0 to 5056\n",
      "Data columns (total 7 columns):\n",
      " #   Column      Non-Null Count  Dtype \n",
      "---  ------      --------------  ----- \n",
      " 0   1970        1104 non-null   int64 \n",
      " 1   [young]     1104 non-null   object\n",
      " 2   Unnamed: 2  194 non-null    object\n",
      " 3   Unnamed: 3  31 non-null     object\n",
      " 4   Unnamed: 4  11 non-null     object\n",
      " 5   Unnamed: 5  3 non-null      object\n",
      " 6   Unnamed: 6  2 non-null      object\n",
      "dtypes: int64(1), object(6)\n",
      "memory usage: 69.0+ KB\n"
     ]
    }
   ],
   "source": [
    "df1.info()"
   ]
  },
  {
   "cell_type": "code",
   "execution_count": 9,
   "id": "601050cf",
   "metadata": {},
   "outputs": [
    {
     "data": {
      "text/html": [
       "<div>\n",
       "<style scoped>\n",
       "    .dataframe tbody tr th:only-of-type {\n",
       "        vertical-align: middle;\n",
       "    }\n",
       "\n",
       "    .dataframe tbody tr th {\n",
       "        vertical-align: top;\n",
       "    }\n",
       "\n",
       "    .dataframe thead th {\n",
       "        text-align: right;\n",
       "    }\n",
       "</style>\n",
       "<table border=\"1\" class=\"dataframe\">\n",
       "  <thead>\n",
       "    <tr style=\"text-align: right;\">\n",
       "      <th></th>\n",
       "      <th>year</th>\n",
       "      <th>category1</th>\n",
       "      <th>category2</th>\n",
       "      <th>category3</th>\n",
       "      <th>category4</th>\n",
       "      <th>category5</th>\n",
       "      <th>category6</th>\n",
       "    </tr>\n",
       "  </thead>\n",
       "  <tbody>\n",
       "    <tr>\n",
       "      <th>0</th>\n",
       "      <td>1970</td>\n",
       "      <td>[]</td>\n",
       "      <td>NaN</td>\n",
       "      <td>NaN</td>\n",
       "      <td>NaN</td>\n",
       "      <td>NaN</td>\n",
       "      <td>NaN</td>\n",
       "    </tr>\n",
       "    <tr>\n",
       "      <th>3</th>\n",
       "      <td>1970</td>\n",
       "      <td>[unrecognizable]</td>\n",
       "      <td>NaN</td>\n",
       "      <td>NaN</td>\n",
       "      <td>NaN</td>\n",
       "      <td>NaN</td>\n",
       "      <td>NaN</td>\n",
       "    </tr>\n",
       "    <tr>\n",
       "      <th>8</th>\n",
       "      <td>1970</td>\n",
       "      <td>[sister]</td>\n",
       "      <td>NaN</td>\n",
       "      <td>NaN</td>\n",
       "      <td>NaN</td>\n",
       "      <td>NaN</td>\n",
       "      <td>NaN</td>\n",
       "    </tr>\n",
       "    <tr>\n",
       "      <th>17</th>\n",
       "      <td>1970</td>\n",
       "      <td>[real]</td>\n",
       "      <td>NaN</td>\n",
       "      <td>NaN</td>\n",
       "      <td>NaN</td>\n",
       "      <td>NaN</td>\n",
       "      <td>NaN</td>\n",
       "    </tr>\n",
       "    <tr>\n",
       "      <th>20</th>\n",
       "      <td>1970</td>\n",
       "      <td>[young]</td>\n",
       "      <td>NaN</td>\n",
       "      <td>NaN</td>\n",
       "      <td>NaN</td>\n",
       "      <td>NaN</td>\n",
       "      <td>NaN</td>\n",
       "    </tr>\n",
       "    <tr>\n",
       "      <th>...</th>\n",
       "      <td>...</td>\n",
       "      <td>...</td>\n",
       "      <td>...</td>\n",
       "      <td>...</td>\n",
       "      <td>...</td>\n",
       "      <td>...</td>\n",
       "      <td>...</td>\n",
       "    </tr>\n",
       "    <tr>\n",
       "      <th>5030</th>\n",
       "      <td>2007</td>\n",
       "      <td>[beautiful</td>\n",
       "      <td>captivating]</td>\n",
       "      <td>NaN</td>\n",
       "      <td>NaN</td>\n",
       "      <td>NaN</td>\n",
       "      <td>NaN</td>\n",
       "    </tr>\n",
       "    <tr>\n",
       "      <th>5034</th>\n",
       "      <td>2008</td>\n",
       "      <td>[widowed]</td>\n",
       "      <td>NaN</td>\n",
       "      <td>NaN</td>\n",
       "      <td>NaN</td>\n",
       "      <td>NaN</td>\n",
       "      <td>NaN</td>\n",
       "    </tr>\n",
       "    <tr>\n",
       "      <th>5043</th>\n",
       "      <td>2008</td>\n",
       "      <td>[Indian]</td>\n",
       "      <td>NaN</td>\n",
       "      <td>NaN</td>\n",
       "      <td>NaN</td>\n",
       "      <td>NaN</td>\n",
       "      <td>NaN</td>\n",
       "    </tr>\n",
       "    <tr>\n",
       "      <th>5055</th>\n",
       "      <td>1971</td>\n",
       "      <td>[long]</td>\n",
       "      <td>NaN</td>\n",
       "      <td>NaN</td>\n",
       "      <td>NaN</td>\n",
       "      <td>NaN</td>\n",
       "      <td>NaN</td>\n",
       "    </tr>\n",
       "    <tr>\n",
       "      <th>5056</th>\n",
       "      <td>1971</td>\n",
       "      <td>[beautiful]</td>\n",
       "      <td>NaN</td>\n",
       "      <td>NaN</td>\n",
       "      <td>NaN</td>\n",
       "      <td>NaN</td>\n",
       "      <td>NaN</td>\n",
       "    </tr>\n",
       "  </tbody>\n",
       "</table>\n",
       "<p>1104 rows × 7 columns</p>\n",
       "</div>"
      ],
      "text/plain": [
       "      year         category1      category2 category3 category4 category5  \\\n",
       "0     1970                []            NaN       NaN       NaN       NaN   \n",
       "3     1970  [unrecognizable]            NaN       NaN       NaN       NaN   \n",
       "8     1970          [sister]            NaN       NaN       NaN       NaN   \n",
       "17    1970            [real]            NaN       NaN       NaN       NaN   \n",
       "20    1970           [young]            NaN       NaN       NaN       NaN   \n",
       "...    ...               ...            ...       ...       ...       ...   \n",
       "5030  2007        [beautiful   captivating]       NaN       NaN       NaN   \n",
       "5034  2008         [widowed]            NaN       NaN       NaN       NaN   \n",
       "5043  2008          [Indian]            NaN       NaN       NaN       NaN   \n",
       "5055  1971            [long]            NaN       NaN       NaN       NaN   \n",
       "5056  1971       [beautiful]            NaN       NaN       NaN       NaN   \n",
       "\n",
       "     category6  \n",
       "0          NaN  \n",
       "3          NaN  \n",
       "8          NaN  \n",
       "17         NaN  \n",
       "20         NaN  \n",
       "...        ...  \n",
       "5030       NaN  \n",
       "5034       NaN  \n",
       "5043       NaN  \n",
       "5055       NaN  \n",
       "5056       NaN  \n",
       "\n",
       "[1104 rows x 7 columns]"
      ]
     },
     "execution_count": 9,
     "metadata": {},
     "output_type": "execute_result"
    }
   ],
   "source": [
    "df1.set_axis(['year','category1','category2','category3','category4','category5','category6'],axis='columns',inplace=True)\n",
    "df1"
   ]
  },
  {
   "cell_type": "code",
   "execution_count": 10,
   "id": "d60f231d",
   "metadata": {
    "scrolled": true
   },
   "outputs": [
    {
     "name": "stdout",
     "output_type": "stream",
     "text": [
      "<class 'pandas.core.frame.DataFrame'>\n",
      "Int64Index: 1104 entries, 0 to 5056\n",
      "Data columns (total 7 columns):\n",
      " #   Column     Non-Null Count  Dtype \n",
      "---  ------     --------------  ----- \n",
      " 0   year       1104 non-null   int64 \n",
      " 1   category1  1104 non-null   object\n",
      " 2   category2  194 non-null    object\n",
      " 3   category3  31 non-null     object\n",
      " 4   category4  11 non-null     object\n",
      " 5   category5  3 non-null      object\n",
      " 6   category6  2 non-null      object\n",
      "dtypes: int64(1), object(6)\n",
      "memory usage: 69.0+ KB\n"
     ]
    }
   ],
   "source": [
    "df1.info()"
   ]
  },
  {
   "cell_type": "code",
   "execution_count": 11,
   "id": "737f5592",
   "metadata": {},
   "outputs": [],
   "source": [
    "df1=df1.fillna(np.nan).replace([np.nan], [None])"
   ]
  },
  {
   "cell_type": "code",
   "execution_count": 12,
   "id": "e940aa83",
   "metadata": {},
   "outputs": [
    {
     "data": {
      "text/plain": [
       "2010    41\n",
       "2015    38\n",
       "2006    38\n",
       "2014    38\n",
       "2016    37\n",
       "2013    36\n",
       "2007    36\n",
       "2003    35\n",
       "2005    34\n",
       "2002    34\n",
       "2008    34\n",
       "2011    32\n",
       "1985    31\n",
       "2012    29\n",
       "1983    29\n",
       "1991    27\n",
       "1993    27\n",
       "2001    26\n",
       "1999    26\n",
       "1997    25\n",
       "2009    21\n",
       "1988    20\n",
       "2004    20\n",
       "1998    20\n",
       "1994    20\n",
       "1972    19\n",
       "1982    19\n",
       "1977    19\n",
       "1992    18\n",
       "1974    18\n",
       "1973    18\n",
       "1996    17\n",
       "2000    17\n",
       "1980    17\n",
       "1976    16\n",
       "1979    15\n",
       "1986    15\n",
       "1970    14\n",
       "1987    14\n",
       "1984    14\n",
       "1981    14\n",
       "1978    13\n",
       "1975    13\n",
       "2017    13\n",
       "1995    13\n",
       "1990    12\n",
       "1989    12\n",
       "1971    10\n",
       "Name: year, dtype: int64"
      ]
     },
     "execution_count": 12,
     "metadata": {},
     "output_type": "execute_result"
    }
   ],
   "source": [
    "df1['year'].value_counts()"
   ]
  },
  {
   "cell_type": "code",
   "execution_count": 13,
   "id": "ae1e8fe4",
   "metadata": {},
   "outputs": [
    {
     "data": {
      "text/plain": [
       "[]               48\n",
       "[young]          43\n",
       "[beautiful]      34\n",
       "[young           31\n",
       "[beautiful       29\n",
       "                 ..\n",
       "[subordinate]     1\n",
       "[obsessive]       1\n",
       "[exotic]          1\n",
       "[remorseless]     1\n",
       "[flat]            1\n",
       "Name: category1, Length: 465, dtype: int64"
      ]
     },
     "execution_count": 13,
     "metadata": {},
     "output_type": "execute_result"
    }
   ],
   "source": [
    "df1['category1'].value_counts()"
   ]
  },
  {
   "cell_type": "code",
   "execution_count": 14,
   "id": "a2af2bab",
   "metadata": {},
   "outputs": [
    {
     "data": {
      "text/plain": [
       " young]          31\n",
       " young            6\n",
       " simple]          5\n",
       " twin]            5\n",
       " real]            5\n",
       "                 ..\n",
       " idealistic]      1\n",
       " persistent       1\n",
       " blonde           1\n",
       " happy            1\n",
       " captivating]     1\n",
       "Name: category2, Length: 111, dtype: int64"
      ]
     },
     "execution_count": 14,
     "metadata": {},
     "output_type": "execute_result"
    }
   ],
   "source": [
    "df1['category2'].value_counts()"
   ]
  },
  {
   "cell_type": "code",
   "execution_count": 15,
   "id": "1582f6d9",
   "metadata": {},
   "outputs": [
    {
     "data": {
      "text/plain": [
       " young]            5\n",
       " little]           2\n",
       " rich]             2\n",
       " married]          1\n",
       " fun]              1\n",
       " different]        1\n",
       " lone              1\n",
       " Ideal             1\n",
       " true              1\n",
       " sheltered         1\n",
       " sweet             1\n",
       " right             1\n",
       " Pakistani]        1\n",
       " twin              1\n",
       " compassionate]    1\n",
       " pregnant]         1\n",
       " hermit]           1\n",
       " authentic         1\n",
       " dignified]        1\n",
       " unmarried]        1\n",
       " short             1\n",
       " worthy            1\n",
       " unaware]          1\n",
       " soft]             1\n",
       " innocent          1\n",
       "Name: category3, dtype: int64"
      ]
     },
     "execution_count": 15,
     "metadata": {},
     "output_type": "execute_result"
    }
   ],
   "source": [
    "df1['category3'].value_counts()"
   ]
  },
  {
   "cell_type": "code",
   "execution_count": 16,
   "id": "7db763e1",
   "metadata": {},
   "outputs": [
    {
     "data": {
      "text/plain": [
       " nameless]      1\n",
       " aggressive]    1\n",
       " missing        1\n",
       " little]        1\n",
       " sweet]         1\n",
       " dreamy]        1\n",
       " liberal]       1\n",
       " real]          1\n",
       " Indian         1\n",
       " good]          1\n",
       " kiddish        1\n",
       "Name: category4, dtype: int64"
      ]
     },
     "execution_count": 16,
     "metadata": {},
     "output_type": "execute_result"
    }
   ],
   "source": [
    "df1['category4'].value_counts()"
   ]
  },
  {
   "cell_type": "code",
   "execution_count": 17,
   "id": "e8f4d052",
   "metadata": {},
   "outputs": [
    {
     "data": {
      "text/plain": [
       " pure          1\n",
       " decent]       1\n",
       " motherless    1\n",
       "Name: category5, dtype: int64"
      ]
     },
     "execution_count": 17,
     "metadata": {},
     "output_type": "execute_result"
    }
   ],
   "source": [
    "df1['category5'].value_counts()"
   ]
  },
  {
   "cell_type": "code",
   "execution_count": 18,
   "id": "f368f15d",
   "metadata": {},
   "outputs": [
    {
     "data": {
      "text/plain": [
       " good]       1\n",
       " playful]    1\n",
       "Name: category6, dtype: int64"
      ]
     },
     "execution_count": 18,
     "metadata": {},
     "output_type": "execute_result"
    }
   ],
   "source": [
    "df1['category6'].value_counts()"
   ]
  },
  {
   "cell_type": "code",
   "execution_count": 19,
   "id": "3e06e589",
   "metadata": {},
   "outputs": [
    {
     "data": {
      "text/html": [
       "<div>\n",
       "<style scoped>\n",
       "    .dataframe tbody tr th:only-of-type {\n",
       "        vertical-align: middle;\n",
       "    }\n",
       "\n",
       "    .dataframe tbody tr th {\n",
       "        vertical-align: top;\n",
       "    }\n",
       "\n",
       "    .dataframe thead th {\n",
       "        text-align: right;\n",
       "    }\n",
       "</style>\n",
       "<table border=\"1\" class=\"dataframe\">\n",
       "  <thead>\n",
       "    <tr style=\"text-align: right;\">\n",
       "      <th></th>\n",
       "      <th>year</th>\n",
       "    </tr>\n",
       "  </thead>\n",
       "  <tbody>\n",
       "    <tr>\n",
       "      <th>count</th>\n",
       "      <td>1104.000000</td>\n",
       "    </tr>\n",
       "    <tr>\n",
       "      <th>mean</th>\n",
       "      <td>1997.242754</td>\n",
       "    </tr>\n",
       "    <tr>\n",
       "      <th>std</th>\n",
       "      <td>13.576783</td>\n",
       "    </tr>\n",
       "    <tr>\n",
       "      <th>min</th>\n",
       "      <td>1970.000000</td>\n",
       "    </tr>\n",
       "    <tr>\n",
       "      <th>25%</th>\n",
       "      <td>1985.000000</td>\n",
       "    </tr>\n",
       "    <tr>\n",
       "      <th>50%</th>\n",
       "      <td>2000.000000</td>\n",
       "    </tr>\n",
       "    <tr>\n",
       "      <th>75%</th>\n",
       "      <td>2009.000000</td>\n",
       "    </tr>\n",
       "    <tr>\n",
       "      <th>max</th>\n",
       "      <td>2017.000000</td>\n",
       "    </tr>\n",
       "  </tbody>\n",
       "</table>\n",
       "</div>"
      ],
      "text/plain": [
       "              year\n",
       "count  1104.000000\n",
       "mean   1997.242754\n",
       "std      13.576783\n",
       "min    1970.000000\n",
       "25%    1985.000000\n",
       "50%    2000.000000\n",
       "75%    2009.000000\n",
       "max    2017.000000"
      ]
     },
     "execution_count": 19,
     "metadata": {},
     "output_type": "execute_result"
    }
   ],
   "source": [
    "df1.describe()"
   ]
  },
  {
   "cell_type": "code",
   "execution_count": 20,
   "id": "b2b946b6",
   "metadata": {},
   "outputs": [],
   "source": [
    "import category_encoders as ce"
   ]
  },
  {
   "cell_type": "code",
   "execution_count": 21,
   "id": "efe1687c",
   "metadata": {},
   "outputs": [],
   "source": [
    "X=df1.drop('year',axis=1)\n",
    "Y=df1['year']"
   ]
  },
  {
   "cell_type": "code",
   "execution_count": 22,
   "id": "d4d75e01",
   "metadata": {},
   "outputs": [],
   "source": [
    "from sklearn.model_selection import train_test_split\n",
    "X_train, X_test,y_train,y_test =train_test_split(X,Y, test_size=0.40)"
   ]
  },
  {
   "cell_type": "code",
   "execution_count": 23,
   "id": "28c8b06c",
   "metadata": {},
   "outputs": [
    {
     "data": {
      "text/plain": [
       "((662, 6), (442, 6), (662,), (442,))"
      ]
     },
     "execution_count": 23,
     "metadata": {},
     "output_type": "execute_result"
    }
   ],
   "source": [
    "X_train.shape,X_test.shape,y_train.shape,y_test.shape"
   ]
  },
  {
   "cell_type": "code",
   "execution_count": 24,
   "id": "dda8c14e",
   "metadata": {},
   "outputs": [
    {
     "data": {
      "text/html": [
       "<div>\n",
       "<style scoped>\n",
       "    .dataframe tbody tr th:only-of-type {\n",
       "        vertical-align: middle;\n",
       "    }\n",
       "\n",
       "    .dataframe tbody tr th {\n",
       "        vertical-align: top;\n",
       "    }\n",
       "\n",
       "    .dataframe thead th {\n",
       "        text-align: right;\n",
       "    }\n",
       "</style>\n",
       "<table border=\"1\" class=\"dataframe\">\n",
       "  <thead>\n",
       "    <tr style=\"text-align: right;\">\n",
       "      <th></th>\n",
       "      <th>category1</th>\n",
       "      <th>category2</th>\n",
       "      <th>category3</th>\n",
       "      <th>category4</th>\n",
       "      <th>category5</th>\n",
       "      <th>category6</th>\n",
       "    </tr>\n",
       "  </thead>\n",
       "  <tbody>\n",
       "    <tr>\n",
       "      <th>862</th>\n",
       "      <td>[new]</td>\n",
       "      <td>None</td>\n",
       "      <td>None</td>\n",
       "      <td>None</td>\n",
       "      <td>None</td>\n",
       "      <td>None</td>\n",
       "    </tr>\n",
       "    <tr>\n",
       "      <th>3794</th>\n",
       "      <td>[blind]</td>\n",
       "      <td>None</td>\n",
       "      <td>None</td>\n",
       "      <td>None</td>\n",
       "      <td>None</td>\n",
       "      <td>None</td>\n",
       "    </tr>\n",
       "    <tr>\n",
       "      <th>2902</th>\n",
       "      <td>[undercover]</td>\n",
       "      <td>None</td>\n",
       "      <td>None</td>\n",
       "      <td>None</td>\n",
       "      <td>None</td>\n",
       "      <td>None</td>\n",
       "    </tr>\n",
       "    <tr>\n",
       "      <th>931</th>\n",
       "      <td>[little]</td>\n",
       "      <td>None</td>\n",
       "      <td>None</td>\n",
       "      <td>None</td>\n",
       "      <td>None</td>\n",
       "      <td>None</td>\n",
       "    </tr>\n",
       "    <tr>\n",
       "      <th>409</th>\n",
       "      <td>[religious]</td>\n",
       "      <td>None</td>\n",
       "      <td>None</td>\n",
       "      <td>None</td>\n",
       "      <td>None</td>\n",
       "      <td>None</td>\n",
       "    </tr>\n",
       "    <tr>\n",
       "      <th>1884</th>\n",
       "      <td>[popular]</td>\n",
       "      <td>None</td>\n",
       "      <td>None</td>\n",
       "      <td>None</td>\n",
       "      <td>None</td>\n",
       "      <td>None</td>\n",
       "    </tr>\n",
       "    <tr>\n",
       "      <th>3464</th>\n",
       "      <td>[unwilling]</td>\n",
       "      <td>None</td>\n",
       "      <td>None</td>\n",
       "      <td>None</td>\n",
       "      <td>None</td>\n",
       "      <td>None</td>\n",
       "    </tr>\n",
       "    <tr>\n",
       "      <th>2905</th>\n",
       "      <td>[young]</td>\n",
       "      <td>None</td>\n",
       "      <td>None</td>\n",
       "      <td>None</td>\n",
       "      <td>None</td>\n",
       "      <td>None</td>\n",
       "    </tr>\n",
       "    <tr>\n",
       "      <th>1899</th>\n",
       "      <td>[widowed]</td>\n",
       "      <td>None</td>\n",
       "      <td>None</td>\n",
       "      <td>None</td>\n",
       "      <td>None</td>\n",
       "      <td>None</td>\n",
       "    </tr>\n",
       "    <tr>\n",
       "      <th>395</th>\n",
       "      <td>[princess]</td>\n",
       "      <td>None</td>\n",
       "      <td>None</td>\n",
       "      <td>None</td>\n",
       "      <td>None</td>\n",
       "      <td>None</td>\n",
       "    </tr>\n",
       "  </tbody>\n",
       "</table>\n",
       "</div>"
      ],
      "text/plain": [
       "         category1 category2 category3 category4 category5 category6\n",
       "862          [new]      None      None      None      None      None\n",
       "3794       [blind]      None      None      None      None      None\n",
       "2902  [undercover]      None      None      None      None      None\n",
       "931       [little]      None      None      None      None      None\n",
       "409    [religious]      None      None      None      None      None\n",
       "1884     [popular]      None      None      None      None      None\n",
       "3464   [unwilling]      None      None      None      None      None\n",
       "2905       [young]      None      None      None      None      None\n",
       "1899     [widowed]      None      None      None      None      None\n",
       "395     [princess]      None      None      None      None      None"
      ]
     },
     "execution_count": 24,
     "metadata": {},
     "output_type": "execute_result"
    }
   ],
   "source": [
    "X_train.head(10)"
   ]
  },
  {
   "cell_type": "code",
   "execution_count": 25,
   "id": "f3994141",
   "metadata": {},
   "outputs": [],
   "source": [
    "encoder = ce.OrdinalEncoder(cols=['category1', 'category2', 'category3', 'category4', 'category5','category6'])\n",
    "\n",
    "\n",
    "X_train = encoder.fit_transform(X_train)\n",
    "\n",
    "X_test = encoder.transform(X_test)"
   ]
  },
  {
   "cell_type": "code",
   "execution_count": 26,
   "id": "fa5a9013",
   "metadata": {},
   "outputs": [],
   "source": [
    "from sklearn.ensemble import RandomForestRegressor\n",
    "regressor_rf = RandomForestRegressor(random_state=42)"
   ]
  },
  {
   "cell_type": "code",
   "execution_count": 27,
   "id": "099d1f76",
   "metadata": {},
   "outputs": [
    {
     "data": {
      "text/plain": [
       "RandomForestRegressor(random_state=42)"
      ]
     },
     "execution_count": 27,
     "metadata": {},
     "output_type": "execute_result"
    }
   ],
   "source": [
    "regressor_rf.fit(X_train,y_train)"
   ]
  },
  {
   "cell_type": "code",
   "execution_count": 28,
   "id": "ce2acaa6",
   "metadata": {},
   "outputs": [
    {
     "data": {
      "text/plain": [
       "array([1991.93668403, 1992.42056746, 1996.15139026, 1992.8179397 ,\n",
       "       1994.60775699, 1996.15139026, 1991.93668403, 1981.47      ,\n",
       "       1991.63091497, 2010.72      , 1996.15139026, 1994.98108403,\n",
       "       1996.15139026, 1999.20771157, 1996.15139026, 1996.15139026,\n",
       "       1996.15139026, 1994.98108403, 1996.15139026, 1996.15139026,\n",
       "       1996.19888095, 1996.15139026, 1996.15139026, 1996.15139026,\n",
       "       1992.8179397 , 1991.93668403, 1990.47      , 1996.15139026,\n",
       "       2002.57      , 1994.60775699, 1996.15139026, 1993.86333333,\n",
       "       1996.15139026, 2000.20028914, 1991.738     , 1996.15139026,\n",
       "       1990.86677778, 2000.20616667, 1996.15139026, 2005.91133333,\n",
       "       1988.        , 1996.15139026, 1994.5768967 , 1996.15139026,\n",
       "       1996.15139026, 1994.98108403, 1982.69791667, 1993.22297899,\n",
       "       2000.20028914, 1996.0265119 , 1996.15139026, 1996.15139026,\n",
       "       1985.91526062, 1995.31      , 1988.38908333, 1994.5768967 ,\n",
       "       2002.68      , 1996.15139026, 2000.20028914, 1998.6810873 ,\n",
       "       1981.47      , 2002.17      , 1997.57      , 1996.15139026,\n",
       "       1996.15139026, 1981.47      , 1993.22297899, 1992.50579762,\n",
       "       1986.24091667, 1996.15139026, 1994.98108403, 1994.98108403,\n",
       "       1996.15139026, 2004.4       , 1996.15139026, 1988.38908333,\n",
       "       2009.315     , 2001.95667063, 1994.60775699, 2000.20616667,\n",
       "       1992.50579762, 1996.15139026, 2002.95736508, 1982.97592857,\n",
       "       1986.24091667, 1996.15139026, 1996.15139026, 1990.86677778,\n",
       "       1994.87592697, 1994.87592697, 1996.0265119 , 1994.5768967 ,\n",
       "       1994.5768967 , 1994.37122149, 2009.47946825, 1996.15139026,\n",
       "       1996.15139026, 1994.72388095, 1992.8179397 , 1996.15139026,\n",
       "       1994.60775699, 1999.20771157, 2000.035     , 2001.95667063,\n",
       "       1994.98108403, 1989.68450397, 1996.15139026, 1988.706     ,\n",
       "       2008.63166667, 1986.24091667, 1997.82      , 2004.054     ,\n",
       "       1989.05      , 2000.20028914, 2006.77      , 1998.6810873 ,\n",
       "       2006.48333333, 1996.15139026, 1996.15139026, 1994.72388095,\n",
       "       1994.34642262, 1994.98108403, 1998.675     , 1994.60775699,\n",
       "       2002.68      , 1999.20771157, 1991.63091497, 1996.15139026,\n",
       "       2006.68765337, 1999.99060876, 2003.11569841, 1998.02566667,\n",
       "       1978.42362477, 2008.42      , 1993.547921  , 1994.60775699,\n",
       "       2006.68765337, 1996.87365488, 1992.8179397 , 1996.15139026,\n",
       "       1996.15139026, 2006.77      , 1990.1964265 , 1995.59      ,\n",
       "       1996.15139026, 1991.63091497, 1992.47      , 1992.8179397 ,\n",
       "       1996.15139026, 1994.60775699, 2004.978     , 2001.95667063,\n",
       "       1992.8179397 , 2005.08966667, 1996.15139026, 1995.77      ,\n",
       "       1996.15139026, 1996.15139026, 1994.87592697, 1996.15139026,\n",
       "       1990.1964265 , 1991.4714816 , 2002.57      , 2001.57542857,\n",
       "       1991.67511926, 1996.15139026, 1991.4714816 , 1996.15139026,\n",
       "       1996.15139026, 1979.8552381 , 1996.15139026, 1994.98108403,\n",
       "       1988.37641667, 1996.15139026, 1989.89957143, 1986.51      ,\n",
       "       1992.8179397 , 1997.70363187, 1996.15139026, 1996.15139026,\n",
       "       1988.34      , 1993.87      , 2006.68765337, 1996.15139026,\n",
       "       1996.15139026, 1996.15139026, 2004.054     , 1992.50579762,\n",
       "       2005.45583333, 1992.8179397 , 1996.15139026, 1996.15139026,\n",
       "       1994.98108403, 1996.87365488, 1992.8179397 , 1985.91526062,\n",
       "       1981.71516667, 1996.15139026, 1994.37122149, 1994.5768967 ,\n",
       "       1996.15139026, 1990.98333333, 1996.15139026, 1996.15139026,\n",
       "       2006.68765337, 1996.15139026, 1996.15139026, 1992.8179397 ,\n",
       "       1999.7       , 2003.175     , 1994.98108403, 1994.37122149,\n",
       "       1996.15139026, 1996.15139026, 1996.15139026, 1994.5768967 ,\n",
       "       1993.97      , 1996.0265119 , 1995.59      , 1996.15139026,\n",
       "       1996.15139026, 1994.72388095, 1994.37122149, 1994.98108403,\n",
       "       1994.37122149, 1996.149     , 1990.1964265 , 1991.93668403,\n",
       "       1992.8179397 , 1991.93668403, 1996.15139026, 1989.68450397,\n",
       "       1996.15139026, 1994.98108403, 2001.09      , 1989.89957143,\n",
       "       2006.68765337, 1996.15139026, 1992.8179397 , 1996.15139026,\n",
       "       1990.34933333, 1993.86333333, 2001.12314286, 2006.48333333,\n",
       "       1991.67511926, 1996.15139026, 1998.60707308, 1996.15139026,\n",
       "       1994.37122149, 2011.631     , 1998.19      , 2000.20616667,\n",
       "       1981.47      , 1994.55      , 1996.15139026, 1996.15139026,\n",
       "       1994.60775699, 1991.63091497, 1996.70583333, 2000.20028914,\n",
       "       1996.15139026, 1989.99      , 1992.8179397 , 1996.15139026,\n",
       "       1994.60775699, 1991.67511926, 1996.15139026, 1994.98108403,\n",
       "       1996.15139026, 1996.15139026, 1994.34642262, 2000.8575    ,\n",
       "       1996.15139026, 1996.70583333, 1991.93668403, 1994.87592697,\n",
       "       1994.37122149, 1996.15139026, 1996.15139026, 1990.1964265 ,\n",
       "       1996.01105665, 1994.98108403, 2000.20616667, 1996.15139026,\n",
       "       1994.65266667, 1994.5768967 , 2000.20028914, 1994.98108403,\n",
       "       1994.34642262, 1996.15139026, 1996.15139026, 1990.86677778,\n",
       "       1994.60775699, 1994.5768967 , 1991.11571429, 2005.45583333,\n",
       "       1991.6304329 , 1996.87365488, 2000.29335714, 1996.15139026,\n",
       "       1994.37122149, 1978.65      , 1996.15139026, 1999.43928571,\n",
       "       1996.15139026, 2005.928     , 1986.72      , 1994.37122149,\n",
       "       1997.11883333, 1990.34933333, 1997.45029258, 1985.91526062,\n",
       "       1999.20771157, 1994.72388095, 1996.15139026, 1993.415     ,\n",
       "       1996.15139026, 1998.60707308, 1992.8179397 , 1996.15139026,\n",
       "       1994.60775699, 1996.15139026, 1996.15139026, 1996.15139026,\n",
       "       1996.15139026, 2000.55      , 2008.63166667, 1996.15139026,\n",
       "       1996.15139026, 1997.20029258, 1992.50579762, 1990.98333333,\n",
       "       1991.67511926, 1996.15139026, 1996.15139026, 2006.68765337,\n",
       "       1994.72388095, 1994.98108403, 1999.20771157, 2006.68765337,\n",
       "       1993.22297899, 1988.18      , 2008.44165079, 1996.84      ,\n",
       "       1992.98416667, 1994.87592697, 2000.29335714, 2004.79      ,\n",
       "       1996.15139026, 1994.60775699, 1994.98108403, 1996.15139026,\n",
       "       1996.15139026, 1996.15139026, 1994.60775699, 1996.15139026,\n",
       "       1998.76      , 1996.15139026, 1999.20771157, 2003.43466667,\n",
       "       1994.60775699, 2008.44165079, 1996.15139026, 1996.15139026,\n",
       "       1996.15139026, 1994.5768967 , 2007.5       , 1994.34642262,\n",
       "       2000.20616667, 1991.69655159, 1991.63091497, 1989.99      ,\n",
       "       1992.8179397 , 1996.15139026, 1996.15139026, 1996.15139026,\n",
       "       1996.15139026, 1996.15139026, 1998.01194841, 2000.20028914,\n",
       "       1990.1964265 , 1996.15139026, 1992.8179397 , 1992.8179397 ,\n",
       "       2003.685     , 1996.15139026, 2009.678     , 1996.15139026,\n",
       "       1996.01105665, 1996.15139026, 2006.5325    , 2002.57      ,\n",
       "       1996.149     , 1996.55761905, 1994.60775699, 1996.15139026,\n",
       "       1996.15139026, 1991.67511926, 1996.15139026, 1996.15139026,\n",
       "       1996.15139026, 1992.8179397 , 1991.93668403, 2011.631     ,\n",
       "       1994.87592697, 1996.15139026, 1996.15139026, 1990.47      ,\n",
       "       1996.15139026, 1996.15139026, 1996.15139026, 1996.15139026,\n",
       "       1991.67511926, 1996.15139026, 1993.22297899, 1991.67511926,\n",
       "       1994.98108403, 1996.15139026, 2003.175     , 2008.97      ,\n",
       "       1993.22018473, 1996.15139026, 1981.71      , 1992.8179397 ,\n",
       "       1998.19      , 1996.84      , 1986.24091667, 1996.15139026,\n",
       "       2000.20616667, 1992.50579762, 1985.91526062, 1991.93668403,\n",
       "       1994.5768967 , 1996.15139026, 1996.15139026, 1996.15139026,\n",
       "       1985.77183333, 1991.93668403, 1996.15139026, 1992.8179397 ,\n",
       "       1991.58      , 1996.15139026])"
      ]
     },
     "execution_count": 28,
     "metadata": {},
     "output_type": "execute_result"
    }
   ],
   "source": [
    "y_pred = regressor_rf.predict(X_test)\n",
    "y_pred"
   ]
  },
  {
   "cell_type": "code",
   "execution_count": 29,
   "id": "273c4ce9",
   "metadata": {},
   "outputs": [],
   "source": [
    "cutoff = 0.6                             \n",
    "y_pred_classes = np.zeros_like(y_pred)    \n",
    "y_pred_classes[y_pred > cutoff] = 1  \n",
    "y_test_classes = np.zeros_like(y_pred)\n",
    "y_test_classes[y_test > cutoff] = 1\n"
   ]
  },
  {
   "cell_type": "code",
   "execution_count": 30,
   "id": "6c0469d6",
   "metadata": {},
   "outputs": [],
   "source": [
    "from sklearn.metrics import accuracy_score\n",
    "female=(accuracy_score(y_test_classes,y_pred_classes))"
   ]
  },
  {
   "cell_type": "code",
   "execution_count": 31,
   "id": "ba021b3b",
   "metadata": {},
   "outputs": [
    {
     "data": {
      "text/plain": [
       "1.0"
      ]
     },
     "execution_count": 31,
     "metadata": {},
     "output_type": "execute_result"
    }
   ],
   "source": [
    "female"
   ]
  },
  {
   "cell_type": "code",
   "execution_count": 32,
   "id": "900b384b",
   "metadata": {},
   "outputs": [],
   "source": [
    "df2=mdf.set_axis(['year','category1','category2','category3','category4','category5','category6'],axis='columns',inplace=True)\n",
    "df2"
   ]
  },
  {
   "cell_type": "code",
   "execution_count": 33,
   "id": "2e892f94",
   "metadata": {},
   "outputs": [],
   "source": [
    "df2=mdf.drop_duplicates()"
   ]
  },
  {
   "cell_type": "code",
   "execution_count": 34,
   "id": "27f98630",
   "metadata": {},
   "outputs": [
    {
     "data": {
      "text/html": [
       "<div>\n",
       "<style scoped>\n",
       "    .dataframe tbody tr th:only-of-type {\n",
       "        vertical-align: middle;\n",
       "    }\n",
       "\n",
       "    .dataframe tbody tr th {\n",
       "        vertical-align: top;\n",
       "    }\n",
       "\n",
       "    .dataframe thead th {\n",
       "        text-align: right;\n",
       "    }\n",
       "</style>\n",
       "<table border=\"1\" class=\"dataframe\">\n",
       "  <thead>\n",
       "    <tr style=\"text-align: right;\">\n",
       "      <th></th>\n",
       "      <th>year</th>\n",
       "    </tr>\n",
       "  </thead>\n",
       "  <tbody>\n",
       "    <tr>\n",
       "      <th>count</th>\n",
       "      <td>1589.000000</td>\n",
       "    </tr>\n",
       "    <tr>\n",
       "      <th>mean</th>\n",
       "      <td>1997.556325</td>\n",
       "    </tr>\n",
       "    <tr>\n",
       "      <th>std</th>\n",
       "      <td>13.332462</td>\n",
       "    </tr>\n",
       "    <tr>\n",
       "      <th>min</th>\n",
       "      <td>1970.000000</td>\n",
       "    </tr>\n",
       "    <tr>\n",
       "      <th>25%</th>\n",
       "      <td>1987.000000</td>\n",
       "    </tr>\n",
       "    <tr>\n",
       "      <th>50%</th>\n",
       "      <td>1999.000000</td>\n",
       "    </tr>\n",
       "    <tr>\n",
       "      <th>75%</th>\n",
       "      <td>2009.000000</td>\n",
       "    </tr>\n",
       "    <tr>\n",
       "      <th>max</th>\n",
       "      <td>2017.000000</td>\n",
       "    </tr>\n",
       "  </tbody>\n",
       "</table>\n",
       "</div>"
      ],
      "text/plain": [
       "              year\n",
       "count  1589.000000\n",
       "mean   1997.556325\n",
       "std      13.332462\n",
       "min    1970.000000\n",
       "25%    1987.000000\n",
       "50%    1999.000000\n",
       "75%    2009.000000\n",
       "max    2017.000000"
      ]
     },
     "execution_count": 34,
     "metadata": {},
     "output_type": "execute_result"
    }
   ],
   "source": [
    "df2.describe()"
   ]
  },
  {
   "cell_type": "code",
   "execution_count": 35,
   "id": "17e7a526",
   "metadata": {},
   "outputs": [],
   "source": [
    "X=df2.drop('year',axis=1)\n",
    "Y=df2['year']"
   ]
  },
  {
   "cell_type": "code",
   "execution_count": 36,
   "id": "8b0e31aa",
   "metadata": {},
   "outputs": [],
   "source": [
    "from sklearn.model_selection import train_test_split\n",
    "X_train, X_test,y_train,y_test =train_test_split(X,Y, test_size=0.40)"
   ]
  },
  {
   "cell_type": "code",
   "execution_count": 37,
   "id": "110264d6",
   "metadata": {},
   "outputs": [
    {
     "data": {
      "text/plain": [
       "((953, 6), (636, 6), (953,), (636,))"
      ]
     },
     "execution_count": 37,
     "metadata": {},
     "output_type": "execute_result"
    }
   ],
   "source": [
    "X_train.shape,X_test.shape,y_train.shape,y_test.shape"
   ]
  },
  {
   "cell_type": "code",
   "execution_count": 38,
   "id": "e7f96cd7",
   "metadata": {},
   "outputs": [],
   "source": [
    "encoder = ce.OrdinalEncoder(cols=['category1', 'category2', 'category3', 'category4', 'category5','category6'])\n",
    "X_train = encoder.fit_transform(X_train)\n",
    "X_test = encoder.transform(X_test)"
   ]
  },
  {
   "cell_type": "code",
   "execution_count": 39,
   "id": "9f99e0ec",
   "metadata": {},
   "outputs": [],
   "source": [
    "from sklearn.ensemble import RandomForestClassifier\n",
    "c_rf = RandomForestClassifier(random_state=42)"
   ]
  },
  {
   "cell_type": "code",
   "execution_count": 40,
   "id": "96fe3313",
   "metadata": {},
   "outputs": [
    {
     "data": {
      "text/plain": [
       "RandomForestClassifier(random_state=42)"
      ]
     },
     "execution_count": 40,
     "metadata": {},
     "output_type": "execute_result"
    }
   ],
   "source": [
    "c_rf.fit(X_train,y_train)"
   ]
  },
  {
   "cell_type": "code",
   "execution_count": 41,
   "id": "4bb81c60",
   "metadata": {},
   "outputs": [
    {
     "data": {
      "text/plain": [
       "array([1994, 1993, 1993, 1990, 1990, 2010, 1990, 1992, 2009, 1990, 1990,\n",
       "       2012, 1992, 1990, 2013, 1993, 1996, 1993, 2009, 1986, 2015, 1990,\n",
       "       1971, 1990, 2003, 2005, 2004, 2017, 2005, 2015, 2004, 1990, 2005,\n",
       "       2003, 1990, 1990, 1990, 1990, 1990, 1990, 2006, 1990, 2011, 2013,\n",
       "       2015, 2003, 1990, 1977, 1986, 1990, 1972, 2002, 2008, 1990, 1990,\n",
       "       2003, 1990, 1971, 2001, 1971, 1990, 2016, 1990, 1990, 2015, 1992,\n",
       "       1992, 1987, 1993, 1997, 1985, 1996, 1986, 2003, 2009, 2008, 2012,\n",
       "       2013, 2015, 1990, 1990, 1986, 2015, 1990, 1992, 2011, 1999, 1993,\n",
       "       1999, 1990, 2015, 1997, 2011, 1990, 1980, 2015, 2007, 2014, 1990,\n",
       "       1976, 1990, 1990, 1990, 1992, 2004, 1990, 2010, 1992, 2006, 1990,\n",
       "       1990, 1980, 1990, 1990, 1999, 1999, 1990, 1990, 1990, 1987, 2011,\n",
       "       2007, 1972, 1993, 1990, 1999, 2005, 1987, 1990, 1990, 1990, 1999,\n",
       "       1985, 2007, 1986, 2013, 1990, 1993, 1990, 1990, 1990, 1990, 1994,\n",
       "       2012, 1994, 1983, 1990, 1999, 1990, 2004, 2010, 1986, 1971, 1996,\n",
       "       2010, 2005, 1996, 2007, 1990, 2005, 1986, 1983, 1990, 1996, 2010,\n",
       "       1990, 1982, 2015, 1999, 1990, 1990, 1990, 1976, 1998, 1990, 2010,\n",
       "       1990, 1971, 1990, 2010, 1990, 1993, 1993, 1990, 1993, 1990, 1990,\n",
       "       1990, 2011, 2007, 1990, 1972, 1990, 2003, 1972, 1990, 1990, 1975,\n",
       "       2007, 1990, 2005, 1979, 1990, 1992, 2009, 1990, 2005, 1997, 1990,\n",
       "       2004, 1990, 1977, 1990, 1990, 2009, 2016, 1990, 1990, 1987, 1996,\n",
       "       2006, 2005, 1990, 1990, 1990, 1990, 1990, 1999, 1982, 1990, 2009,\n",
       "       1984, 2003, 2004, 1990, 1992, 1990, 1990, 1992, 1992, 1990, 1990,\n",
       "       1990, 1996, 1993, 1996, 2007, 2011, 2003, 1990, 2015, 2007, 1992,\n",
       "       1990, 1990, 1982, 1990, 1984, 1999, 1990, 1990, 2007, 1990, 2007,\n",
       "       1990, 1994, 1990, 1979, 1972, 1990, 2006, 1999, 2010, 1979, 2005,\n",
       "       1987, 2015, 1987, 1990, 2004, 2002, 1990, 2011, 1990, 1990, 1990,\n",
       "       1987, 1989, 2013, 2003, 2011, 1990, 1992, 1992, 2013, 2010, 1982,\n",
       "       1997, 1990, 2005, 2015, 2012, 1990, 1972, 2015, 1992, 1993, 1990,\n",
       "       1990, 2005, 1990, 2012, 1999, 2007, 1992, 1990, 1996, 2013, 1990,\n",
       "       2011, 1983, 1990, 1990, 2006, 1988, 1990, 2004, 1992, 1996, 1988,\n",
       "       1987, 1991, 2012, 2005, 2002, 2009, 1990, 1990, 1990, 1997, 1990,\n",
       "       2003, 2005, 1972, 1990, 1990, 1990, 1990, 1990, 1990, 1999, 1990,\n",
       "       1990, 1992, 2010, 2011, 1992, 1999, 2015, 2005, 2011, 2006, 2002,\n",
       "       1983, 1990, 1993, 1990, 1972, 1990, 1990, 1992, 1990, 1999, 1990,\n",
       "       1990, 1993, 1999, 1999, 1990, 2012, 1999, 1990, 1990, 1990, 2010,\n",
       "       1993, 1987, 1994, 1998, 1990, 1987, 1990, 1992, 1979, 2011, 1990,\n",
       "       2005, 2005, 1990, 1996, 1994, 1990, 2008, 1999, 1990, 1977, 1999,\n",
       "       1980, 1990, 2012, 1990, 2007, 1990, 1990, 1992, 1996, 1990, 1971,\n",
       "       1990, 1992, 1990, 1990, 1990, 1990, 2015, 1990, 1999, 2008, 1986,\n",
       "       1990, 2015, 1980, 1987, 2004, 1990, 2012, 1972, 1990, 1990, 2003,\n",
       "       1990, 1997, 2005, 1986, 1996, 1977, 1990, 1990, 2003, 1993, 1999,\n",
       "       1990, 1993, 2007, 1994, 1993, 1982, 2006, 2005, 2011, 1990, 1993,\n",
       "       1990, 1982, 1990, 1990, 2009, 1990, 1984, 1990, 1977, 1990, 1986,\n",
       "       1990, 1990, 1986, 2005, 2003, 1992, 1997, 1999, 1988, 2005, 1990,\n",
       "       1999, 1990, 1990, 1992, 2011, 1990, 1995, 1994, 1997, 1990, 1990,\n",
       "       2008, 1992, 1993, 1990, 1990, 2015, 2013, 2005, 1972, 1987, 1980,\n",
       "       1986, 1990, 1990, 1986, 1990, 1990, 2003, 2010, 2007, 2010, 1993,\n",
       "       1990, 1997, 1990, 1990, 2004, 1990, 2013, 1990, 1990, 1972, 1990,\n",
       "       2005, 2005, 1993, 1986, 1990, 1990, 2011, 1990, 1993, 1990, 1993,\n",
       "       1997, 1987, 1990, 1995, 2005, 1990, 1990, 1987, 1990, 1990, 2003,\n",
       "       1990, 2005, 2006, 2010, 2011, 1990, 1999, 1996, 2004, 2005, 1999,\n",
       "       2005, 1990, 2005, 1992, 1999, 2006, 1992, 2004, 1991, 2016, 1997,\n",
       "       2005, 1990, 1990, 1992, 1993, 1972, 2012, 1996, 1990, 1990, 1990,\n",
       "       1990, 1986, 1990, 1971, 1997, 1990, 1990, 2017, 1990, 1990, 1990,\n",
       "       1995, 1987, 1990, 1990, 1993, 1990, 2005, 1990, 2004, 2001, 2012,\n",
       "       1990, 1992, 2012, 1977, 1997, 1990, 2016, 1990, 1981, 1997, 2004,\n",
       "       1990, 1990, 2004, 1990, 1992, 1995, 1972, 1990, 1992, 2004, 1990,\n",
       "       1990, 2007, 1982, 1990, 1990, 1997, 1972, 1990, 1990], dtype=int64)"
      ]
     },
     "execution_count": 41,
     "metadata": {},
     "output_type": "execute_result"
    }
   ],
   "source": [
    "y_pred = c_rf.predict(X_test)\n",
    "y_pred"
   ]
  },
  {
   "cell_type": "code",
   "execution_count": 42,
   "id": "341d7def",
   "metadata": {},
   "outputs": [],
   "source": [
    "from sklearn.metrics import accuracy_score\n",
    "male=(accuracy_score(y_test,y_pred))"
   ]
  },
  {
   "cell_type": "code",
   "execution_count": 43,
   "id": "5def7c1b",
   "metadata": {},
   "outputs": [
    {
     "data": {
      "text/plain": [
       "0.014150943396226415"
      ]
     },
     "execution_count": 43,
     "metadata": {},
     "output_type": "execute_result"
    }
   ],
   "source": [
    "male"
   ]
  },
  {
   "cell_type": "code",
   "execution_count": 44,
   "id": "c15851a8",
   "metadata": {},
   "outputs": [],
   "source": [
    "import datacompy"
   ]
  },
  {
   "cell_type": "code",
   "execution_count": 45,
   "id": "50e1cf08",
   "metadata": {},
   "outputs": [
    {
     "name": "stderr",
     "output_type": "stream",
     "text": [
      "C:\\Users\\Thispc\\AppData\\Roaming\\Python\\Python39\\site-packages\\datacompy\\core.py:259: SettingWithCopyWarning: \n",
      "A value is trying to be set on a copy of a slice from a DataFrame.\n",
      "Try using .loc[row_indexer,col_indexer] = value instead\n",
      "\n",
      "See the caveats in the documentation: https://pandas.pydata.org/pandas-docs/stable/user_guide/indexing.html#returning-a-view-versus-a-copy\n",
      "  self.df2[order_column] = generate_id_within_group(\n",
      "C:\\Users\\Thispc\\AppData\\Roaming\\Python\\Python39\\site-packages\\datacompy\\core.py:290: SettingWithCopyWarning: \n",
      "A value is trying to be set on a copy of a slice from a DataFrame\n",
      "\n",
      "See the caveats in the documentation: https://pandas.pydata.org/pandas-docs/stable/user_guide/indexing.html#returning-a-view-versus-a-copy\n",
      "  self.df2.drop(order_column, axis=1, inplace=True)\n"
     ]
    }
   ],
   "source": [
    "compare = datacompy.Compare(df1,df2,join_columns='year')"
   ]
  },
  {
   "cell_type": "code",
   "execution_count": 46,
   "id": "c5672188",
   "metadata": {},
   "outputs": [
    {
     "name": "stdout",
     "output_type": "stream",
     "text": [
      "DataComPy Comparison\n",
      "--------------------\n",
      "\n",
      "DataFrame Summary\n",
      "-----------------\n",
      "\n",
      "  DataFrame  Columns  Rows\n",
      "0       df1        7  1104\n",
      "1       df2        7  1589\n",
      "\n",
      "Column Summary\n",
      "--------------\n",
      "\n",
      "Number of columns in common: 7\n",
      "Number of columns in df1 but not in df2: 0\n",
      "Number of columns in df2 but not in df1: 0\n",
      "\n",
      "Row Summary\n",
      "-----------\n",
      "\n",
      "Matched on: year\n",
      "Any duplicates on match values: Yes\n",
      "Absolute Tolerance: 0\n",
      "Relative Tolerance: 0\n",
      "Number of rows in common: 1,075\n",
      "Number of rows in df1 but not in df2: 29\n",
      "Number of rows in df2 but not in df1: 514\n",
      "\n",
      "Number of rows with some compared columns unequal: 1,036\n",
      "Number of rows with all compared columns equal: 39\n",
      "\n",
      "Column Comparison\n",
      "-----------------\n",
      "\n",
      "Number of columns compared with some values unequal: 6\n",
      "Number of columns compared with all values equal: 1\n",
      "Total number of values which compare unequal: 1,457\n",
      "\n",
      "Columns with Unequal Values or Types\n",
      "------------------------------------\n",
      "\n",
      "      Column df1 dtype df2 dtype  # Unequal  Max Diff  # Null Diff\n",
      "0  category1    object    object       1032         0            0\n",
      "1  category2    object    object        337         0          307\n",
      "2  category3    object    object         65         0           64\n",
      "3  category4    object    object         17         0           17\n",
      "4  category5    object    object          4         0            4\n",
      "5  category6    object    object          2         0            2\n",
      "\n",
      "Sample Rows with Unequal Values\n",
      "-------------------------------\n",
      "\n",
      "      year category1 (df1) category1 (df2)\n",
      "176   1983          [rich]      [faithful]\n",
      "485   2003        [common]          [rich]\n",
      "273   1991        [sister]              []\n",
      "642   2010        [lovely]      [lifeless]\n",
      "407   2000     [distressed        [common]\n",
      "911   1980        [Indian]         [angry]\n",
      "1075  2003         [elder]          [Holy]\n",
      "185   1984       [budding]         [young]\n",
      "278   1991           [ill]       [deceased\n",
      "60    1976     [unmarried]        [greedy]\n",
      "\n",
      "     year category2 (df1) category2 (df2)\n",
      "687  2015            None         secure]\n",
      "339  1996            None         wealthy\n",
      "986  1993            new]             NaN\n",
      "729  2013         ailing]             NaN\n",
      "248  1988           poor]          burly]\n",
      "502  2004            None           rich]\n",
      "856  1994         orphan]             NaN\n",
      "854  1994          young]           real]\n",
      "921  2014            None    intelligent]\n",
      "410  2000            None       paranoid]\n",
      "\n",
      "      year  category3 (df1) category3 (df2)\n",
      "399   1999   compassionate]     uneducated]\n",
      "790   2010             None        vicious]\n",
      "500   2004             None          Alone]\n",
      "27    1973         married]             NaN\n",
      "1041  1998         innocent             NaN\n",
      "361   1997        authentic             NaN\n",
      "699   2014             None   unsuccessful]\n",
      "245   1988          little]             NaN\n",
      "645   2011             None          naive]\n",
      "701   2014           young]             NaN\n",
      "\n",
      "     year category4 (df1) category4 (df2)\n",
      "522  2005            None           twin]\n",
      "603  2008          sweet]             NaN\n",
      "382  1999            None       Pakistani\n",
      "705  2014        liberal]             NaN\n",
      "361  1997         missing             NaN\n",
      "449  2002         little]             NaN\n",
      "164  1983       nameless]             NaN\n",
      "716  2014           real]             NaN\n",
      "189  1985            None           rich]\n",
      "610  2008         dreamy]             NaN\n",
      "\n",
      "      year category5 (df1) category5 (df2)\n",
      "1041  1998      motherless             NaN\n",
      "361   1997            pure             NaN\n",
      "746   2012         decent]             NaN\n",
      "382   1999            None        spoiled]\n",
      "\n",
      "      year category6 (df1) category6 (df2)\n",
      "1041  1998        playful]             NaN\n",
      "361   1997           good]             NaN\n",
      "\n",
      "Sample Rows Only in df1 (First 10 Columns)\n",
      "------------------------------------------\n",
      "\n",
      "      year       category1 category2 category3 category4 category5 category6\n",
      "875   1974          [poor]      None      None      None      None      None\n",
      "869   1974        [female]      None      None      None      None      None\n",
      "1057  2001        [second]      None      None      None      None      None\n",
      "97    1978       [general]      None      None      None      None      None\n",
      "942   1983       [adopted]      None      None      None      None      None\n",
      "943   1983           [new]      None      None      None      None      None\n",
      "868   1974  [disheartened]      None      None      None      None      None\n",
      "1066  2002           [dead    local]      None      None      None      None\n",
      "849   1973          [poor]      None      None      None      None      None\n",
      "848   1973    [challenged]      None      None      None      None      None\n",
      "\n",
      "Sample Rows Only in df2 (First 10 Columns)\n",
      "------------------------------------------\n",
      "\n",
      "      year      category1 category2 category3 category4 category5 category6\n",
      "1386  1994  [millionaire]       NaN       NaN       NaN       NaN       NaN\n",
      "1529  1997  [distracting]       NaN       NaN       NaN       NaN       NaN\n",
      "1320  2009       [bereft]       NaN       NaN       NaN       NaN       NaN\n",
      "1248  2003         [holy]       NaN       NaN       NaN       NaN       NaN\n",
      "1411  2012    [chartered]       NaN       NaN       NaN       NaN       NaN\n",
      "1317  2010       [famous]       NaN       NaN       NaN       NaN       NaN\n",
      "1286  2013     [scheming]       NaN       NaN       NaN       NaN       NaN\n",
      "1265  2005     [disabled]       NaN       NaN       NaN       NaN       NaN\n",
      "1210  1992     [longtime]       NaN       NaN       NaN       NaN       NaN\n",
      "1531  1997    [reluctant]       NaN       NaN       NaN       NaN       NaN\n",
      "\n",
      "\n"
     ]
    }
   ],
   "source": [
    "print(compare.report())"
   ]
  },
  {
   "cell_type": "code",
   "execution_count": null,
   "id": "76a45870",
   "metadata": {},
   "outputs": [],
   "source": []
  },
  {
   "cell_type": "code",
   "execution_count": null,
   "id": "2090dc00",
   "metadata": {},
   "outputs": [],
   "source": []
  },
  {
   "cell_type": "code",
   "execution_count": null,
   "id": "7b9595ed",
   "metadata": {},
   "outputs": [],
   "source": []
  }
 ],
 "metadata": {
  "kernelspec": {
   "display_name": "Python 3 (ipykernel)",
   "language": "python",
   "name": "python3"
  },
  "language_info": {
   "codemirror_mode": {
    "name": "ipython",
    "version": 3
   },
   "file_extension": ".py",
   "mimetype": "text/x-python",
   "name": "python",
   "nbconvert_exporter": "python",
   "pygments_lexer": "ipython3",
   "version": "3.9.12"
  }
 },
 "nbformat": 4,
 "nbformat_minor": 5
}
