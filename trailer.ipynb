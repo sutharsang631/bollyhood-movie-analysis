{
 "cells": [
  {
   "cell_type": "code",
   "execution_count": 1,
   "id": "c7e1b631",
   "metadata": {},
   "outputs": [],
   "source": [
    "import pandas as pd\n",
    "import os\n",
    "import numpy as np\n"
   ]
  },
  {
   "cell_type": "code",
   "execution_count": 2,
   "id": "f5c9f9f2",
   "metadata": {},
   "outputs": [],
   "source": [
    "os.chdir(\"C:\\\\Users\\\\Thispc\\\\Desktop\\\\python\\\\carpred\\\\trailer-data\")"
   ]
  },
  {
   "cell_type": "code",
   "execution_count": 3,
   "id": "f49c1d64",
   "metadata": {},
   "outputs": [],
   "source": [
    "df1= pd.read_csv('complete-data.csv')"
   ]
  },
  {
   "cell_type": "code",
   "execution_count": 4,
   "id": "0f563688",
   "metadata": {},
   "outputs": [],
   "source": [
    "df2=pd.read_csv('trailers_list.csv')"
   ]
  },
  {
   "cell_type": "code",
   "execution_count": 5,
   "id": "577ddb75",
   "metadata": {
    "scrolled": true
   },
   "outputs": [
    {
     "data": {
      "text/html": [
       "<div>\n",
       "<style scoped>\n",
       "    .dataframe tbody tr th:only-of-type {\n",
       "        vertical-align: middle;\n",
       "    }\n",
       "\n",
       "    .dataframe tbody tr th {\n",
       "        vertical-align: top;\n",
       "    }\n",
       "\n",
       "    .dataframe thead th {\n",
       "        text-align: right;\n",
       "    }\n",
       "</style>\n",
       "<table border=\"1\" class=\"dataframe\">\n",
       "  <thead>\n",
       "    <tr style=\"text-align: right;\">\n",
       "      <th></th>\n",
       "      <th>frame_number</th>\n",
       "      <th>gender</th>\n",
       "      <th>emotion</th>\n",
       "      <th>year</th>\n",
       "      <th>movie_name</th>\n",
       "    </tr>\n",
       "  </thead>\n",
       "  <tbody>\n",
       "    <tr>\n",
       "      <th>0</th>\n",
       "      <td>28</td>\n",
       "      <td>woman</td>\n",
       "      <td>happy</td>\n",
       "      <td>2014</td>\n",
       "      <td>dedh_ishqiya</td>\n",
       "    </tr>\n",
       "    <tr>\n",
       "      <th>1</th>\n",
       "      <td>62</td>\n",
       "      <td>woman</td>\n",
       "      <td>happy</td>\n",
       "      <td>2014</td>\n",
       "      <td>dedh_ishqiya</td>\n",
       "    </tr>\n",
       "    <tr>\n",
       "      <th>2</th>\n",
       "      <td>60</td>\n",
       "      <td>man</td>\n",
       "      <td>angry</td>\n",
       "      <td>2014</td>\n",
       "      <td>dedh_ishqiya</td>\n",
       "    </tr>\n",
       "    <tr>\n",
       "      <th>3</th>\n",
       "      <td>60</td>\n",
       "      <td>man</td>\n",
       "      <td>sad</td>\n",
       "      <td>2014</td>\n",
       "      <td>dedh_ishqiya</td>\n",
       "    </tr>\n",
       "    <tr>\n",
       "      <th>4</th>\n",
       "      <td>60</td>\n",
       "      <td>man</td>\n",
       "      <td>angry</td>\n",
       "      <td>2014</td>\n",
       "      <td>dedh_ishqiya</td>\n",
       "    </tr>\n",
       "    <tr>\n",
       "      <th>...</th>\n",
       "      <td>...</td>\n",
       "      <td>...</td>\n",
       "      <td>...</td>\n",
       "      <td>...</td>\n",
       "      <td>...</td>\n",
       "    </tr>\n",
       "    <tr>\n",
       "      <th>32192</th>\n",
       "      <td>18</td>\n",
       "      <td>man</td>\n",
       "      <td>happy</td>\n",
       "      <td>2016</td>\n",
       "      <td>housefull_3</td>\n",
       "    </tr>\n",
       "    <tr>\n",
       "      <th>32193</th>\n",
       "      <td>25</td>\n",
       "      <td>man</td>\n",
       "      <td>neutral</td>\n",
       "      <td>2016</td>\n",
       "      <td>housefull_3</td>\n",
       "    </tr>\n",
       "    <tr>\n",
       "      <th>32194</th>\n",
       "      <td>25</td>\n",
       "      <td>man</td>\n",
       "      <td>neutral</td>\n",
       "      <td>2016</td>\n",
       "      <td>housefull_3</td>\n",
       "    </tr>\n",
       "    <tr>\n",
       "      <th>32195</th>\n",
       "      <td>25</td>\n",
       "      <td>man</td>\n",
       "      <td>happy</td>\n",
       "      <td>2016</td>\n",
       "      <td>housefull_3</td>\n",
       "    </tr>\n",
       "    <tr>\n",
       "      <th>32196</th>\n",
       "      <td>31</td>\n",
       "      <td>man</td>\n",
       "      <td>surprise</td>\n",
       "      <td>2016</td>\n",
       "      <td>housefull_3</td>\n",
       "    </tr>\n",
       "  </tbody>\n",
       "</table>\n",
       "<p>32197 rows × 5 columns</p>\n",
       "</div>"
      ],
      "text/plain": [
       "       frame_number gender   emotion  year    movie_name\n",
       "0                28  woman     happy  2014  dedh_ishqiya\n",
       "1                62  woman     happy  2014  dedh_ishqiya\n",
       "2                60    man     angry  2014  dedh_ishqiya\n",
       "3                60    man       sad  2014  dedh_ishqiya\n",
       "4                60    man     angry  2014  dedh_ishqiya\n",
       "...             ...    ...       ...   ...           ...\n",
       "32192            18    man     happy  2016   housefull_3\n",
       "32193            25    man   neutral  2016   housefull_3\n",
       "32194            25    man   neutral  2016   housefull_3\n",
       "32195            25    man     happy  2016   housefull_3\n",
       "32196            31    man  surprise  2016   housefull_3\n",
       "\n",
       "[32197 rows x 5 columns]"
      ]
     },
     "execution_count": 5,
     "metadata": {},
     "output_type": "execute_result"
    }
   ],
   "source": [
    "df1\n"
   ]
  },
  {
   "cell_type": "code",
   "execution_count": 8,
   "id": "1c14dde8",
   "metadata": {
    "scrolled": false
   },
   "outputs": [
    {
     "data": {
      "text/plain": [
       "<AxesSubplot:ylabel='Frequency'>"
      ]
     },
     "execution_count": 8,
     "metadata": {},
     "output_type": "execute_result"
    },
    {
     "data": {
      "image/png": "[encoded data removed]",
      "text/plain": [
       "<Figure size 432x288 with 1 Axes>"
      ]
     },
     "metadata": {
      "needs_background": "light"
     },
     "output_type": "display_data"
    }
   ],
   "source": [
    "df1.plot(kind='hist',x='gender',y='year',edgecolor='white')"
   ]
  },
  {
   "cell_type": "code",
   "execution_count": 9,
   "id": "83415061",
   "metadata": {},
   "outputs": [
    {
     "name": "stdout",
     "output_type": "stream",
     "text": [
      "<class 'pandas.core.frame.DataFrame'>\n",
      "RangeIndex: 32197 entries, 0 to 32196\n",
      "Data columns (total 5 columns):\n",
      " #   Column        Non-Null Count  Dtype \n",
      "---  ------        --------------  ----- \n",
      " 0   frame_number  32197 non-null  int64 \n",
      " 1   gender        32197 non-null  object\n",
      " 2   emotion       32197 non-null  object\n",
      " 3   year          32197 non-null  int64 \n",
      " 4   movie_name    32197 non-null  object\n",
      "dtypes: int64(2), object(3)\n",
      "memory usage: 1.2+ MB\n"
     ]
    }
   ],
   "source": [
    "df1.info()"
   ]
  },
  {
   "cell_type": "code",
   "execution_count": 10,
   "id": "9b1f3e6c",
   "metadata": {},
   "outputs": [],
   "source": [
    "df1_woman = df1.loc[df1['gender'] == 'woman']\n",
    "df1_man = df1.loc[df1['gender'] == 'man']\n",
    "df1_woman = df1_woman.loc[df1['emotion'] != 'neutral']\n",
    "df1_man = df1_man.loc[df1['emotion'] != 'neutral']\n",
    "womanframesperyear = df1_woman.groupby(by=['year'])['frame_number'].count().to_frame(name = 'count').reset_index()\n",
    "manframesperyear = df1_man.groupby(by=['year'])['frame_number'].count().to_frame(name = 'count').reset_index()"
   ]
  },
  {
   "cell_type": "code",
   "execution_count": 11,
   "id": "8d3951fe",
   "metadata": {},
   "outputs": [
    {
     "data": {
      "text/html": [
       "<div>\n",
       "<style scoped>\n",
       "    .dataframe tbody tr th:only-of-type {\n",
       "        vertical-align: middle;\n",
       "    }\n",
       "\n",
       "    .dataframe tbody tr th {\n",
       "        vertical-align: top;\n",
       "    }\n",
       "\n",
       "    .dataframe thead th {\n",
       "        text-align: right;\n",
       "    }\n",
       "</style>\n",
       "<table border=\"1\" class=\"dataframe\">\n",
       "  <thead>\n",
       "    <tr style=\"text-align: right;\">\n",
       "      <th></th>\n",
       "      <th>frame_number</th>\n",
       "      <th>gender</th>\n",
       "      <th>emotion</th>\n",
       "      <th>year</th>\n",
       "      <th>movie_name</th>\n",
       "    </tr>\n",
       "  </thead>\n",
       "  <tbody>\n",
       "    <tr>\n",
       "      <th>2</th>\n",
       "      <td>60</td>\n",
       "      <td>man</td>\n",
       "      <td>angry</td>\n",
       "      <td>2014</td>\n",
       "      <td>dedh_ishqiya</td>\n",
       "    </tr>\n",
       "    <tr>\n",
       "      <th>3</th>\n",
       "      <td>60</td>\n",
       "      <td>man</td>\n",
       "      <td>sad</td>\n",
       "      <td>2014</td>\n",
       "      <td>dedh_ishqiya</td>\n",
       "    </tr>\n",
       "    <tr>\n",
       "      <th>4</th>\n",
       "      <td>60</td>\n",
       "      <td>man</td>\n",
       "      <td>angry</td>\n",
       "      <td>2014</td>\n",
       "      <td>dedh_ishqiya</td>\n",
       "    </tr>\n",
       "    <tr>\n",
       "      <th>5</th>\n",
       "      <td>111</td>\n",
       "      <td>man</td>\n",
       "      <td>sad</td>\n",
       "      <td>2014</td>\n",
       "      <td>dedh_ishqiya</td>\n",
       "    </tr>\n",
       "    <tr>\n",
       "      <th>7</th>\n",
       "      <td>94</td>\n",
       "      <td>man</td>\n",
       "      <td>sad</td>\n",
       "      <td>2014</td>\n",
       "      <td>dedh_ishqiya</td>\n",
       "    </tr>\n",
       "    <tr>\n",
       "      <th>...</th>\n",
       "      <td>...</td>\n",
       "      <td>...</td>\n",
       "      <td>...</td>\n",
       "      <td>...</td>\n",
       "      <td>...</td>\n",
       "    </tr>\n",
       "    <tr>\n",
       "      <th>32188</th>\n",
       "      <td>57</td>\n",
       "      <td>man</td>\n",
       "      <td>angry</td>\n",
       "      <td>2016</td>\n",
       "      <td>housefull_3</td>\n",
       "    </tr>\n",
       "    <tr>\n",
       "      <th>32189</th>\n",
       "      <td>124</td>\n",
       "      <td>man</td>\n",
       "      <td>sad</td>\n",
       "      <td>2016</td>\n",
       "      <td>housefull_3</td>\n",
       "    </tr>\n",
       "    <tr>\n",
       "      <th>32192</th>\n",
       "      <td>18</td>\n",
       "      <td>man</td>\n",
       "      <td>happy</td>\n",
       "      <td>2016</td>\n",
       "      <td>housefull_3</td>\n",
       "    </tr>\n",
       "    <tr>\n",
       "      <th>32195</th>\n",
       "      <td>25</td>\n",
       "      <td>man</td>\n",
       "      <td>happy</td>\n",
       "      <td>2016</td>\n",
       "      <td>housefull_3</td>\n",
       "    </tr>\n",
       "    <tr>\n",
       "      <th>32196</th>\n",
       "      <td>31</td>\n",
       "      <td>man</td>\n",
       "      <td>surprise</td>\n",
       "      <td>2016</td>\n",
       "      <td>housefull_3</td>\n",
       "    </tr>\n",
       "  </tbody>\n",
       "</table>\n",
       "<p>16152 rows × 5 columns</p>\n",
       "</div>"
      ],
      "text/plain": [
       "       frame_number gender   emotion  year    movie_name\n",
       "2                60    man     angry  2014  dedh_ishqiya\n",
       "3                60    man       sad  2014  dedh_ishqiya\n",
       "4                60    man     angry  2014  dedh_ishqiya\n",
       "5               111    man       sad  2014  dedh_ishqiya\n",
       "7                94    man       sad  2014  dedh_ishqiya\n",
       "...             ...    ...       ...   ...           ...\n",
       "32188            57    man     angry  2016   housefull_3\n",
       "32189           124    man       sad  2016   housefull_3\n",
       "32192            18    man     happy  2016   housefull_3\n",
       "32195            25    man     happy  2016   housefull_3\n",
       "32196            31    man  surprise  2016   housefull_3\n",
       "\n",
       "[16152 rows x 5 columns]"
      ]
     },
     "execution_count": 11,
     "metadata": {},
     "output_type": "execute_result"
    }
   ],
   "source": [
    "df1_man"
   ]
  },
  {
   "cell_type": "code",
   "execution_count": 12,
   "id": "7a36db29",
   "metadata": {},
   "outputs": [
    {
     "data": {
      "text/html": [
       "<div>\n",
       "<style scoped>\n",
       "    .dataframe tbody tr th:only-of-type {\n",
       "        vertical-align: middle;\n",
       "    }\n",
       "\n",
       "    .dataframe tbody tr th {\n",
       "        vertical-align: top;\n",
       "    }\n",
       "\n",
       "    .dataframe thead th {\n",
       "        text-align: right;\n",
       "    }\n",
       "</style>\n",
       "<table border=\"1\" class=\"dataframe\">\n",
       "  <thead>\n",
       "    <tr style=\"text-align: right;\">\n",
       "      <th></th>\n",
       "      <th>frame_number</th>\n",
       "      <th>gender</th>\n",
       "      <th>emotion</th>\n",
       "      <th>year</th>\n",
       "      <th>movie_name</th>\n",
       "    </tr>\n",
       "  </thead>\n",
       "  <tbody>\n",
       "    <tr>\n",
       "      <th>0</th>\n",
       "      <td>28</td>\n",
       "      <td>woman</td>\n",
       "      <td>happy</td>\n",
       "      <td>2014</td>\n",
       "      <td>dedh_ishqiya</td>\n",
       "    </tr>\n",
       "    <tr>\n",
       "      <th>1</th>\n",
       "      <td>62</td>\n",
       "      <td>woman</td>\n",
       "      <td>happy</td>\n",
       "      <td>2014</td>\n",
       "      <td>dedh_ishqiya</td>\n",
       "    </tr>\n",
       "    <tr>\n",
       "      <th>6</th>\n",
       "      <td>132</td>\n",
       "      <td>woman</td>\n",
       "      <td>happy</td>\n",
       "      <td>2014</td>\n",
       "      <td>dedh_ishqiya</td>\n",
       "    </tr>\n",
       "    <tr>\n",
       "      <th>8</th>\n",
       "      <td>61</td>\n",
       "      <td>woman</td>\n",
       "      <td>sad</td>\n",
       "      <td>2014</td>\n",
       "      <td>dedh_ishqiya</td>\n",
       "    </tr>\n",
       "    <tr>\n",
       "      <th>15</th>\n",
       "      <td>35</td>\n",
       "      <td>woman</td>\n",
       "      <td>sad</td>\n",
       "      <td>2014</td>\n",
       "      <td>dedh_ishqiya</td>\n",
       "    </tr>\n",
       "    <tr>\n",
       "      <th>...</th>\n",
       "      <td>...</td>\n",
       "      <td>...</td>\n",
       "      <td>...</td>\n",
       "      <td>...</td>\n",
       "      <td>...</td>\n",
       "    </tr>\n",
       "    <tr>\n",
       "      <th>32176</th>\n",
       "      <td>32</td>\n",
       "      <td>woman</td>\n",
       "      <td>happy</td>\n",
       "      <td>2016</td>\n",
       "      <td>housefull_3</td>\n",
       "    </tr>\n",
       "    <tr>\n",
       "      <th>32177</th>\n",
       "      <td>32</td>\n",
       "      <td>woman</td>\n",
       "      <td>happy</td>\n",
       "      <td>2016</td>\n",
       "      <td>housefull_3</td>\n",
       "    </tr>\n",
       "    <tr>\n",
       "      <th>32178</th>\n",
       "      <td>47</td>\n",
       "      <td>woman</td>\n",
       "      <td>sad</td>\n",
       "      <td>2016</td>\n",
       "      <td>housefull_3</td>\n",
       "    </tr>\n",
       "    <tr>\n",
       "      <th>32183</th>\n",
       "      <td>159</td>\n",
       "      <td>woman</td>\n",
       "      <td>fear</td>\n",
       "      <td>2016</td>\n",
       "      <td>housefull_3</td>\n",
       "    </tr>\n",
       "    <tr>\n",
       "      <th>32191</th>\n",
       "      <td>72</td>\n",
       "      <td>woman</td>\n",
       "      <td>happy</td>\n",
       "      <td>2016</td>\n",
       "      <td>housefull_3</td>\n",
       "    </tr>\n",
       "  </tbody>\n",
       "</table>\n",
       "<p>7905 rows × 5 columns</p>\n",
       "</div>"
      ],
      "text/plain": [
       "       frame_number gender emotion  year    movie_name\n",
       "0                28  woman   happy  2014  dedh_ishqiya\n",
       "1                62  woman   happy  2014  dedh_ishqiya\n",
       "6               132  woman   happy  2014  dedh_ishqiya\n",
       "8                61  woman     sad  2014  dedh_ishqiya\n",
       "15               35  woman     sad  2014  dedh_ishqiya\n",
       "...             ...    ...     ...   ...           ...\n",
       "32176            32  woman   happy  2016   housefull_3\n",
       "32177            32  woman   happy  2016   housefull_3\n",
       "32178            47  woman     sad  2016   housefull_3\n",
       "32183           159  woman    fear  2016   housefull_3\n",
       "32191            72  woman   happy  2016   housefull_3\n",
       "\n",
       "[7905 rows x 5 columns]"
      ]
     },
     "execution_count": 12,
     "metadata": {},
     "output_type": "execute_result"
    }
   ],
   "source": [
    "df1_woman"
   ]
  },
  {
   "cell_type": "code",
   "execution_count": 13,
   "id": "98c84a4b",
   "metadata": {},
   "outputs": [
    {
     "data": {
      "text/html": [
       "<div>\n",
       "<style scoped>\n",
       "    .dataframe tbody tr th:only-of-type {\n",
       "        vertical-align: middle;\n",
       "    }\n",
       "\n",
       "    .dataframe tbody tr th {\n",
       "        vertical-align: top;\n",
       "    }\n",
       "\n",
       "    .dataframe thead th {\n",
       "        text-align: right;\n",
       "    }\n",
       "</style>\n",
       "<table border=\"1\" class=\"dataframe\">\n",
       "  <thead>\n",
       "    <tr style=\"text-align: right;\">\n",
       "      <th></th>\n",
       "      <th>year</th>\n",
       "      <th>count</th>\n",
       "    </tr>\n",
       "  </thead>\n",
       "  <tbody>\n",
       "    <tr>\n",
       "      <th>0</th>\n",
       "      <td>2008</td>\n",
       "      <td>309</td>\n",
       "    </tr>\n",
       "    <tr>\n",
       "      <th>1</th>\n",
       "      <td>2009</td>\n",
       "      <td>280</td>\n",
       "    </tr>\n",
       "    <tr>\n",
       "      <th>2</th>\n",
       "      <td>2010</td>\n",
       "      <td>562</td>\n",
       "    </tr>\n",
       "    <tr>\n",
       "      <th>3</th>\n",
       "      <td>2011</td>\n",
       "      <td>755</td>\n",
       "    </tr>\n",
       "    <tr>\n",
       "      <th>4</th>\n",
       "      <td>2012</td>\n",
       "      <td>521</td>\n",
       "    </tr>\n",
       "    <tr>\n",
       "      <th>5</th>\n",
       "      <td>2013</td>\n",
       "      <td>817</td>\n",
       "    </tr>\n",
       "    <tr>\n",
       "      <th>6</th>\n",
       "      <td>2014</td>\n",
       "      <td>1256</td>\n",
       "    </tr>\n",
       "    <tr>\n",
       "      <th>7</th>\n",
       "      <td>2015</td>\n",
       "      <td>1165</td>\n",
       "    </tr>\n",
       "    <tr>\n",
       "      <th>8</th>\n",
       "      <td>2016</td>\n",
       "      <td>1214</td>\n",
       "    </tr>\n",
       "    <tr>\n",
       "      <th>9</th>\n",
       "      <td>2017</td>\n",
       "      <td>1026</td>\n",
       "    </tr>\n",
       "  </tbody>\n",
       "</table>\n",
       "</div>"
      ],
      "text/plain": [
       "   year  count\n",
       "0  2008    309\n",
       "1  2009    280\n",
       "2  2010    562\n",
       "3  2011    755\n",
       "4  2012    521\n",
       "5  2013    817\n",
       "6  2014   1256\n",
       "7  2015   1165\n",
       "8  2016   1214\n",
       "9  2017   1026"
      ]
     },
     "execution_count": 13,
     "metadata": {},
     "output_type": "execute_result"
    }
   ],
   "source": [
    "womanframesperyear"
   ]
  },
  {
   "cell_type": "code",
   "execution_count": 14,
   "id": "21ce2d59",
   "metadata": {},
   "outputs": [
    {
     "data": {
      "text/html": [
       "<div>\n",
       "<style scoped>\n",
       "    .dataframe tbody tr th:only-of-type {\n",
       "        vertical-align: middle;\n",
       "    }\n",
       "\n",
       "    .dataframe tbody tr th {\n",
       "        vertical-align: top;\n",
       "    }\n",
       "\n",
       "    .dataframe thead th {\n",
       "        text-align: right;\n",
       "    }\n",
       "</style>\n",
       "<table border=\"1\" class=\"dataframe\">\n",
       "  <thead>\n",
       "    <tr style=\"text-align: right;\">\n",
       "      <th></th>\n",
       "      <th>year</th>\n",
       "      <th>count</th>\n",
       "    </tr>\n",
       "  </thead>\n",
       "  <tbody>\n",
       "    <tr>\n",
       "      <th>0</th>\n",
       "      <td>2008</td>\n",
       "      <td>639</td>\n",
       "    </tr>\n",
       "    <tr>\n",
       "      <th>1</th>\n",
       "      <td>2009</td>\n",
       "      <td>677</td>\n",
       "    </tr>\n",
       "    <tr>\n",
       "      <th>2</th>\n",
       "      <td>2010</td>\n",
       "      <td>1210</td>\n",
       "    </tr>\n",
       "    <tr>\n",
       "      <th>3</th>\n",
       "      <td>2011</td>\n",
       "      <td>1480</td>\n",
       "    </tr>\n",
       "    <tr>\n",
       "      <th>4</th>\n",
       "      <td>2012</td>\n",
       "      <td>1232</td>\n",
       "    </tr>\n",
       "    <tr>\n",
       "      <th>5</th>\n",
       "      <td>2013</td>\n",
       "      <td>1715</td>\n",
       "    </tr>\n",
       "    <tr>\n",
       "      <th>6</th>\n",
       "      <td>2014</td>\n",
       "      <td>2861</td>\n",
       "    </tr>\n",
       "    <tr>\n",
       "      <th>7</th>\n",
       "      <td>2015</td>\n",
       "      <td>2135</td>\n",
       "    </tr>\n",
       "    <tr>\n",
       "      <th>8</th>\n",
       "      <td>2016</td>\n",
       "      <td>2165</td>\n",
       "    </tr>\n",
       "    <tr>\n",
       "      <th>9</th>\n",
       "      <td>2017</td>\n",
       "      <td>2038</td>\n",
       "    </tr>\n",
       "  </tbody>\n",
       "</table>\n",
       "</div>"
      ],
      "text/plain": [
       "   year  count\n",
       "0  2008    639\n",
       "1  2009    677\n",
       "2  2010   1210\n",
       "3  2011   1480\n",
       "4  2012   1232\n",
       "5  2013   1715\n",
       "6  2014   2861\n",
       "7  2015   2135\n",
       "8  2016   2165\n",
       "9  2017   2038"
      ]
     },
     "execution_count": 14,
     "metadata": {},
     "output_type": "execute_result"
    }
   ],
   "source": [
    "manframesperyear"
   ]
  },
  {
   "cell_type": "code",
   "execution_count": 15,
   "id": "7c708630",
   "metadata": {},
   "outputs": [],
   "source": [
    "res_woman = df1_woman.groupby(by=['emotion'])['frame_number'].count()\n",
    "res_woman=res_woman.to_frame(name = 'count').reset_index()\n",
    "labels=res_woman['emotion'].tolist()\n",
    "res_man = df1_man.groupby(by=['emotion'])['frame_number'].count()\n",
    "res_man=res_man.to_frame(name = 'count').reset_index()\n",
    "labels=res_man['emotion'].tolist()"
   ]
  },
  {
   "cell_type": "code",
   "execution_count": 16,
   "id": "d5fdae07",
   "metadata": {},
   "outputs": [],
   "source": [
    "%matplotlib inline\n",
    "import matplotlib.pyplot as plt"
   ]
  },
  {
   "cell_type": "code",
   "execution_count": 17,
   "id": "e252e354",
   "metadata": {},
   "outputs": [
    {
     "data": {
      "image/png": "[encoded data removed]",
      "text/plain": [
       "<Figure size 432x288 with 1 Axes>"
      ]
     },
     "metadata": {},
     "output_type": "display_data"
    }
   ],
   "source": [
    "plt.rcParams.update({'font.size': 20})\n",
    "colors = ['red', 'green', 'blue', 'orange', 'yellow', 'pink', 'cyan']\n",
    "plt.pie(res_woman['count'],labels=res_woman['emotion'], shadow=False, colors=colors, explode=(0.15, 0, 0, 0.15, 0, 0),startangle=90,autopct='%1.1f%%')\n",
    "plt.axis('equal')\n",
    "plt.tight_layout()\n",
    "plt.savefig('pie_chart_emotions_woman.png')"
   ]
  },
  {
   "cell_type": "code",
   "execution_count": 18,
   "id": "b503a193",
   "metadata": {
    "scrolled": true
   },
   "outputs": [],
   "source": [
    "res_woman.to_csv('pie_chart_emotions_woman.csv', sep=',', encoding='utf-8')"
   ]
  },
  {
   "cell_type": "code",
   "execution_count": 19,
   "id": "803ae042",
   "metadata": {},
   "outputs": [
    {
     "data": {
      "image/png": "[encoded data removed]",
      "text/plain": [
       "<Figure size 432x288 with 1 Axes>"
      ]
     },
     "metadata": {},
     "output_type": "display_data"
    }
   ],
   "source": [
    "plt.rcParams.update({'font.size': 20})\n",
    "plt.pie(res_man['count'],labels=res_man['emotion'], shadow=False, colors=colors, explode=(0.15, 0, 0, 0.15, 0, 0),startangle=90,autopct='%1.1f%%')\n",
    "plt.axis('equal')\n",
    "plt.tight_layout()\n",
    "plt.savefig('pie_chart_emotions_man.png')"
   ]
  },
  {
   "cell_type": "code",
   "execution_count": 20,
   "id": "02ac8cdf",
   "metadata": {},
   "outputs": [],
   "source": [
    "res_man.to_csv('pie_chart_emotions_man.csv', sep=',', encoding='utf-8')"
   ]
  },
  {
   "cell_type": "code",
   "execution_count": 21,
   "id": "453c90cd",
   "metadata": {},
   "outputs": [
    {
     "data": {
      "text/html": [
       "<div>\n",
       "<style scoped>\n",
       "    .dataframe tbody tr th:only-of-type {\n",
       "        vertical-align: middle;\n",
       "    }\n",
       "\n",
       "    .dataframe tbody tr th {\n",
       "        vertical-align: top;\n",
       "    }\n",
       "\n",
       "    .dataframe thead th {\n",
       "        text-align: right;\n",
       "    }\n",
       "</style>\n",
       "<table border=\"1\" class=\"dataframe\">\n",
       "  <thead>\n",
       "    <tr style=\"text-align: right;\">\n",
       "      <th></th>\n",
       "      <th>movie_name</th>\n",
       "      <th>year-of-release</th>\n",
       "      <th>trailer</th>\n",
       "      <th>movie</th>\n",
       "    </tr>\n",
       "  </thead>\n",
       "  <tbody>\n",
       "    <tr>\n",
       "      <th>0</th>\n",
       "      <td>dedh_ishqiya</td>\n",
       "      <td>2014</td>\n",
       "      <td>1</td>\n",
       "      <td>0</td>\n",
       "    </tr>\n",
       "    <tr>\n",
       "      <th>1</th>\n",
       "      <td>love_sex_aur_dhokha</td>\n",
       "      <td>2010</td>\n",
       "      <td>1</td>\n",
       "      <td>0</td>\n",
       "    </tr>\n",
       "    <tr>\n",
       "      <th>2</th>\n",
       "      <td>newton</td>\n",
       "      <td>2017</td>\n",
       "      <td>1</td>\n",
       "      <td>0</td>\n",
       "    </tr>\n",
       "    <tr>\n",
       "      <th>3</th>\n",
       "      <td>band_baaja_baaraat</td>\n",
       "      <td>2010</td>\n",
       "      <td>1</td>\n",
       "      <td>0</td>\n",
       "    </tr>\n",
       "    <tr>\n",
       "      <th>4</th>\n",
       "      <td>the_blueberry_hunt</td>\n",
       "      <td>2016</td>\n",
       "      <td>1</td>\n",
       "      <td>0</td>\n",
       "    </tr>\n",
       "    <tr>\n",
       "      <th>...</th>\n",
       "      <td>...</td>\n",
       "      <td>...</td>\n",
       "      <td>...</td>\n",
       "      <td>...</td>\n",
       "    </tr>\n",
       "    <tr>\n",
       "      <th>875</th>\n",
       "      <td>warning</td>\n",
       "      <td>2013</td>\n",
       "      <td>1</td>\n",
       "      <td>0</td>\n",
       "    </tr>\n",
       "    <tr>\n",
       "      <th>876</th>\n",
       "      <td>ranbanka</td>\n",
       "      <td>2015</td>\n",
       "      <td>1</td>\n",
       "      <td>0</td>\n",
       "    </tr>\n",
       "    <tr>\n",
       "      <th>877</th>\n",
       "      <td>sadda_adda</td>\n",
       "      <td>2012</td>\n",
       "      <td>1</td>\n",
       "      <td>0</td>\n",
       "    </tr>\n",
       "    <tr>\n",
       "      <th>878</th>\n",
       "      <td>loveshhuda</td>\n",
       "      <td>2016</td>\n",
       "      <td>1</td>\n",
       "      <td>0</td>\n",
       "    </tr>\n",
       "    <tr>\n",
       "      <th>879</th>\n",
       "      <td>housefull_3</td>\n",
       "      <td>2016</td>\n",
       "      <td>1</td>\n",
       "      <td>0</td>\n",
       "    </tr>\n",
       "  </tbody>\n",
       "</table>\n",
       "<p>880 rows × 4 columns</p>\n",
       "</div>"
      ],
      "text/plain": [
       "              movie_name  year-of-release  trailer  movie\n",
       "0           dedh_ishqiya             2014        1      0\n",
       "1    love_sex_aur_dhokha             2010        1      0\n",
       "2                 newton             2017        1      0\n",
       "3     band_baaja_baaraat             2010        1      0\n",
       "4     the_blueberry_hunt             2016        1      0\n",
       "..                   ...              ...      ...    ...\n",
       "875              warning             2013        1      0\n",
       "876             ranbanka             2015        1      0\n",
       "877           sadda_adda             2012        1      0\n",
       "878           loveshhuda             2016        1      0\n",
       "879          housefull_3             2016        1      0\n",
       "\n",
       "[880 rows x 4 columns]"
      ]
     },
     "execution_count": 21,
     "metadata": {},
     "output_type": "execute_result"
    }
   ],
   "source": [
    "df2"
   ]
  },
  {
   "cell_type": "code",
   "execution_count": 22,
   "id": "f61f4944",
   "metadata": {},
   "outputs": [
    {
     "name": "stdout",
     "output_type": "stream",
     "text": [
      "<class 'pandas.core.frame.DataFrame'>\n",
      "RangeIndex: 880 entries, 0 to 879\n",
      "Data columns (total 4 columns):\n",
      " #   Column           Non-Null Count  Dtype \n",
      "---  ------           --------------  ----- \n",
      " 0   movie_name       880 non-null    object\n",
      " 1   year-of-release  880 non-null    int64 \n",
      " 2   trailer          880 non-null    int64 \n",
      " 3   movie            880 non-null    int64 \n",
      "dtypes: int64(3), object(1)\n",
      "memory usage: 27.6+ KB\n"
     ]
    }
   ],
   "source": [
    "df2.info()"
   ]
  },
  {
   "cell_type": "code",
   "execution_count": 23,
   "id": "eda95469",
   "metadata": {},
   "outputs": [
    {
     "data": {
      "text/plain": [
       "movie_name         0\n",
       "year-of-release    0\n",
       "trailer            0\n",
       "movie              0\n",
       "dtype: int64"
      ]
     },
     "execution_count": 23,
     "metadata": {},
     "output_type": "execute_result"
    }
   ],
   "source": [
    "df2.isna().sum()"
   ]
  },
  {
   "cell_type": "code",
   "execution_count": 24,
   "id": "675d19c6",
   "metadata": {
    "scrolled": true
   },
   "outputs": [
    {
     "data": {
      "text/plain": [
       "frame_number    0\n",
       "gender          0\n",
       "emotion         0\n",
       "year            0\n",
       "movie_name      0\n",
       "dtype: int64"
      ]
     },
     "execution_count": 24,
     "metadata": {},
     "output_type": "execute_result"
    }
   ],
   "source": [
    "df1.isnull().sum()"
   ]
  },
  {
   "cell_type": "code",
   "execution_count": 25,
   "id": "f958f167",
   "metadata": {},
   "outputs": [
    {
     "data": {
      "text/html": [
       "<div>\n",
       "<style scoped>\n",
       "    .dataframe tbody tr th:only-of-type {\n",
       "        vertical-align: middle;\n",
       "    }\n",
       "\n",
       "    .dataframe tbody tr th {\n",
       "        vertical-align: top;\n",
       "    }\n",
       "\n",
       "    .dataframe thead th {\n",
       "        text-align: right;\n",
       "    }\n",
       "</style>\n",
       "<table border=\"1\" class=\"dataframe\">\n",
       "  <thead>\n",
       "    <tr style=\"text-align: right;\">\n",
       "      <th></th>\n",
       "      <th>frame_number</th>\n",
       "      <th>gender</th>\n",
       "      <th>emotion</th>\n",
       "      <th>year</th>\n",
       "      <th>movie_name</th>\n",
       "    </tr>\n",
       "  </thead>\n",
       "  <tbody>\n",
       "    <tr>\n",
       "      <th>0</th>\n",
       "      <td>28</td>\n",
       "      <td>0</td>\n",
       "      <td>happy</td>\n",
       "      <td>2014</td>\n",
       "      <td>dedh_ishqiya</td>\n",
       "    </tr>\n",
       "    <tr>\n",
       "      <th>1</th>\n",
       "      <td>62</td>\n",
       "      <td>0</td>\n",
       "      <td>happy</td>\n",
       "      <td>2014</td>\n",
       "      <td>dedh_ishqiya</td>\n",
       "    </tr>\n",
       "    <tr>\n",
       "      <th>2</th>\n",
       "      <td>60</td>\n",
       "      <td>1</td>\n",
       "      <td>angry</td>\n",
       "      <td>2014</td>\n",
       "      <td>dedh_ishqiya</td>\n",
       "    </tr>\n",
       "    <tr>\n",
       "      <th>3</th>\n",
       "      <td>60</td>\n",
       "      <td>1</td>\n",
       "      <td>sad</td>\n",
       "      <td>2014</td>\n",
       "      <td>dedh_ishqiya</td>\n",
       "    </tr>\n",
       "    <tr>\n",
       "      <th>4</th>\n",
       "      <td>60</td>\n",
       "      <td>1</td>\n",
       "      <td>angry</td>\n",
       "      <td>2014</td>\n",
       "      <td>dedh_ishqiya</td>\n",
       "    </tr>\n",
       "    <tr>\n",
       "      <th>...</th>\n",
       "      <td>...</td>\n",
       "      <td>...</td>\n",
       "      <td>...</td>\n",
       "      <td>...</td>\n",
       "      <td>...</td>\n",
       "    </tr>\n",
       "    <tr>\n",
       "      <th>32192</th>\n",
       "      <td>18</td>\n",
       "      <td>1</td>\n",
       "      <td>happy</td>\n",
       "      <td>2016</td>\n",
       "      <td>housefull_3</td>\n",
       "    </tr>\n",
       "    <tr>\n",
       "      <th>32193</th>\n",
       "      <td>25</td>\n",
       "      <td>1</td>\n",
       "      <td>neutral</td>\n",
       "      <td>2016</td>\n",
       "      <td>housefull_3</td>\n",
       "    </tr>\n",
       "    <tr>\n",
       "      <th>32194</th>\n",
       "      <td>25</td>\n",
       "      <td>1</td>\n",
       "      <td>neutral</td>\n",
       "      <td>2016</td>\n",
       "      <td>housefull_3</td>\n",
       "    </tr>\n",
       "    <tr>\n",
       "      <th>32195</th>\n",
       "      <td>25</td>\n",
       "      <td>1</td>\n",
       "      <td>happy</td>\n",
       "      <td>2016</td>\n",
       "      <td>housefull_3</td>\n",
       "    </tr>\n",
       "    <tr>\n",
       "      <th>32196</th>\n",
       "      <td>31</td>\n",
       "      <td>1</td>\n",
       "      <td>surprise</td>\n",
       "      <td>2016</td>\n",
       "      <td>housefull_3</td>\n",
       "    </tr>\n",
       "  </tbody>\n",
       "</table>\n",
       "<p>32197 rows × 5 columns</p>\n",
       "</div>"
      ],
      "text/plain": [
       "       frame_number  gender   emotion  year    movie_name\n",
       "0                28       0     happy  2014  dedh_ishqiya\n",
       "1                62       0     happy  2014  dedh_ishqiya\n",
       "2                60       1     angry  2014  dedh_ishqiya\n",
       "3                60       1       sad  2014  dedh_ishqiya\n",
       "4                60       1     angry  2014  dedh_ishqiya\n",
       "...             ...     ...       ...   ...           ...\n",
       "32192            18       1     happy  2016   housefull_3\n",
       "32193            25       1   neutral  2016   housefull_3\n",
       "32194            25       1   neutral  2016   housefull_3\n",
       "32195            25       1     happy  2016   housefull_3\n",
       "32196            31       1  surprise  2016   housefull_3\n",
       "\n",
       "[32197 rows x 5 columns]"
      ]
     },
     "execution_count": 25,
     "metadata": {},
     "output_type": "execute_result"
    }
   ],
   "source": [
    "\n",
    "df1['gender'] = np.where((df1['gender'] == 'man'), 1, 0)\n",
    "df1"
   ]
  },
  {
   "cell_type": "code",
   "execution_count": 26,
   "id": "a9a2a076",
   "metadata": {},
   "outputs": [],
   "source": [
    "X=df1.drop('gender',axis=1)\n",
    "y=df1['gender']\n",
    "from sklearn.model_selection import train_test_split\n",
    "X_train,X_test,Y_train,Y_test=train_test_split(X,y,test_size=0.35,random_state=42)"
   ]
  },
  {
   "cell_type": "code",
   "execution_count": 27,
   "id": "20a54615",
   "metadata": {},
   "outputs": [],
   "source": [
    "import category_encoders as ce"
   ]
  },
  {
   "cell_type": "code",
   "execution_count": 28,
   "id": "cf2082fd",
   "metadata": {},
   "outputs": [],
   "source": [
    "encoder = ce.OrdinalEncoder(cols=['emotion','movie_name'])\n",
    "X_train = encoder.fit_transform(X_train)\n",
    "X_test = encoder.transform(X_test)\n"
   ]
  },
  {
   "cell_type": "code",
   "execution_count": 29,
   "id": "c32507cf",
   "metadata": {},
   "outputs": [
    {
     "data": {
      "text/html": [
       "<div>\n",
       "<style scoped>\n",
       "    .dataframe tbody tr th:only-of-type {\n",
       "        vertical-align: middle;\n",
       "    }\n",
       "\n",
       "    .dataframe tbody tr th {\n",
       "        vertical-align: top;\n",
       "    }\n",
       "\n",
       "    .dataframe thead th {\n",
       "        text-align: right;\n",
       "    }\n",
       "</style>\n",
       "<table border=\"1\" class=\"dataframe\">\n",
       "  <thead>\n",
       "    <tr style=\"text-align: right;\">\n",
       "      <th></th>\n",
       "      <th>frame_number</th>\n",
       "      <th>emotion</th>\n",
       "      <th>year</th>\n",
       "      <th>movie_name</th>\n",
       "    </tr>\n",
       "  </thead>\n",
       "  <tbody>\n",
       "    <tr>\n",
       "      <th>16790</th>\n",
       "      <td>75</td>\n",
       "      <td>1</td>\n",
       "      <td>2016</td>\n",
       "      <td>1</td>\n",
       "    </tr>\n",
       "    <tr>\n",
       "      <th>16024</th>\n",
       "      <td>40</td>\n",
       "      <td>2</td>\n",
       "      <td>2010</td>\n",
       "      <td>2</td>\n",
       "    </tr>\n",
       "    <tr>\n",
       "      <th>1488</th>\n",
       "      <td>70</td>\n",
       "      <td>3</td>\n",
       "      <td>2014</td>\n",
       "      <td>3</td>\n",
       "    </tr>\n",
       "    <tr>\n",
       "      <th>21504</th>\n",
       "      <td>138</td>\n",
       "      <td>4</td>\n",
       "      <td>2016</td>\n",
       "      <td>4</td>\n",
       "    </tr>\n",
       "    <tr>\n",
       "      <th>29107</th>\n",
       "      <td>31</td>\n",
       "      <td>5</td>\n",
       "      <td>2016</td>\n",
       "      <td>5</td>\n",
       "    </tr>\n",
       "    <tr>\n",
       "      <th>...</th>\n",
       "      <td>...</td>\n",
       "      <td>...</td>\n",
       "      <td>...</td>\n",
       "      <td>...</td>\n",
       "    </tr>\n",
       "    <tr>\n",
       "      <th>29802</th>\n",
       "      <td>59</td>\n",
       "      <td>2</td>\n",
       "      <td>2013</td>\n",
       "      <td>89</td>\n",
       "    </tr>\n",
       "    <tr>\n",
       "      <th>5390</th>\n",
       "      <td>82</td>\n",
       "      <td>4</td>\n",
       "      <td>2013</td>\n",
       "      <td>302</td>\n",
       "    </tr>\n",
       "    <tr>\n",
       "      <th>860</th>\n",
       "      <td>69</td>\n",
       "      <td>3</td>\n",
       "      <td>2017</td>\n",
       "      <td>45</td>\n",
       "    </tr>\n",
       "    <tr>\n",
       "      <th>15795</th>\n",
       "      <td>179</td>\n",
       "      <td>1</td>\n",
       "      <td>2016</td>\n",
       "      <td>7</td>\n",
       "    </tr>\n",
       "    <tr>\n",
       "      <th>23654</th>\n",
       "      <td>85</td>\n",
       "      <td>1</td>\n",
       "      <td>2011</td>\n",
       "      <td>281</td>\n",
       "    </tr>\n",
       "  </tbody>\n",
       "</table>\n",
       "<p>20928 rows × 4 columns</p>\n",
       "</div>"
      ],
      "text/plain": [
       "       frame_number  emotion  year  movie_name\n",
       "16790            75        1  2016           1\n",
       "16024            40        2  2010           2\n",
       "1488             70        3  2014           3\n",
       "21504           138        4  2016           4\n",
       "29107            31        5  2016           5\n",
       "...             ...      ...   ...         ...\n",
       "29802            59        2  2013          89\n",
       "5390             82        4  2013         302\n",
       "860              69        3  2017          45\n",
       "15795           179        1  2016           7\n",
       "23654            85        1  2011         281\n",
       "\n",
       "[20928 rows x 4 columns]"
      ]
     },
     "execution_count": 29,
     "metadata": {},
     "output_type": "execute_result"
    }
   ],
   "source": [
    "X_train"
   ]
  },
  {
   "cell_type": "code",
   "execution_count": 30,
   "id": "5dec323c",
   "metadata": {},
   "outputs": [
    {
     "data": {
      "text/plain": [
       "RandomForestClassifier(random_state=0)"
      ]
     },
     "execution_count": 30,
     "metadata": {},
     "output_type": "execute_result"
    }
   ],
   "source": [
    "from sklearn.ensemble import RandomForestClassifier\n",
    "classifier = RandomForestClassifier(random_state = 0)\n",
    "classifier.fit(X_train, Y_train)"
   ]
  },
  {
   "cell_type": "code",
   "execution_count": 31,
   "id": "e4957620",
   "metadata": {},
   "outputs": [],
   "source": [
    "Y_pred = classifier.predict(X_test)"
   ]
  },
  {
   "cell_type": "code",
   "execution_count": 32,
   "id": "7a9111ee",
   "metadata": {},
   "outputs": [
    {
     "data": {
      "text/plain": [
       "0.6857751353270033"
      ]
     },
     "execution_count": 32,
     "metadata": {},
     "output_type": "execute_result"
    }
   ],
   "source": [
    "from sklearn.metrics import accuracy_score\n",
    "(accuracy_score(Y_test,Y_pred))"
   ]
  },
  {
   "cell_type": "code",
   "execution_count": 33,
   "id": "e38b3e6c",
   "metadata": {},
   "outputs": [
    {
     "data": {
      "text/plain": [
       "movie_name         0\n",
       "year-of-release    0\n",
       "trailer            0\n",
       "movie              0\n",
       "dtype: int64"
      ]
     },
     "execution_count": 33,
     "metadata": {},
     "output_type": "execute_result"
    }
   ],
   "source": [
    "df2.isna().sum()"
   ]
  },
  {
   "cell_type": "code",
   "execution_count": 34,
   "id": "e4625203",
   "metadata": {},
   "outputs": [
    {
     "data": {
      "text/plain": [
       "movie_name         0\n",
       "year-of-release    0\n",
       "trailer            0\n",
       "movie              0\n",
       "dtype: int64"
      ]
     },
     "execution_count": 34,
     "metadata": {},
     "output_type": "execute_result"
    }
   ],
   "source": [
    "df2.isna().sum()"
   ]
  },
  {
   "cell_type": "code",
   "execution_count": 35,
   "id": "03040c7b",
   "metadata": {},
   "outputs": [],
   "source": [
    "X=df2.drop('year-of-release',axis=1)\n",
    "y=df2['year-of-release']\n",
    "from sklearn.model_selection import train_test_split\n",
    "X_train,X_test,Y_train,Y_test=train_test_split(X,y,test_size=0.35,random_state=42)"
   ]
  },
  {
   "cell_type": "code",
   "execution_count": 36,
   "id": "6359abe2",
   "metadata": {},
   "outputs": [],
   "source": [
    "encoder = ce.OrdinalEncoder(cols=['movie_name'])\n",
    "X_train = encoder.fit_transform(X_train)\n",
    "X_test = encoder.transform(X_test)"
   ]
  },
  {
   "cell_type": "code",
   "execution_count": 37,
   "id": "25175e45",
   "metadata": {},
   "outputs": [
    {
     "data": {
      "text/plain": [
       "RandomForestClassifier(random_state=0)"
      ]
     },
     "execution_count": 37,
     "metadata": {},
     "output_type": "execute_result"
    }
   ],
   "source": [
    "from sklearn.ensemble import RandomForestClassifier\n",
    "classifier = RandomForestClassifier(random_state = 0)\n",
    "classifier.fit(X_train, Y_train)"
   ]
  },
  {
   "cell_type": "code",
   "execution_count": 38,
   "id": "940f1e18",
   "metadata": {},
   "outputs": [],
   "source": [
    "Y_pred = classifier.predict(X_test)"
   ]
  },
  {
   "cell_type": "code",
   "execution_count": 39,
   "id": "673fca30",
   "metadata": {},
   "outputs": [
    {
     "data": {
      "text/plain": [
       "0.09090909090909091"
      ]
     },
     "execution_count": 39,
     "metadata": {},
     "output_type": "execute_result"
    }
   ],
   "source": [
    "from sklearn.metrics import accuracy_score\n",
    "(accuracy_score(Y_test,Y_pred))"
   ]
  },
  {
   "cell_type": "code",
   "execution_count": 40,
   "id": "1829ccb6",
   "metadata": {},
   "outputs": [],
   "source": [
    "import datacompy"
   ]
  },
  {
   "cell_type": "code",
   "execution_count": 41,
   "id": "1fd35f5f",
   "metadata": {},
   "outputs": [
    {
     "name": "stdout",
     "output_type": "stream",
     "text": [
      "DataComPy Comparison\n",
      "--------------------\n",
      "\n",
      "DataFrame Summary\n",
      "-----------------\n",
      "\n",
      "  DataFrame  Columns   Rows\n",
      "0       df1        5  32197\n",
      "1       df2        4    880\n",
      "\n",
      "Column Summary\n",
      "--------------\n",
      "\n",
      "Number of columns in common: 1\n",
      "Number of columns in df1 but not in df2: 4\n",
      "Number of columns in df2 but not in df1: 3\n",
      "\n",
      "Row Summary\n",
      "-----------\n",
      "\n",
      "Matched on: movie_name\n",
      "Any duplicates on match values: Yes\n",
      "Absolute Tolerance: 0\n",
      "Relative Tolerance: 0\n",
      "Number of rows in common: 851\n",
      "Number of rows in df1 but not in df2: 31,346\n",
      "Number of rows in df2 but not in df1: 29\n",
      "\n",
      "Number of rows with some compared columns unequal: 0\n",
      "Number of rows with all compared columns equal: 851\n",
      "\n",
      "Column Comparison\n",
      "-----------------\n",
      "\n",
      "Number of columns compared with some values unequal: 0\n",
      "Number of columns compared with all values equal: 1\n",
      "Total number of values which compare unequal: 0\n",
      "\n",
      "Sample Rows Only in df1 (First 10 Columns)\n",
      "------------------------------------------\n",
      "\n",
      "       frame_number  gender  emotion    year              movie_name\n",
      "16858          92.0     1.0     fear  2013.0      meri_dad_ki_maruti\n",
      "16542          88.0     0.0    happy  2015.0            guddu_ki_gun\n",
      "5803          147.0     1.0    angry  2010.0                 ishqiya\n",
      "10463          60.0     1.0    happy  2008.0     mere_baap_pehle_aap\n",
      "9234           58.0     1.0  neutral  2015.0  tanu_weds_manu_returns\n",
      "26146          51.0     1.0    happy  2014.0                  o_teri\n",
      "29262          70.0     1.0    happy  2015.0  kis_kisko_pyaar_karoon\n",
      "7602          119.0     0.0      sad  2009.0          kambakkht_ishq\n",
      "17015          96.0     1.0    angry  2010.0                   kites\n",
      "3340           70.0     1.0      sad  2011.0        stanley_ka_dabba\n",
      "\n",
      "Sample Rows Only in df2 (First 10 Columns)\n",
      "------------------------------------------\n",
      "\n",
      "            movie_name  year-of-release  trailer  movie\n",
      "32211              msg           2015.0      1.0    0.0\n",
      "32202         gumnaam_           2008.0      1.0    0.0\n",
      "32216           bazaar           2014.0      1.0    0.0\n",
      "32207       road_movie           2010.0      1.0    0.0\n",
      "32219    khatta_meetha           2010.0      1.0    0.0\n",
      "32206               om           2014.0      1.0    0.0\n",
      "32214            saheb           2013.0      1.0    0.0\n",
      "32212               6_           2014.0      1.0    0.0\n",
      "32222             emi_           2008.0      1.0    0.0\n",
      "32205  rakta_charitra_           2010.0      1.0    0.0\n",
      "\n",
      "\n"
     ]
    }
   ],
   "source": [
    "compare = datacompy.Compare(df1,df2,join_columns='movie_name')\n",
    "print(compare.report())"
   ]
  },
  {
   "cell_type": "code",
   "execution_count": null,
   "id": "33eaf0c9",
   "metadata": {},
   "outputs": [],
   "source": []
  },
  {
   "cell_type": "code",
   "execution_count": null,
   "id": "96812925",
   "metadata": {},
   "outputs": [],
   "source": []
  }
 ],
 "metadata": {
  "kernelspec": {
   "display_name": "Python 3 (ipykernel)",
   "language": "python",
   "name": "python3"
  },
  "language_info": {
   "codemirror_mode": {
    "name": "ipython",
    "version": 3
   },
   "file_extension": ".py",
   "mimetype": "text/x-python",
   "name": "python",
   "nbconvert_exporter": "python",
   "pygments_lexer": "ipython3",
   "version": "3.9.12"
  }
 },
 "nbformat": 4,
 "nbformat_minor": 5
}
