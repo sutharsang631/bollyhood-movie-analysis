{
 "cells": [
  {
   "cell_type": "code",
   "execution_count": 1,
   "id": "bc008f8b",
   "metadata": {},
   "outputs": [],
   "source": [
    "import os\n",
    "import numpy as np\n",
    "import pandas as pd"
   ]
  },
  {
   "cell_type": "code",
   "execution_count": 2,
   "id": "49abf9aa",
   "metadata": {},
   "outputs": [],
   "source": [
    "os.chdir(\"C:\\\\Users\\\\Thispc\\\\Desktop\\\\python\\\\carpred\\\\wikipedia-data\")"
   ]
  },
  {
   "cell_type": "code",
   "execution_count": 3,
   "id": "485ce846",
   "metadata": {},
   "outputs": [],
   "source": [
    "df= pd.read_csv('male_mentions_centrality.csv')\n"
   ]
  },
  {
   "cell_type": "code",
   "execution_count": 4,
   "id": "91f4fa87",
   "metadata": {},
   "outputs": [],
   "source": [
    "df1= pd.read_csv('female_mentions_centrality.csv')"
   ]
  },
  {
   "cell_type": "code",
   "execution_count": 5,
   "id": "c73fa2f5",
   "metadata": {},
   "outputs": [
    {
     "data": {
      "text/html": [
       "<div>\n",
       "<style scoped>\n",
       "    .dataframe tbody tr th:only-of-type {\n",
       "        vertical-align: middle;\n",
       "    }\n",
       "\n",
       "    .dataframe tbody tr th {\n",
       "        vertical-align: top;\n",
       "    }\n",
       "\n",
       "    .dataframe thead th {\n",
       "        text-align: right;\n",
       "    }\n",
       "</style>\n",
       "<table border=\"1\" class=\"dataframe\">\n",
       "  <thead>\n",
       "    <tr style=\"text-align: right;\">\n",
       "      <th></th>\n",
       "      <th>MENTIONS</th>\n",
       "      <th>TOTAL CENTRALITY</th>\n",
       "      <th>COUNT</th>\n",
       "      <th>AVERAGE CENTRALITY</th>\n",
       "    </tr>\n",
       "  </thead>\n",
       "  <tbody>\n",
       "    <tr>\n",
       "      <th>0</th>\n",
       "      <td>13.0</td>\n",
       "      <td>9219.200000</td>\n",
       "      <td>131.0</td>\n",
       "      <td>70.375573</td>\n",
       "    </tr>\n",
       "    <tr>\n",
       "      <th>1</th>\n",
       "      <td>11.0</td>\n",
       "      <td>29.000000</td>\n",
       "      <td>59.0</td>\n",
       "      <td>0.491525</td>\n",
       "    </tr>\n",
       "    <tr>\n",
       "      <th>2</th>\n",
       "      <td>5.0</td>\n",
       "      <td>469.333333</td>\n",
       "      <td>63.0</td>\n",
       "      <td>7.449735</td>\n",
       "    </tr>\n",
       "    <tr>\n",
       "      <th>3</th>\n",
       "      <td>2.0</td>\n",
       "      <td>0.000000</td>\n",
       "      <td>29.0</td>\n",
       "      <td>0.000000</td>\n",
       "    </tr>\n",
       "    <tr>\n",
       "      <th>4</th>\n",
       "      <td>4.0</td>\n",
       "      <td>94.000000</td>\n",
       "      <td>38.0</td>\n",
       "      <td>2.473684</td>\n",
       "    </tr>\n",
       "    <tr>\n",
       "      <th>...</th>\n",
       "      <td>...</td>\n",
       "      <td>...</td>\n",
       "      <td>...</td>\n",
       "      <td>...</td>\n",
       "    </tr>\n",
       "    <tr>\n",
       "      <th>9348</th>\n",
       "      <td>12.0</td>\n",
       "      <td>517.666667</td>\n",
       "      <td>114.0</td>\n",
       "      <td>4.540936</td>\n",
       "    </tr>\n",
       "    <tr>\n",
       "      <th>9349</th>\n",
       "      <td>2.0</td>\n",
       "      <td>429.500000</td>\n",
       "      <td>47.0</td>\n",
       "      <td>9.138298</td>\n",
       "    </tr>\n",
       "    <tr>\n",
       "      <th>9350</th>\n",
       "      <td>6.0</td>\n",
       "      <td>267.666667</td>\n",
       "      <td>47.0</td>\n",
       "      <td>5.695035</td>\n",
       "    </tr>\n",
       "    <tr>\n",
       "      <th>9351</th>\n",
       "      <td>11.0</td>\n",
       "      <td>640.833333</td>\n",
       "      <td>106.0</td>\n",
       "      <td>6.045597</td>\n",
       "    </tr>\n",
       "    <tr>\n",
       "      <th>9352</th>\n",
       "      <td>5.0</td>\n",
       "      <td>95.666667</td>\n",
       "      <td>52.0</td>\n",
       "      <td>1.839744</td>\n",
       "    </tr>\n",
       "  </tbody>\n",
       "</table>\n",
       "<p>9353 rows × 4 columns</p>\n",
       "</div>"
      ],
      "text/plain": [
       "      MENTIONS  TOTAL CENTRALITY  COUNT  AVERAGE CENTRALITY\n",
       "0         13.0       9219.200000  131.0           70.375573\n",
       "1         11.0         29.000000   59.0            0.491525\n",
       "2          5.0        469.333333   63.0            7.449735\n",
       "3          2.0          0.000000   29.0            0.000000\n",
       "4          4.0         94.000000   38.0            2.473684\n",
       "...        ...               ...    ...                 ...\n",
       "9348      12.0        517.666667  114.0            4.540936\n",
       "9349       2.0        429.500000   47.0            9.138298\n",
       "9350       6.0        267.666667   47.0            5.695035\n",
       "9351      11.0        640.833333  106.0            6.045597\n",
       "9352       5.0         95.666667   52.0            1.839744\n",
       "\n",
       "[9353 rows x 4 columns]"
      ]
     },
     "execution_count": 5,
     "metadata": {},
     "output_type": "execute_result"
    }
   ],
   "source": [
    "df=df.drop('MOVIE NAME',axis=1)\n",
    "df=df.drop('CAST',axis=1)\n",
    "df"
   ]
  },
  {
   "cell_type": "code",
   "execution_count": 6,
   "id": "a1556dda",
   "metadata": {},
   "outputs": [
    {
     "data": {
      "text/html": [
       "<div>\n",
       "<style scoped>\n",
       "    .dataframe tbody tr th:only-of-type {\n",
       "        vertical-align: middle;\n",
       "    }\n",
       "\n",
       "    .dataframe tbody tr th {\n",
       "        vertical-align: top;\n",
       "    }\n",
       "\n",
       "    .dataframe thead th {\n",
       "        text-align: right;\n",
       "    }\n",
       "</style>\n",
       "<table border=\"1\" class=\"dataframe\">\n",
       "  <thead>\n",
       "    <tr style=\"text-align: right;\">\n",
       "      <th></th>\n",
       "      <th>MENTIONS</th>\n",
       "      <th>TOTAL CENTRALITY</th>\n",
       "      <th>COUNT</th>\n",
       "      <th>AVERAGE CENTRALITY</th>\n",
       "    </tr>\n",
       "  </thead>\n",
       "  <tbody>\n",
       "    <tr>\n",
       "      <th>0</th>\n",
       "      <td>2.0</td>\n",
       "      <td>222.500000</td>\n",
       "      <td>12.0</td>\n",
       "      <td>18.541667</td>\n",
       "    </tr>\n",
       "    <tr>\n",
       "      <th>1</th>\n",
       "      <td>11.0</td>\n",
       "      <td>868.166667</td>\n",
       "      <td>131.0</td>\n",
       "      <td>6.627226</td>\n",
       "    </tr>\n",
       "    <tr>\n",
       "      <th>2</th>\n",
       "      <td>4.0</td>\n",
       "      <td>0.000000</td>\n",
       "      <td>89.0</td>\n",
       "      <td>0.000000</td>\n",
       "    </tr>\n",
       "    <tr>\n",
       "      <th>3</th>\n",
       "      <td>9.0</td>\n",
       "      <td>319.000000</td>\n",
       "      <td>79.0</td>\n",
       "      <td>4.037975</td>\n",
       "    </tr>\n",
       "    <tr>\n",
       "      <th>4</th>\n",
       "      <td>6.0</td>\n",
       "      <td>48.000000</td>\n",
       "      <td>54.0</td>\n",
       "      <td>0.888889</td>\n",
       "    </tr>\n",
       "    <tr>\n",
       "      <th>...</th>\n",
       "      <td>...</td>\n",
       "      <td>...</td>\n",
       "      <td>...</td>\n",
       "      <td>...</td>\n",
       "    </tr>\n",
       "    <tr>\n",
       "      <th>5043</th>\n",
       "      <td>1.0</td>\n",
       "      <td>243.000000</td>\n",
       "      <td>19.0</td>\n",
       "      <td>12.789474</td>\n",
       "    </tr>\n",
       "    <tr>\n",
       "      <th>5044</th>\n",
       "      <td>81.0</td>\n",
       "      <td>6975.333333</td>\n",
       "      <td>596.0</td>\n",
       "      <td>11.703579</td>\n",
       "    </tr>\n",
       "    <tr>\n",
       "      <th>5045</th>\n",
       "      <td>22.0</td>\n",
       "      <td>565.500000</td>\n",
       "      <td>242.0</td>\n",
       "      <td>2.336777</td>\n",
       "    </tr>\n",
       "    <tr>\n",
       "      <th>5046</th>\n",
       "      <td>20.0</td>\n",
       "      <td>624.166667</td>\n",
       "      <td>187.0</td>\n",
       "      <td>3.337790</td>\n",
       "    </tr>\n",
       "    <tr>\n",
       "      <th>5047</th>\n",
       "      <td>4.0</td>\n",
       "      <td>116.833333</td>\n",
       "      <td>60.0</td>\n",
       "      <td>1.947222</td>\n",
       "    </tr>\n",
       "  </tbody>\n",
       "</table>\n",
       "<p>5048 rows × 4 columns</p>\n",
       "</div>"
      ],
      "text/plain": [
       "      MENTIONS  TOTAL CENTRALITY  COUNT  AVERAGE CENTRALITY\n",
       "0          2.0        222.500000   12.0           18.541667\n",
       "1         11.0        868.166667  131.0            6.627226\n",
       "2          4.0          0.000000   89.0            0.000000\n",
       "3          9.0        319.000000   79.0            4.037975\n",
       "4          6.0         48.000000   54.0            0.888889\n",
       "...        ...               ...    ...                 ...\n",
       "5043       1.0        243.000000   19.0           12.789474\n",
       "5044      81.0       6975.333333  596.0           11.703579\n",
       "5045      22.0        565.500000  242.0            2.336777\n",
       "5046      20.0        624.166667  187.0            3.337790\n",
       "5047       4.0        116.833333   60.0            1.947222\n",
       "\n",
       "[5048 rows x 4 columns]"
      ]
     },
     "execution_count": 6,
     "metadata": {},
     "output_type": "execute_result"
    }
   ],
   "source": [
    "df1=df1.drop('MOVIE NAME',axis=1)\n",
    "df1=df1.drop('CAST',axis=1)\n",
    "df1"
   ]
  },
  {
   "cell_type": "code",
   "execution_count": 7,
   "id": "07bac3a8",
   "metadata": {},
   "outputs": [
    {
     "name": "stdout",
     "output_type": "stream",
     "text": [
      "<class 'pandas.core.frame.DataFrame'>\n",
      "RangeIndex: 9353 entries, 0 to 9352\n",
      "Data columns (total 4 columns):\n",
      " #   Column              Non-Null Count  Dtype  \n",
      "---  ------              --------------  -----  \n",
      " 0   MENTIONS            9348 non-null   float64\n",
      " 1   TOTAL CENTRALITY    9348 non-null   float64\n",
      " 2   COUNT               9348 non-null   float64\n",
      " 3   AVERAGE CENTRALITY  9348 non-null   float64\n",
      "dtypes: float64(4)\n",
      "memory usage: 292.4 KB\n"
     ]
    }
   ],
   "source": [
    "df.info()"
   ]
  },
  {
   "cell_type": "code",
   "execution_count": 8,
   "id": "0e3b18a2",
   "metadata": {},
   "outputs": [
    {
     "name": "stdout",
     "output_type": "stream",
     "text": [
      "<class 'pandas.core.frame.DataFrame'>\n",
      "RangeIndex: 5048 entries, 0 to 5047\n",
      "Data columns (total 4 columns):\n",
      " #   Column              Non-Null Count  Dtype  \n",
      "---  ------              --------------  -----  \n",
      " 0   MENTIONS            5043 non-null   float64\n",
      " 1   TOTAL CENTRALITY    5043 non-null   float64\n",
      " 2   COUNT               5043 non-null   float64\n",
      " 3   AVERAGE CENTRALITY  5043 non-null   float64\n",
      "dtypes: float64(4)\n",
      "memory usage: 157.9 KB\n"
     ]
    }
   ],
   "source": [
    "df1.info()"
   ]
  },
  {
   "cell_type": "code",
   "execution_count": 9,
   "id": "a8f837e9",
   "metadata": {},
   "outputs": [],
   "source": [
    "import matplotlib.pyplot as plt"
   ]
  },
  {
   "cell_type": "code",
   "execution_count": 10,
   "id": "f1ebf3ad",
   "metadata": {},
   "outputs": [
    {
     "data": {
      "text/plain": [
       "<AxesSubplot:ylabel='Frequency'>"
      ]
     },
     "execution_count": 10,
     "metadata": {},
     "output_type": "execute_result"
    },
    {
     "data": {
      "image/png": "[encoded data removed]",
      "text/plain": [
       "<Figure size 432x288 with 1 Axes>"
      ]
     },
     "metadata": {
      "needs_background": "light"
     },
     "output_type": "display_data"
    }
   ],
   "source": [
    "df1.plot(kind='hist',x='COUNT')"
   ]
  },
  {
   "cell_type": "code",
   "execution_count": 11,
   "id": "c6daba1c",
   "metadata": {},
   "outputs": [
    {
     "data": {
      "text/plain": [
       "<AxesSubplot:ylabel='Frequency'>"
      ]
     },
     "execution_count": 11,
     "metadata": {},
     "output_type": "execute_result"
    },
    {
     "data": {
      "image/png": "[encoded data removed]",
      "text/plain": [
       "<Figure size 432x288 with 1 Axes>"
      ]
     },
     "metadata": {
      "needs_background": "light"
     },
     "output_type": "display_data"
    }
   ],
   "source": [
    "df.plot(kind='hist',x='COUNT')"
   ]
  },
  {
   "cell_type": "code",
   "execution_count": 12,
   "id": "0d4e6f2d",
   "metadata": {},
   "outputs": [
    {
     "data": {
      "text/plain": [
       "<matplotlib.legend.Legend at 0x196a213aa00>"
      ]
     },
     "execution_count": 12,
     "metadata": {},
     "output_type": "execute_result"
    },
    {
     "data": {
      "image/png": "[encoded data removed]",
      "text/plain": [
       "<Figure size 432x288 with 2 Axes>"
      ]
     },
     "metadata": {
      "needs_background": "light"
     },
     "output_type": "display_data"
    }
   ],
   "source": [
    "fig, ax = plt.subplots()\n",
    "ax2 = ax.twinx()\n",
    "\n",
    "df.plot(x=\"MENTIONS\", y=[\"COUNT\"], ax=ax)\n",
    "df1.plot(x=\"MENTIONS\", y=[\"COUNT\"], ax=ax2,ls= \"--\",c='green')\n",
    "fig.legend(loc=\"upper right\", bbox_to_anchor=(0,0), bbox_transform=ax.transAxes)"
   ]
  },
  {
   "cell_type": "markdown",
   "id": "00ac593d",
   "metadata": {},
   "source": [
    "# data cleaning"
   ]
  },
  {
   "cell_type": "code",
   "execution_count": 13,
   "id": "daa80416",
   "metadata": {
    "scrolled": true
   },
   "outputs": [
    {
     "data": {
      "text/plain": [
       "MENTIONS              5\n",
       "TOTAL CENTRALITY      5\n",
       "COUNT                 5\n",
       "AVERAGE CENTRALITY    5\n",
       "dtype: int64"
      ]
     },
     "execution_count": 13,
     "metadata": {},
     "output_type": "execute_result"
    }
   ],
   "source": [
    "df.isna().sum()"
   ]
  },
  {
   "cell_type": "code",
   "execution_count": 14,
   "id": "0775142f",
   "metadata": {},
   "outputs": [
    {
     "data": {
      "text/plain": [
       "51.0"
      ]
     },
     "execution_count": 14,
     "metadata": {},
     "output_type": "execute_result"
    }
   ],
   "source": [
    "\n",
    "\n",
    "meanv=df['COUNT'].median()\n",
    "meanv"
   ]
  },
  {
   "cell_type": "code",
   "execution_count": 15,
   "id": "3b8f2f8f",
   "metadata": {},
   "outputs": [
    {
     "data": {
      "text/plain": [
       "MENTIONS              5\n",
       "TOTAL CENTRALITY      5\n",
       "COUNT                 0\n",
       "AVERAGE CENTRALITY    5\n",
       "dtype: int64"
      ]
     },
     "execution_count": 15,
     "metadata": {},
     "output_type": "execute_result"
    }
   ],
   "source": [
    "df['COUNT'].fillna(value=meanv,inplace=True)\n",
    "df.isna().sum()"
   ]
  },
  {
   "cell_type": "code",
   "execution_count": 16,
   "id": "084c7453",
   "metadata": {},
   "outputs": [
    {
     "data": {
      "text/plain": [
       "MENTIONS              0\n",
       "TOTAL CENTRALITY      5\n",
       "COUNT                 0\n",
       "AVERAGE CENTRALITY    5\n",
       "dtype: int64"
      ]
     },
     "execution_count": 16,
     "metadata": {},
     "output_type": "execute_result"
    }
   ],
   "source": [
    "df['MENTIONS'].fillna(value=df['MENTIONS'].mean(),inplace=True)\n",
    "df.isna().sum()"
   ]
  },
  {
   "cell_type": "code",
   "execution_count": 17,
   "id": "2cd4e282",
   "metadata": {},
   "outputs": [
    {
     "data": {
      "text/plain": [
       "MENTIONS              0\n",
       "TOTAL CENTRALITY      0\n",
       "COUNT                 0\n",
       "AVERAGE CENTRALITY    5\n",
       "dtype: int64"
      ]
     },
     "execution_count": 17,
     "metadata": {},
     "output_type": "execute_result"
    }
   ],
   "source": [
    "\n",
    "df['TOTAL CENTRALITY'].fillna(value=df['TOTAL CENTRALITY'].mean(),inplace=True)\n",
    "df.isna().sum()"
   ]
  },
  {
   "cell_type": "code",
   "execution_count": 18,
   "id": "9471b79a",
   "metadata": {},
   "outputs": [
    {
     "data": {
      "text/plain": [
       "MENTIONS              0\n",
       "TOTAL CENTRALITY      0\n",
       "COUNT                 0\n",
       "AVERAGE CENTRALITY    0\n",
       "dtype: int64"
      ]
     },
     "execution_count": 18,
     "metadata": {},
     "output_type": "execute_result"
    }
   ],
   "source": [
    "df['AVERAGE CENTRALITY'].fillna(value=df['AVERAGE CENTRALITY'].median(),inplace=True)\n",
    "df.isna().sum()"
   ]
  },
  {
   "cell_type": "code",
   "execution_count": 19,
   "id": "d09243fe",
   "metadata": {
    "scrolled": true
   },
   "outputs": [
    {
     "data": {
      "text/plain": [
       "MENTIONS              0\n",
       "TOTAL CENTRALITY      0\n",
       "COUNT                 0\n",
       "AVERAGE CENTRALITY    0\n",
       "dtype: int64"
      ]
     },
     "execution_count": 19,
     "metadata": {},
     "output_type": "execute_result"
    }
   ],
   "source": [
    "df.isna().sum()\n"
   ]
  },
  {
   "cell_type": "code",
   "execution_count": 20,
   "id": "72390307",
   "metadata": {
    "scrolled": true
   },
   "outputs": [],
   "source": [
    "X=df.drop('COUNT',axis=1)\n",
    "y=df['COUNT']\n",
    "\n",
    "from sklearn.model_selection import train_test_split\n",
    "X_train,X_test,Y_train,Y_test=train_test_split(X,y,test_size=0.25,random_state=42)\n"
   ]
  },
  {
   "cell_type": "code",
   "execution_count": 21,
   "id": "9afc123d",
   "metadata": {},
   "outputs": [
    {
     "data": {
      "text/html": [
       "<div>\n",
       "<style scoped>\n",
       "    .dataframe tbody tr th:only-of-type {\n",
       "        vertical-align: middle;\n",
       "    }\n",
       "\n",
       "    .dataframe tbody tr th {\n",
       "        vertical-align: top;\n",
       "    }\n",
       "\n",
       "    .dataframe thead th {\n",
       "        text-align: right;\n",
       "    }\n",
       "</style>\n",
       "<table border=\"1\" class=\"dataframe\">\n",
       "  <thead>\n",
       "    <tr style=\"text-align: right;\">\n",
       "      <th></th>\n",
       "      <th>MENTIONS</th>\n",
       "      <th>TOTAL CENTRALITY</th>\n",
       "      <th>AVERAGE CENTRALITY</th>\n",
       "    </tr>\n",
       "  </thead>\n",
       "  <tbody>\n",
       "    <tr>\n",
       "      <th>815</th>\n",
       "      <td>1.0</td>\n",
       "      <td>26.000000</td>\n",
       "      <td>3.714286</td>\n",
       "    </tr>\n",
       "    <tr>\n",
       "      <th>2131</th>\n",
       "      <td>15.0</td>\n",
       "      <td>649.000000</td>\n",
       "      <td>3.345361</td>\n",
       "    </tr>\n",
       "    <tr>\n",
       "      <th>7565</th>\n",
       "      <td>7.0</td>\n",
       "      <td>1018.030159</td>\n",
       "      <td>5.784262</td>\n",
       "    </tr>\n",
       "    <tr>\n",
       "      <th>3946</th>\n",
       "      <td>23.0</td>\n",
       "      <td>7486.180000</td>\n",
       "      <td>40.908087</td>\n",
       "    </tr>\n",
       "    <tr>\n",
       "      <th>6134</th>\n",
       "      <td>14.0</td>\n",
       "      <td>352.000000</td>\n",
       "      <td>2.444444</td>\n",
       "    </tr>\n",
       "    <tr>\n",
       "      <th>...</th>\n",
       "      <td>...</td>\n",
       "      <td>...</td>\n",
       "      <td>...</td>\n",
       "    </tr>\n",
       "    <tr>\n",
       "      <th>5734</th>\n",
       "      <td>6.0</td>\n",
       "      <td>656.000000</td>\n",
       "      <td>5.085271</td>\n",
       "    </tr>\n",
       "    <tr>\n",
       "      <th>5191</th>\n",
       "      <td>1.0</td>\n",
       "      <td>13.000000</td>\n",
       "      <td>1.625000</td>\n",
       "    </tr>\n",
       "    <tr>\n",
       "      <th>5390</th>\n",
       "      <td>3.0</td>\n",
       "      <td>439.833333</td>\n",
       "      <td>8.145062</td>\n",
       "    </tr>\n",
       "    <tr>\n",
       "      <th>860</th>\n",
       "      <td>1.0</td>\n",
       "      <td>54.000000</td>\n",
       "      <td>4.153846</td>\n",
       "    </tr>\n",
       "    <tr>\n",
       "      <th>7270</th>\n",
       "      <td>2.0</td>\n",
       "      <td>9.000000</td>\n",
       "      <td>0.300000</td>\n",
       "    </tr>\n",
       "  </tbody>\n",
       "</table>\n",
       "<p>7014 rows × 3 columns</p>\n",
       "</div>"
      ],
      "text/plain": [
       "      MENTIONS  TOTAL CENTRALITY  AVERAGE CENTRALITY\n",
       "815        1.0         26.000000            3.714286\n",
       "2131      15.0        649.000000            3.345361\n",
       "7565       7.0       1018.030159            5.784262\n",
       "3946      23.0       7486.180000           40.908087\n",
       "6134      14.0        352.000000            2.444444\n",
       "...        ...               ...                 ...\n",
       "5734       6.0        656.000000            5.085271\n",
       "5191       1.0         13.000000            1.625000\n",
       "5390       3.0        439.833333            8.145062\n",
       "860        1.0         54.000000            4.153846\n",
       "7270       2.0          9.000000            0.300000\n",
       "\n",
       "[7014 rows x 3 columns]"
      ]
     },
     "execution_count": 21,
     "metadata": {},
     "output_type": "execute_result"
    }
   ],
   "source": [
    "X_train"
   ]
  },
  {
   "cell_type": "markdown",
   "id": "10eb2153",
   "metadata": {},
   "source": [
    "# Linear Regression"
   ]
  },
  {
   "cell_type": "code",
   "execution_count": 30,
   "id": "293c02d9",
   "metadata": {},
   "outputs": [
    {
     "data": {
      "text/plain": [
       "LinearRegression()"
      ]
     },
     "execution_count": 30,
     "metadata": {},
     "output_type": "execute_result"
    }
   ],
   "source": [
    "from sklearn.linear_model import LinearRegression\n",
    "lr = LinearRegression()\n",
    "lr.fit(X_train, Y_train)"
   ]
  },
  {
   "cell_type": "code",
   "execution_count": 31,
   "id": "b5e50f64",
   "metadata": {},
   "outputs": [],
   "source": [
    "lr.predict(X_test)\n",
    "Y_pred = lr.predict(X_test)"
   ]
  },
  {
   "cell_type": "code",
   "execution_count": 32,
   "id": "9488e817",
   "metadata": {},
   "outputs": [
    {
     "data": {
      "text/plain": [
       "array([200.77183203,  59.80786073, 174.80458867, ...,  53.42512193,\n",
       "        35.53329541,  54.73831376])"
      ]
     },
     "execution_count": 32,
     "metadata": {},
     "output_type": "execute_result"
    }
   ],
   "source": [
    "Y_pred"
   ]
  },
  {
   "cell_type": "code",
   "execution_count": 33,
   "id": "f5d4d32f",
   "metadata": {},
   "outputs": [],
   "source": [
    "cutoff = 0.7                              \n",
    "y_pred_classes = np.zeros_like(Y_pred)    \n",
    "y_pred_classes[Y_pred > cutoff] = 1       "
   ]
  },
  {
   "cell_type": "code",
   "execution_count": 34,
   "id": "ceab244d",
   "metadata": {},
   "outputs": [],
   "source": [
    "y_test_classes = np.zeros_like(Y_pred)\n",
    "y_test_classes[Y_test > cutoff] = 1"
   ]
  },
  {
   "cell_type": "code",
   "execution_count": 35,
   "id": "0bda2602",
   "metadata": {},
   "outputs": [
    {
     "name": "stdout",
     "output_type": "stream",
     "text": [
      "Confusion Matrix : \n",
      " [[   0   78]\n",
      " [  26 2235]]\n"
     ]
    }
   ],
   "source": [
    "from sklearn.metrics import confusion_matrix\n",
    "cm = confusion_matrix(y_test_classes, y_pred_classes)\n",
    "\n",
    "print (\"Confusion Matrix : \\n\", cm)"
   ]
  },
  {
   "cell_type": "code",
   "execution_count": 36,
   "id": "dc67369a",
   "metadata": {
    "scrolled": true
   },
   "outputs": [
    {
     "name": "stdout",
     "output_type": "stream",
     "text": [
      "Accuracy :  0.9555365540829415\n"
     ]
    }
   ],
   "source": [
    "print (\"Accuracy : \", accuracy_score(y_test_classes, y_pred_classes))"
   ]
  },
  {
   "cell_type": "markdown",
   "id": "94814973",
   "metadata": {},
   "source": [
    "# input"
   ]
  },
  {
   "cell_type": "code",
   "execution_count": 37,
   "id": "5c26a9ab",
   "metadata": {},
   "outputs": [],
   "source": [
    "features = np.array([[14.0,352.000000,2.444444]])"
   ]
  },
  {
   "cell_type": "markdown",
   "id": "38d93e1b",
   "metadata": {},
   "source": [
    "# output\n"
   ]
  },
  {
   "cell_type": "code",
   "execution_count": 38,
   "id": "190a4280",
   "metadata": {
    "scrolled": true
   },
   "outputs": [
    {
     "name": "stdout",
     "output_type": "stream",
     "text": [
      "[134.39345333]\n"
     ]
    },
    {
     "name": "stderr",
     "output_type": "stream",
     "text": [
      "C:\\anaconda\\lib\\site-packages\\sklearn\\base.py:450: UserWarning: X does not have valid feature names, but LinearRegression was fitted with feature names\n",
      "  warnings.warn(\n"
     ]
    }
   ],
   "source": [
    "Y_pred = lr.predict(features)\n",
    "Y_pred =[Y_pred][0]\n",
    "print(Y_pred)"
   ]
  },
  {
   "cell_type": "code",
   "execution_count": 39,
   "id": "f6a7c833",
   "metadata": {},
   "outputs": [
    {
     "data": {
      "text/plain": [
       "MENTIONS              5\n",
       "TOTAL CENTRALITY      5\n",
       "COUNT                 5\n",
       "AVERAGE CENTRALITY    5\n",
       "dtype: int64"
      ]
     },
     "execution_count": 39,
     "metadata": {},
     "output_type": "execute_result"
    }
   ],
   "source": [
    "df1.isna().sum()"
   ]
  },
  {
   "cell_type": "code",
   "execution_count": 40,
   "id": "4c2d6c36",
   "metadata": {},
   "outputs": [
    {
     "data": {
      "text/plain": [
       "1.0"
      ]
     },
     "execution_count": 40,
     "metadata": {},
     "output_type": "execute_result"
    }
   ],
   "source": [
    "df1['MENTIONS'].mode()[0]"
   ]
  },
  {
   "cell_type": "code",
   "execution_count": 41,
   "id": "05617918",
   "metadata": {},
   "outputs": [
    {
     "data": {
      "text/plain": [
       "MENTIONS              0\n",
       "TOTAL CENTRALITY      5\n",
       "COUNT                 5\n",
       "AVERAGE CENTRALITY    5\n",
       "dtype: int64"
      ]
     },
     "execution_count": 41,
     "metadata": {},
     "output_type": "execute_result"
    }
   ],
   "source": [
    "df1['MENTIONS']=df1['MENTIONS'].fillna(value=df1['MENTIONS'].mode()[0])\n",
    "df1.isna().sum()"
   ]
  },
  {
   "cell_type": "code",
   "execution_count": 42,
   "id": "8d4626da",
   "metadata": {},
   "outputs": [
    {
     "data": {
      "text/plain": [
       "138.0"
      ]
     },
     "execution_count": 42,
     "metadata": {},
     "output_type": "execute_result"
    }
   ],
   "source": [
    "df1['TOTAL CENTRALITY'].median()"
   ]
  },
  {
   "cell_type": "code",
   "execution_count": 43,
   "id": "2dd071f6",
   "metadata": {},
   "outputs": [
    {
     "data": {
      "text/plain": [
       "MENTIONS              0\n",
       "TOTAL CENTRALITY      0\n",
       "COUNT                 5\n",
       "AVERAGE CENTRALITY    5\n",
       "dtype: int64"
      ]
     },
     "execution_count": 43,
     "metadata": {},
     "output_type": "execute_result"
    }
   ],
   "source": [
    "df1['TOTAL CENTRALITY']=df1['TOTAL CENTRALITY'].fillna(value=df1['TOTAL CENTRALITY'].median())\n",
    "df1.isna().sum()"
   ]
  },
  {
   "cell_type": "code",
   "execution_count": 44,
   "id": "6e8f9986",
   "metadata": {},
   "outputs": [
    {
     "data": {
      "text/plain": [
       "45.0"
      ]
     },
     "execution_count": 44,
     "metadata": {},
     "output_type": "execute_result"
    }
   ],
   "source": [
    "df1['COUNT'].median()"
   ]
  },
  {
   "cell_type": "code",
   "execution_count": 45,
   "id": "423b0a40",
   "metadata": {},
   "outputs": [
    {
     "data": {
      "text/plain": [
       "MENTIONS              0\n",
       "TOTAL CENTRALITY      0\n",
       "COUNT                 0\n",
       "AVERAGE CENTRALITY    5\n",
       "dtype: int64"
      ]
     },
     "execution_count": 45,
     "metadata": {},
     "output_type": "execute_result"
    }
   ],
   "source": [
    "df1['COUNT']=df1['COUNT'].fillna(value=df1['COUNT'].median())\n",
    "df1.isna().sum()"
   ]
  },
  {
   "cell_type": "code",
   "execution_count": 46,
   "id": "cc9caef3",
   "metadata": {},
   "outputs": [
    {
     "data": {
      "text/plain": [
       "4.955028816344631"
      ]
     },
     "execution_count": 46,
     "metadata": {},
     "output_type": "execute_result"
    }
   ],
   "source": [
    "df1['AVERAGE CENTRALITY'].mean()"
   ]
  },
  {
   "cell_type": "code",
   "execution_count": 47,
   "id": "72d846d5",
   "metadata": {
    "scrolled": true
   },
   "outputs": [
    {
     "data": {
      "text/plain": [
       "MENTIONS              0\n",
       "TOTAL CENTRALITY      0\n",
       "COUNT                 0\n",
       "AVERAGE CENTRALITY    0\n",
       "dtype: int64"
      ]
     },
     "execution_count": 47,
     "metadata": {},
     "output_type": "execute_result"
    }
   ],
   "source": [
    "df1['AVERAGE CENTRALITY']=df1['AVERAGE CENTRALITY'].fillna(value=df1['AVERAGE CENTRALITY'].mean())\n",
    "df1.isna().sum()"
   ]
  },
  {
   "cell_type": "code",
   "execution_count": 48,
   "id": "9da018c2",
   "metadata": {},
   "outputs": [],
   "source": [
    "X=df1.drop('COUNT',axis=1)\n",
    "y=df1['COUNT']\n",
    "\n",
    "from sklearn.model_selection import train_test_split\n",
    "X_train,X_test,Y_train,Y_test=train_test_split(X,y,test_size=0.25,random_state=42)"
   ]
  },
  {
   "cell_type": "code",
   "execution_count": 49,
   "id": "4d76631b",
   "metadata": {},
   "outputs": [
    {
     "data": {
      "text/html": [
       "<div>\n",
       "<style scoped>\n",
       "    .dataframe tbody tr th:only-of-type {\n",
       "        vertical-align: middle;\n",
       "    }\n",
       "\n",
       "    .dataframe tbody tr th {\n",
       "        vertical-align: top;\n",
       "    }\n",
       "\n",
       "    .dataframe thead th {\n",
       "        text-align: right;\n",
       "    }\n",
       "</style>\n",
       "<table border=\"1\" class=\"dataframe\">\n",
       "  <thead>\n",
       "    <tr style=\"text-align: right;\">\n",
       "      <th></th>\n",
       "      <th>MENTIONS</th>\n",
       "      <th>TOTAL CENTRALITY</th>\n",
       "      <th>AVERAGE CENTRALITY</th>\n",
       "    </tr>\n",
       "  </thead>\n",
       "  <tbody>\n",
       "    <tr>\n",
       "      <th>4288</th>\n",
       "      <td>7.0</td>\n",
       "      <td>0.000000</td>\n",
       "      <td>0.000000</td>\n",
       "    </tr>\n",
       "    <tr>\n",
       "      <th>1258</th>\n",
       "      <td>1.0</td>\n",
       "      <td>197.000000</td>\n",
       "      <td>16.416667</td>\n",
       "    </tr>\n",
       "    <tr>\n",
       "      <th>3738</th>\n",
       "      <td>2.0</td>\n",
       "      <td>0.000000</td>\n",
       "      <td>0.000000</td>\n",
       "    </tr>\n",
       "    <tr>\n",
       "      <th>3515</th>\n",
       "      <td>0.0</td>\n",
       "      <td>853.500000</td>\n",
       "      <td>21.884615</td>\n",
       "    </tr>\n",
       "    <tr>\n",
       "      <th>1116</th>\n",
       "      <td>15.0</td>\n",
       "      <td>160.000000</td>\n",
       "      <td>1.649485</td>\n",
       "    </tr>\n",
       "    <tr>\n",
       "      <th>...</th>\n",
       "      <td>...</td>\n",
       "      <td>...</td>\n",
       "      <td>...</td>\n",
       "    </tr>\n",
       "    <tr>\n",
       "      <th>4426</th>\n",
       "      <td>0.0</td>\n",
       "      <td>315.000000</td>\n",
       "      <td>4.846154</td>\n",
       "    </tr>\n",
       "    <tr>\n",
       "      <th>466</th>\n",
       "      <td>7.0</td>\n",
       "      <td>106.000000</td>\n",
       "      <td>1.247059</td>\n",
       "    </tr>\n",
       "    <tr>\n",
       "      <th>3092</th>\n",
       "      <td>9.0</td>\n",
       "      <td>184.190476</td>\n",
       "      <td>2.361416</td>\n",
       "    </tr>\n",
       "    <tr>\n",
       "      <th>3772</th>\n",
       "      <td>11.0</td>\n",
       "      <td>264.000000</td>\n",
       "      <td>2.808511</td>\n",
       "    </tr>\n",
       "    <tr>\n",
       "      <th>860</th>\n",
       "      <td>10.0</td>\n",
       "      <td>221.916667</td>\n",
       "      <td>2.133814</td>\n",
       "    </tr>\n",
       "  </tbody>\n",
       "</table>\n",
       "<p>3786 rows × 3 columns</p>\n",
       "</div>"
      ],
      "text/plain": [
       "      MENTIONS  TOTAL CENTRALITY  AVERAGE CENTRALITY\n",
       "4288       7.0          0.000000            0.000000\n",
       "1258       1.0        197.000000           16.416667\n",
       "3738       2.0          0.000000            0.000000\n",
       "3515       0.0        853.500000           21.884615\n",
       "1116      15.0        160.000000            1.649485\n",
       "...        ...               ...                 ...\n",
       "4426       0.0        315.000000            4.846154\n",
       "466        7.0        106.000000            1.247059\n",
       "3092       9.0        184.190476            2.361416\n",
       "3772      11.0        264.000000            2.808511\n",
       "860       10.0        221.916667            2.133814\n",
       "\n",
       "[3786 rows x 3 columns]"
      ]
     },
     "execution_count": 49,
     "metadata": {},
     "output_type": "execute_result"
    }
   ],
   "source": [
    "X_train"
   ]
  },
  {
   "cell_type": "code",
   "execution_count": 50,
   "id": "921fc46e",
   "metadata": {},
   "outputs": [
    {
     "data": {
      "text/plain": [
       "LinearRegression()"
      ]
     },
     "execution_count": 50,
     "metadata": {},
     "output_type": "execute_result"
    }
   ],
   "source": [
    "from sklearn.linear_model import LinearRegression\n",
    "lr = LinearRegression()\n",
    "lr.fit(X_train, Y_train)"
   ]
  },
  {
   "cell_type": "code",
   "execution_count": 51,
   "id": "6ad6d4a8",
   "metadata": {},
   "outputs": [
    {
     "data": {
      "text/plain": [
       "array([ 14.63654958,  49.82981486,  64.86064475, ...,  52.16393304,\n",
       "        83.77782584, 129.04476219])"
      ]
     },
     "execution_count": 51,
     "metadata": {},
     "output_type": "execute_result"
    }
   ],
   "source": [
    "lr.predict(X_test)\n",
    "Y_pred = lr.predict(X_test)\n",
    "Y_pred"
   ]
  },
  {
   "cell_type": "code",
   "execution_count": 52,
   "id": "35d49a46",
   "metadata": {},
   "outputs": [],
   "source": [
    "cutoff = 0.7                              \n",
    "y_pred_classes = np.zeros_like(Y_pred)    \n",
    "y_pred_classes[Y_pred > cutoff] = 1 \n",
    "y_test_classes = np.zeros_like(Y_pred)\n",
    "y_test_classes[Y_test > cutoff] = 1"
   ]
  },
  {
   "cell_type": "code",
   "execution_count": 53,
   "id": "07633f70",
   "metadata": {
    "scrolled": true
   },
   "outputs": [
    {
     "name": "stdout",
     "output_type": "stream",
     "text": [
      "Confusion Matrix : \n",
      " [[   0   32]\n",
      " [  21 1209]]\n"
     ]
    }
   ],
   "source": [
    "cm = confusion_matrix(y_test_classes, y_pred_classes)\n",
    "\n",
    "print (\"Confusion Matrix : \\n\", cm)"
   ]
  },
  {
   "cell_type": "code",
   "execution_count": 54,
   "id": "bfd395b4",
   "metadata": {},
   "outputs": [
    {
     "name": "stdout",
     "output_type": "stream",
     "text": [
      "Accuracy :  0.9580031695721077\n"
     ]
    }
   ],
   "source": [
    "print (\"Accuracy : \", accuracy_score(y_test_classes, y_pred_classes))"
   ]
  },
  {
   "cell_type": "markdown",
   "id": "ee1cd8e9",
   "metadata": {},
   "source": [
    "# Comparison"
   ]
  },
  {
   "cell_type": "code",
   "execution_count": 55,
   "id": "27d9bfd1",
   "metadata": {},
   "outputs": [],
   "source": [
    "import datacompy"
   ]
  },
  {
   "cell_type": "code",
   "execution_count": 56,
   "id": "8934cb16",
   "metadata": {},
   "outputs": [],
   "source": [
    "compare = datacompy.Compare(df,df1,join_columns='MENTIONS')"
   ]
  },
  {
   "cell_type": "code",
   "execution_count": 57,
   "id": "3d2a70cc",
   "metadata": {
    "scrolled": false
   },
   "outputs": [
    {
     "name": "stdout",
     "output_type": "stream",
     "text": [
      "DataComPy Comparison\n",
      "--------------------\n",
      "\n",
      "DataFrame Summary\n",
      "-----------------\n",
      "\n",
      "  DataFrame  Columns  Rows\n",
      "0       df1        4  9353\n",
      "1       df2        4  5048\n",
      "\n",
      "Column Summary\n",
      "--------------\n",
      "\n",
      "Number of columns in common: 4\n",
      "Number of columns in df1 but not in df2: 0\n",
      "Number of columns in df2 but not in df1: 0\n",
      "\n",
      "Row Summary\n",
      "-----------\n",
      "\n",
      "Matched on: mentions\n",
      "Any duplicates on match values: Yes\n",
      "Absolute Tolerance: 0\n",
      "Relative Tolerance: 0\n",
      "Number of rows in common: 5,026\n",
      "Number of rows in df1 but not in df2: 4,327\n",
      "Number of rows in df2 but not in df1: 22\n",
      "\n",
      "Number of rows with some compared columns unequal: 4,996\n",
      "Number of rows with all compared columns equal: 30\n",
      "\n",
      "Column Comparison\n",
      "-----------------\n",
      "\n",
      "Number of columns compared with some values unequal: 3\n",
      "Number of columns compared with all values equal: 1\n",
      "Total number of values which compare unequal: 14,727\n",
      "\n",
      "Columns with Unequal Values or Types\n",
      "------------------------------------\n",
      "\n",
      "               Column df1 dtype df2 dtype  # Unequal       Max Diff  # Null Diff\n",
      "2  average centrality   float64   float64       4902    1561.224133            0\n",
      "1               count   float64   float64       4927    1022.000000            0\n",
      "0    total centrality   float64   float64       4898  260650.111400            0\n",
      "\n",
      "Sample Rows with Unequal Values\n",
      "-------------------------------\n",
      "\n",
      "      mentions  total centrality (df1)  total centrality (df2)\n",
      "1253       2.0              179.000000              353.000000\n",
      "1936       3.0              549.833333               16.000000\n",
      "1652       6.0               75.000000              136.000000\n",
      "6014       1.0               60.000000              592.833333\n",
      "2375       1.0              570.666667              331.750000\n",
      "3370       4.0               86.000000              133.000000\n",
      "2026      10.0              277.000000               62.000000\n",
      "715        2.0               27.000000              324.500000\n",
      "2906       2.0              126.666667                0.000000\n",
      "6074       1.0                0.000000               78.000000\n",
      "\n",
      "      mentions  count (df1)  count (df2)\n",
      "998        4.0         65.0         56.0\n",
      "2567       2.0         38.0         14.0\n",
      "573        1.0         11.0         32.0\n",
      "1306       2.0         14.0          6.0\n",
      "3503      15.0        175.0         97.0\n",
      "294        0.0         60.0         41.0\n",
      "4679       1.0          8.0         18.0\n",
      "4276      28.0        194.0        208.0\n",
      "3543       1.0         15.0          8.0\n",
      "1460       3.0         77.0         19.0\n",
      "\n",
      "      mentions  average centrality (df1)  average centrality (df2)\n",
      "886        8.0                  0.294118                  3.986301\n",
      "431        2.0                  1.904762                  5.828571\n",
      "981        7.0                  3.160000                  7.901235\n",
      "2230       4.0                  3.653061                  9.254386\n",
      "4764       1.0                  6.043333                  4.454545\n",
      "1535       5.0                  2.452381                  7.489583\n",
      "2573       4.0                  1.434211                  1.333333\n",
      "3255      55.0                  5.690146                  9.991058\n",
      "2535      31.0                 10.805472                  3.069643\n",
      "1256       2.0                  0.095238                  0.000000\n",
      "\n",
      "Sample Rows Only in df1 (First 10 Columns)\n",
      "------------------------------------------\n",
      "\n",
      "      mentions  total centrality  count  average centrality\n",
      "6521      10.0         78.000000  101.0            0.772277\n",
      "6889       1.0          0.000000   14.0            0.000000\n",
      "8906       0.0        163.500000   47.0            3.478723\n",
      "5849       0.0         15.000000    2.0            7.500000\n",
      "7487       1.0         29.000000   27.0            1.074074\n",
      "8163       2.0          0.000000   24.0            0.000000\n",
      "8631       4.0          0.000000   85.0            0.000000\n",
      "8770      18.0         85.000000  142.0            0.598592\n",
      "6917      42.0       6949.091126  335.0           20.743556\n",
      "7831       1.0        488.166667   27.0           18.080247\n",
      "\n",
      "Sample Rows Only in df2 (First 10 Columns)\n",
      "------------------------------------------\n",
      "\n",
      "      mentions  total centrality  count  average centrality\n",
      "9354      89.0       7738.833333  574.0           13.482288\n",
      "9366      52.0        724.950000  381.0            1.902756\n",
      "9368      37.0        830.416667  314.0            2.644639\n",
      "9357      67.0       5312.650000  526.0           10.100095\n",
      "9371      37.0        533.333333  323.0            1.651187\n",
      "9367      66.0       1204.900000  515.0            2.339612\n",
      "9359      53.0       5787.333333  343.0           16.872692\n",
      "9372      65.0       1752.166667  490.0            3.575850\n",
      "9365      37.0       2700.333333  250.0           10.801333\n",
      "9373      37.0        567.000000  339.0            1.672566\n",
      "\n",
      "\n"
     ]
    }
   ],
   "source": [
    "print(compare.report())"
   ]
  },
  {
   "cell_type": "markdown",
   "id": "e7770831",
   "metadata": {},
   "source": [
    "# input\n"
   ]
  },
  {
   "cell_type": "code",
   "execution_count": 61,
   "id": "f401c85a",
   "metadata": {},
   "outputs": [
    {
     "name": "stdout",
     "output_type": "stream",
     "text": [
      "enter the mentions 37.0\n",
      "enter the total centrality 2700.333333\n",
      "enter the average centrality 10.801333\n"
     ]
    }
   ],
   "source": [
    "mention1=float(input(\"enter the mentions \"))\n",
    "tolcenter=float(input(\"enter the total centrality \"))\n",
    "avg=float(input(\"enter the average centrality \"))"
   ]
  },
  {
   "cell_type": "code",
   "execution_count": 62,
   "id": "b04a68b3",
   "metadata": {},
   "outputs": [],
   "source": [
    "features = np.array([[mention1,tolcenter,avg]])"
   ]
  },
  {
   "cell_type": "markdown",
   "id": "e388b27e",
   "metadata": {},
   "source": [
    "# output\n"
   ]
  },
  {
   "cell_type": "code",
   "execution_count": 63,
   "id": "e1ba39f9",
   "metadata": {},
   "outputs": [
    {
     "name": "stdout",
     "output_type": "stream",
     "text": [
      "[322.31727699]\n"
     ]
    },
    {
     "name": "stderr",
     "output_type": "stream",
     "text": [
      "C:\\anaconda\\lib\\site-packages\\sklearn\\base.py:450: UserWarning: X does not have valid feature names, but LinearRegression was fitted with feature names\n",
      "  warnings.warn(\n"
     ]
    }
   ],
   "source": [
    "Y_pred = lr.predict(features)\n",
    "Y_pred =[Y_pred][0]\n",
    "print(Y_pred)"
   ]
  },
  {
   "cell_type": "code",
   "execution_count": null,
   "id": "c1441ab2",
   "metadata": {},
   "outputs": [],
   "source": []
  }
 ],
 "metadata": {
  "kernelspec": {
   "display_name": "Python 3 (ipykernel)",
   "language": "python",
   "name": "python3"
  },
  "language_info": {
   "codemirror_mode": {
    "name": "ipython",
    "version": 3
   },
   "file_extension": ".py",
   "mimetype": "text/x-python",
   "name": "python",
   "nbconvert_exporter": "python",
   "pygments_lexer": "ipython3",
   "version": "3.9.12"
  }
 },
 "nbformat": 4,
 "nbformat_minor": 5
}
