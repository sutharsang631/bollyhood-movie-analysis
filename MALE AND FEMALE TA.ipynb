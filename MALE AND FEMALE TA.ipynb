{
 "cells": [
  {
   "cell_type": "code",
   "execution_count": 1,
   "id": "bc008f8b",
   "metadata": {},
   "outputs": [],
   "source": [
    "import os\n",
    "import numpy as np\n",
    "import pandas as pd"
   ]
  },
  {
   "cell_type": "code",
   "execution_count": 2,
   "id": "49abf9aa",
   "metadata": {},
   "outputs": [],
   "source": [
    "os.chdir(\"C:\\\\Users\\\\Thispc\\\\Desktop\\\\python\\\\carpred\\\\wikipedia-data\")"
   ]
  },
  {
   "cell_type": "code",
   "execution_count": 3,
   "id": "485ce846",
   "metadata": {},
   "outputs": [],
   "source": [
    "df= pd.read_csv('male_mentions_centrality.csv')\n"
   ]
  },
  {
   "cell_type": "code",
   "execution_count": 4,
   "id": "91f4fa87",
   "metadata": {},
   "outputs": [],
   "source": [
    "df1= pd.read_csv('female_mentions_centrality.csv')"
   ]
  },
  {
   "cell_type": "code",
   "execution_count": 5,
   "id": "c73fa2f5",
   "metadata": {},
   "outputs": [
    {
     "data": {
      "text/html": [
       "<div>\n",
       "<style scoped>\n",
       "    .dataframe tbody tr th:only-of-type {\n",
       "        vertical-align: middle;\n",
       "    }\n",
       "\n",
       "    .dataframe tbody tr th {\n",
       "        vertical-align: top;\n",
       "    }\n",
       "\n",
       "    .dataframe thead th {\n",
       "        text-align: right;\n",
       "    }\n",
       "</style>\n",
       "<table border=\"1\" class=\"dataframe\">\n",
       "  <thead>\n",
       "    <tr style=\"text-align: right;\">\n",
       "      <th></th>\n",
       "      <th>MOVIE NAME</th>\n",
       "      <th>CAST</th>\n",
       "      <th>MENTIONS</th>\n",
       "      <th>TOTAL CENTRALITY</th>\n",
       "      <th>COUNT</th>\n",
       "      <th>AVERAGE CENTRALITY</th>\n",
       "    </tr>\n",
       "  </thead>\n",
       "  <tbody>\n",
       "    <tr>\n",
       "      <th>0</th>\n",
       "      <td>Aan Milo Sajna</td>\n",
       "      <td>anil</td>\n",
       "      <td>13.0</td>\n",
       "      <td>9219.200000</td>\n",
       "      <td>131.0</td>\n",
       "      <td>70.375573</td>\n",
       "    </tr>\n",
       "    <tr>\n",
       "      <th>1</th>\n",
       "      <td>Bachpan</td>\n",
       "      <td>tom</td>\n",
       "      <td>11.0</td>\n",
       "      <td>29.000000</td>\n",
       "      <td>59.0</td>\n",
       "      <td>0.491525</td>\n",
       "    </tr>\n",
       "    <tr>\n",
       "      <th>2</th>\n",
       "      <td>Bachpan</td>\n",
       "      <td>father</td>\n",
       "      <td>5.0</td>\n",
       "      <td>469.333333</td>\n",
       "      <td>63.0</td>\n",
       "      <td>7.449735</td>\n",
       "    </tr>\n",
       "    <tr>\n",
       "      <th>3</th>\n",
       "      <td>Bachpan</td>\n",
       "      <td>rahim</td>\n",
       "      <td>2.0</td>\n",
       "      <td>0.000000</td>\n",
       "      <td>29.0</td>\n",
       "      <td>0.000000</td>\n",
       "    </tr>\n",
       "    <tr>\n",
       "      <th>4</th>\n",
       "      <td>Aag Aur Shola</td>\n",
       "      <td>nagesh</td>\n",
       "      <td>4.0</td>\n",
       "      <td>94.000000</td>\n",
       "      <td>38.0</td>\n",
       "      <td>2.473684</td>\n",
       "    </tr>\n",
       "    <tr>\n",
       "      <th>...</th>\n",
       "      <td>...</td>\n",
       "      <td>...</td>\n",
       "      <td>...</td>\n",
       "      <td>...</td>\n",
       "      <td>...</td>\n",
       "      <td>...</td>\n",
       "    </tr>\n",
       "    <tr>\n",
       "      <th>9348</th>\n",
       "      <td>Jumbo</td>\n",
       "      <td>father</td>\n",
       "      <td>12.0</td>\n",
       "      <td>517.666667</td>\n",
       "      <td>114.0</td>\n",
       "      <td>4.540936</td>\n",
       "    </tr>\n",
       "    <tr>\n",
       "      <th>9349</th>\n",
       "      <td>Jumbo</td>\n",
       "      <td>akshay</td>\n",
       "      <td>2.0</td>\n",
       "      <td>429.500000</td>\n",
       "      <td>47.0</td>\n",
       "      <td>9.138298</td>\n",
       "    </tr>\n",
       "    <tr>\n",
       "      <th>9350</th>\n",
       "      <td>Jumbo</td>\n",
       "      <td>bakhtavar</td>\n",
       "      <td>6.0</td>\n",
       "      <td>267.666667</td>\n",
       "      <td>47.0</td>\n",
       "      <td>5.695035</td>\n",
       "    </tr>\n",
       "    <tr>\n",
       "      <th>9351</th>\n",
       "      <td>Jumbo</td>\n",
       "      <td>elephant</td>\n",
       "      <td>11.0</td>\n",
       "      <td>640.833333</td>\n",
       "      <td>106.0</td>\n",
       "      <td>6.045597</td>\n",
       "    </tr>\n",
       "    <tr>\n",
       "      <th>9352</th>\n",
       "      <td>Jumbo</td>\n",
       "      <td>prince</td>\n",
       "      <td>5.0</td>\n",
       "      <td>95.666667</td>\n",
       "      <td>52.0</td>\n",
       "      <td>1.839744</td>\n",
       "    </tr>\n",
       "  </tbody>\n",
       "</table>\n",
       "<p>9353 rows × 6 columns</p>\n",
       "</div>"
      ],
      "text/plain": [
       "          MOVIE NAME       CAST  MENTIONS  TOTAL CENTRALITY  COUNT  \\\n",
       "0     Aan Milo Sajna       anil      13.0       9219.200000  131.0   \n",
       "1            Bachpan        tom      11.0         29.000000   59.0   \n",
       "2            Bachpan     father       5.0        469.333333   63.0   \n",
       "3            Bachpan      rahim       2.0          0.000000   29.0   \n",
       "4      Aag Aur Shola     nagesh       4.0         94.000000   38.0   \n",
       "...              ...        ...       ...               ...    ...   \n",
       "9348           Jumbo     father      12.0        517.666667  114.0   \n",
       "9349           Jumbo     akshay       2.0        429.500000   47.0   \n",
       "9350           Jumbo  bakhtavar       6.0        267.666667   47.0   \n",
       "9351           Jumbo   elephant      11.0        640.833333  106.0   \n",
       "9352           Jumbo     prince       5.0         95.666667   52.0   \n",
       "\n",
       "      AVERAGE CENTRALITY  \n",
       "0              70.375573  \n",
       "1               0.491525  \n",
       "2               7.449735  \n",
       "3               0.000000  \n",
       "4               2.473684  \n",
       "...                  ...  \n",
       "9348            4.540936  \n",
       "9349            9.138298  \n",
       "9350            5.695035  \n",
       "9351            6.045597  \n",
       "9352            1.839744  \n",
       "\n",
       "[9353 rows x 6 columns]"
      ]
     },
     "execution_count": 5,
     "metadata": {},
     "output_type": "execute_result"
    }
   ],
   "source": [
    "df"
   ]
  },
  {
   "cell_type": "code",
   "execution_count": 6,
   "id": "a1556dda",
   "metadata": {},
   "outputs": [
    {
     "data": {
      "text/html": [
       "<div>\n",
       "<style scoped>\n",
       "    .dataframe tbody tr th:only-of-type {\n",
       "        vertical-align: middle;\n",
       "    }\n",
       "\n",
       "    .dataframe tbody tr th {\n",
       "        vertical-align: top;\n",
       "    }\n",
       "\n",
       "    .dataframe thead th {\n",
       "        text-align: right;\n",
       "    }\n",
       "</style>\n",
       "<table border=\"1\" class=\"dataframe\">\n",
       "  <thead>\n",
       "    <tr style=\"text-align: right;\">\n",
       "      <th></th>\n",
       "      <th>MOVIE NAME</th>\n",
       "      <th>CAST</th>\n",
       "      <th>MENTIONS</th>\n",
       "      <th>TOTAL CENTRALITY</th>\n",
       "      <th>COUNT</th>\n",
       "      <th>AVERAGE CENTRALITY</th>\n",
       "    </tr>\n",
       "  </thead>\n",
       "  <tbody>\n",
       "    <tr>\n",
       "      <th>0</th>\n",
       "      <td>Aan Milo Sajna</td>\n",
       "      <td>woman</td>\n",
       "      <td>2.0</td>\n",
       "      <td>222.500000</td>\n",
       "      <td>12.0</td>\n",
       "      <td>18.541667</td>\n",
       "    </tr>\n",
       "    <tr>\n",
       "      <th>1</th>\n",
       "      <td>Aan Milo Sajna</td>\n",
       "      <td>savitri</td>\n",
       "      <td>11.0</td>\n",
       "      <td>868.166667</td>\n",
       "      <td>131.0</td>\n",
       "      <td>6.627226</td>\n",
       "    </tr>\n",
       "    <tr>\n",
       "      <th>2</th>\n",
       "      <td>Aan Milo Sajna</td>\n",
       "      <td>deepali</td>\n",
       "      <td>4.0</td>\n",
       "      <td>0.000000</td>\n",
       "      <td>89.0</td>\n",
       "      <td>0.000000</td>\n",
       "    </tr>\n",
       "    <tr>\n",
       "      <th>3</th>\n",
       "      <td>Abhinetri</td>\n",
       "      <td>anjana</td>\n",
       "      <td>9.0</td>\n",
       "      <td>319.000000</td>\n",
       "      <td>79.0</td>\n",
       "      <td>4.037975</td>\n",
       "    </tr>\n",
       "    <tr>\n",
       "      <th>4</th>\n",
       "      <td>Aag Aur Shola</td>\n",
       "      <td>usha</td>\n",
       "      <td>6.0</td>\n",
       "      <td>48.000000</td>\n",
       "      <td>54.0</td>\n",
       "      <td>0.888889</td>\n",
       "    </tr>\n",
       "    <tr>\n",
       "      <th>...</th>\n",
       "      <td>...</td>\n",
       "      <td>...</td>\n",
       "      <td>...</td>\n",
       "      <td>...</td>\n",
       "      <td>...</td>\n",
       "      <td>...</td>\n",
       "    </tr>\n",
       "    <tr>\n",
       "      <th>5043</th>\n",
       "      <td>Rab Ne Bana Di Jodi</td>\n",
       "      <td>daughter</td>\n",
       "      <td>1.0</td>\n",
       "      <td>243.000000</td>\n",
       "      <td>19.0</td>\n",
       "      <td>12.789474</td>\n",
       "    </tr>\n",
       "    <tr>\n",
       "      <th>5044</th>\n",
       "      <td>Rab Ne Bana Di Jodi</td>\n",
       "      <td>taani</td>\n",
       "      <td>81.0</td>\n",
       "      <td>6975.333333</td>\n",
       "      <td>596.0</td>\n",
       "      <td>11.703579</td>\n",
       "    </tr>\n",
       "    <tr>\n",
       "      <th>5045</th>\n",
       "      <td>Ghajini</td>\n",
       "      <td>sunita</td>\n",
       "      <td>22.0</td>\n",
       "      <td>565.500000</td>\n",
       "      <td>242.0</td>\n",
       "      <td>2.336777</td>\n",
       "    </tr>\n",
       "    <tr>\n",
       "      <th>5046</th>\n",
       "      <td>Ghajini</td>\n",
       "      <td>kalpana</td>\n",
       "      <td>20.0</td>\n",
       "      <td>624.166667</td>\n",
       "      <td>187.0</td>\n",
       "      <td>3.337790</td>\n",
       "    </tr>\n",
       "    <tr>\n",
       "      <th>5047</th>\n",
       "      <td>Jumbo</td>\n",
       "      <td>mother</td>\n",
       "      <td>4.0</td>\n",
       "      <td>116.833333</td>\n",
       "      <td>60.0</td>\n",
       "      <td>1.947222</td>\n",
       "    </tr>\n",
       "  </tbody>\n",
       "</table>\n",
       "<p>5048 rows × 6 columns</p>\n",
       "</div>"
      ],
      "text/plain": [
       "               MOVIE NAME      CAST  MENTIONS  TOTAL CENTRALITY  COUNT  \\\n",
       "0          Aan Milo Sajna     woman       2.0        222.500000   12.0   \n",
       "1          Aan Milo Sajna   savitri      11.0        868.166667  131.0   \n",
       "2          Aan Milo Sajna   deepali       4.0          0.000000   89.0   \n",
       "3               Abhinetri    anjana       9.0        319.000000   79.0   \n",
       "4           Aag Aur Shola      usha       6.0         48.000000   54.0   \n",
       "...                   ...       ...       ...               ...    ...   \n",
       "5043  Rab Ne Bana Di Jodi  daughter       1.0        243.000000   19.0   \n",
       "5044  Rab Ne Bana Di Jodi     taani      81.0       6975.333333  596.0   \n",
       "5045              Ghajini    sunita      22.0        565.500000  242.0   \n",
       "5046              Ghajini   kalpana      20.0        624.166667  187.0   \n",
       "5047                Jumbo    mother       4.0        116.833333   60.0   \n",
       "\n",
       "      AVERAGE CENTRALITY  \n",
       "0              18.541667  \n",
       "1               6.627226  \n",
       "2               0.000000  \n",
       "3               4.037975  \n",
       "4               0.888889  \n",
       "...                  ...  \n",
       "5043           12.789474  \n",
       "5044           11.703579  \n",
       "5045            2.336777  \n",
       "5046            3.337790  \n",
       "5047            1.947222  \n",
       "\n",
       "[5048 rows x 6 columns]"
      ]
     },
     "execution_count": 6,
     "metadata": {},
     "output_type": "execute_result"
    }
   ],
   "source": [
    "df1"
   ]
  },
  {
   "cell_type": "code",
   "execution_count": 7,
   "id": "07bac3a8",
   "metadata": {},
   "outputs": [
    {
     "name": "stdout",
     "output_type": "stream",
     "text": [
      "<class 'pandas.core.frame.DataFrame'>\n",
      "RangeIndex: 9353 entries, 0 to 9352\n",
      "Data columns (total 6 columns):\n",
      " #   Column              Non-Null Count  Dtype  \n",
      "---  ------              --------------  -----  \n",
      " 0   MOVIE NAME          9353 non-null   object \n",
      " 1   CAST                9298 non-null   object \n",
      " 2   MENTIONS            9348 non-null   float64\n",
      " 3   TOTAL CENTRALITY    9348 non-null   float64\n",
      " 4   COUNT               9348 non-null   float64\n",
      " 5   AVERAGE CENTRALITY  9348 non-null   float64\n",
      "dtypes: float64(4), object(2)\n",
      "memory usage: 438.5+ KB\n"
     ]
    }
   ],
   "source": [
    "df.info()"
   ]
  },
  {
   "cell_type": "code",
   "execution_count": 8,
   "id": "0e3b18a2",
   "metadata": {},
   "outputs": [
    {
     "name": "stdout",
     "output_type": "stream",
     "text": [
      "<class 'pandas.core.frame.DataFrame'>\n",
      "RangeIndex: 5048 entries, 0 to 5047\n",
      "Data columns (total 6 columns):\n",
      " #   Column              Non-Null Count  Dtype  \n",
      "---  ------              --------------  -----  \n",
      " 0   MOVIE NAME          5048 non-null   object \n",
      " 1   CAST                5036 non-null   object \n",
      " 2   MENTIONS            5043 non-null   float64\n",
      " 3   TOTAL CENTRALITY    5043 non-null   float64\n",
      " 4   COUNT               5043 non-null   float64\n",
      " 5   AVERAGE CENTRALITY  5043 non-null   float64\n",
      "dtypes: float64(4), object(2)\n",
      "memory usage: 236.8+ KB\n"
     ]
    }
   ],
   "source": [
    "df1.info()"
   ]
  },
  {
   "cell_type": "code",
   "execution_count": 9,
   "id": "a8f837e9",
   "metadata": {},
   "outputs": [],
   "source": [
    "import matplotlib.pyplot as plt"
   ]
  },
  {
   "cell_type": "code",
   "execution_count": 10,
   "id": "f1ebf3ad",
   "metadata": {},
   "outputs": [
    {
     "data": {
      "text/plain": [
       "<AxesSubplot:ylabel='Frequency'>"
      ]
     },
     "execution_count": 10,
     "metadata": {},
     "output_type": "execute_result"
    },
    {
     "data": {
      "image/png": "[encoded data removed]",
      "text/plain": [
       "<Figure size 432x288 with 1 Axes>"
      ]
     },
     "metadata": {
      "needs_background": "light"
     },
     "output_type": "display_data"
    }
   ],
   "source": [
    "df1.plot(kind='hist',x='COUNT')"
   ]
  },
  {
   "cell_type": "code",
   "execution_count": 11,
   "id": "c6daba1c",
   "metadata": {},
   "outputs": [
    {
     "data": {
      "text/plain": [
       "<AxesSubplot:ylabel='Frequency'>"
      ]
     },
     "execution_count": 11,
     "metadata": {},
     "output_type": "execute_result"
    },
    {
     "data": {
      "image/png": "[encoded data removed]",
      "text/plain": [
       "<Figure size 432x288 with 1 Axes>"
      ]
     },
     "metadata": {
      "needs_background": "light"
     },
     "output_type": "display_data"
    }
   ],
   "source": [
    "df.plot(kind='hist',x='COUNT')"
   ]
  },
  {
   "cell_type": "code",
   "execution_count": 12,
   "id": "0d4e6f2d",
   "metadata": {},
   "outputs": [
    {
     "data": {
      "text/plain": [
       "<matplotlib.legend.Legend at 0x2c5b3cb4a00>"
      ]
     },
     "execution_count": 12,
     "metadata": {},
     "output_type": "execute_result"
    },
    {
     "data": {
      "image/png": "[encoded data removed]",
      "text/plain": [
       "<Figure size 432x288 with 2 Axes>"
      ]
     },
     "metadata": {
      "needs_background": "light"
     },
     "output_type": "display_data"
    }
   ],
   "source": [
    "fig, ax = plt.subplots()\n",
    "ax2 = ax.twinx()\n",
    "\n",
    "df.plot(x=\"MOVIE NAME\", y=[\"COUNT\"], ax=ax)\n",
    "df1.plot(x=\"MOVIE NAME\", y=[\"COUNT\"], ax=ax2,ls= \"--\",c='green')\n",
    "fig.legend(loc=\"upper right\", bbox_to_anchor=(0,0), bbox_transform=ax.transAxes)"
   ]
  },
  {
   "cell_type": "code",
   "execution_count": 13,
   "id": "daa80416",
   "metadata": {
    "scrolled": true
   },
   "outputs": [
    {
     "data": {
      "text/plain": [
       "MOVIE NAME             0\n",
       "CAST                  55\n",
       "MENTIONS               5\n",
       "TOTAL CENTRALITY       5\n",
       "COUNT                  5\n",
       "AVERAGE CENTRALITY     5\n",
       "dtype: int64"
      ]
     },
     "execution_count": 13,
     "metadata": {},
     "output_type": "execute_result"
    }
   ],
   "source": [
    "df.isna().sum()"
   ]
  },
  {
   "cell_type": "code",
   "execution_count": 14,
   "id": "0775142f",
   "metadata": {},
   "outputs": [
    {
     "data": {
      "text/plain": [
       "51.0"
      ]
     },
     "execution_count": 14,
     "metadata": {},
     "output_type": "execute_result"
    }
   ],
   "source": [
    "meanv=df['COUNT'].median()\n",
    "meanv"
   ]
  },
  {
   "cell_type": "code",
   "execution_count": 15,
   "id": "3b8f2f8f",
   "metadata": {},
   "outputs": [
    {
     "data": {
      "text/plain": [
       "MOVIE NAME             0\n",
       "CAST                  55\n",
       "MENTIONS               5\n",
       "TOTAL CENTRALITY       5\n",
       "COUNT                  0\n",
       "AVERAGE CENTRALITY     5\n",
       "dtype: int64"
      ]
     },
     "execution_count": 15,
     "metadata": {},
     "output_type": "execute_result"
    }
   ],
   "source": [
    "df['COUNT'].fillna(value=meanv,inplace=True)\n",
    "df.isna().sum()"
   ]
  },
  {
   "cell_type": "code",
   "execution_count": 16,
   "id": "5e3526df",
   "metadata": {},
   "outputs": [
    {
     "data": {
      "text/plain": [
       "0    man\n",
       "Name: CAST, dtype: object"
      ]
     },
     "execution_count": 16,
     "metadata": {},
     "output_type": "execute_result"
    }
   ],
   "source": [
    "modev=df['CAST'].mode()\n",
    "modev"
   ]
  },
  {
   "cell_type": "code",
   "execution_count": 17,
   "id": "9fcae259",
   "metadata": {},
   "outputs": [
    {
     "data": {
      "text/plain": [
       "MOVIE NAME            0\n",
       "CAST                  0\n",
       "MENTIONS              5\n",
       "TOTAL CENTRALITY      5\n",
       "COUNT                 0\n",
       "AVERAGE CENTRALITY    5\n",
       "dtype: int64"
      ]
     },
     "execution_count": 17,
     "metadata": {},
     "output_type": "execute_result"
    }
   ],
   "source": [
    "df['CAST'].fillna(value='man',inplace=True)\n",
    "df.isna().sum()"
   ]
  },
  {
   "cell_type": "code",
   "execution_count": 18,
   "id": "084c7453",
   "metadata": {},
   "outputs": [
    {
     "data": {
      "text/plain": [
       "MOVIE NAME            0\n",
       "CAST                  0\n",
       "MENTIONS              0\n",
       "TOTAL CENTRALITY      5\n",
       "COUNT                 0\n",
       "AVERAGE CENTRALITY    5\n",
       "dtype: int64"
      ]
     },
     "execution_count": 18,
     "metadata": {},
     "output_type": "execute_result"
    }
   ],
   "source": [
    "df['MENTIONS'].fillna(value=df['MENTIONS'].mean(),inplace=True)\n",
    "df.isna().sum()"
   ]
  },
  {
   "cell_type": "code",
   "execution_count": 19,
   "id": "2cd4e282",
   "metadata": {},
   "outputs": [
    {
     "data": {
      "text/plain": [
       "MOVIE NAME            0\n",
       "CAST                  0\n",
       "MENTIONS              0\n",
       "TOTAL CENTRALITY      0\n",
       "COUNT                 0\n",
       "AVERAGE CENTRALITY    5\n",
       "dtype: int64"
      ]
     },
     "execution_count": 19,
     "metadata": {},
     "output_type": "execute_result"
    }
   ],
   "source": [
    "df['TOTAL CENTRALITY'].fillna(value=df['TOTAL CENTRALITY'].mean(),inplace=True)\n",
    "df.isna().sum()"
   ]
  },
  {
   "cell_type": "code",
   "execution_count": 20,
   "id": "9471b79a",
   "metadata": {},
   "outputs": [
    {
     "data": {
      "text/plain": [
       "MOVIE NAME            0\n",
       "CAST                  0\n",
       "MENTIONS              0\n",
       "TOTAL CENTRALITY      0\n",
       "COUNT                 0\n",
       "AVERAGE CENTRALITY    0\n",
       "dtype: int64"
      ]
     },
     "execution_count": 20,
     "metadata": {},
     "output_type": "execute_result"
    }
   ],
   "source": [
    "df['AVERAGE CENTRALITY'].fillna(value=df['AVERAGE CENTRALITY'].median(),inplace=True)\n",
    "df.isna().sum()"
   ]
  },
  {
   "cell_type": "code",
   "execution_count": 21,
   "id": "d09243fe",
   "metadata": {},
   "outputs": [
    {
     "data": {
      "text/plain": [
       "MOVIE NAME            0\n",
       "CAST                  0\n",
       "MENTIONS              0\n",
       "TOTAL CENTRALITY      0\n",
       "COUNT                 0\n",
       "AVERAGE CENTRALITY    0\n",
       "dtype: int64"
      ]
     },
     "execution_count": 21,
     "metadata": {},
     "output_type": "execute_result"
    }
   ],
   "source": [
    "df.isna().sum()"
   ]
  },
  {
   "cell_type": "code",
   "execution_count": 22,
   "id": "72390307",
   "metadata": {
    "scrolled": true
   },
   "outputs": [],
   "source": [
    "X=df.drop('COUNT',axis=1)\n",
    "y=df['COUNT']\n",
    "\n",
    "from sklearn.model_selection import train_test_split\n",
    "X_train,X_test,Y_train,Y_test=train_test_split(X,y,test_size=0.25,random_state=42)\n"
   ]
  },
  {
   "cell_type": "code",
   "execution_count": 23,
   "id": "90a4ca3a",
   "metadata": {},
   "outputs": [],
   "source": [
    "import category_encoders as ce"
   ]
  },
  {
   "cell_type": "code",
   "execution_count": 24,
   "id": "219a8630",
   "metadata": {},
   "outputs": [],
   "source": [
    "encoder = ce.OrdinalEncoder(cols=['MOVIE NAME','CAST'])\n",
    "\n",
    "\n",
    "X_train = encoder.fit_transform(X_train)\n",
    "\n",
    "X_test = encoder.transform(X_test)"
   ]
  },
  {
   "cell_type": "code",
   "execution_count": 25,
   "id": "9afc123d",
   "metadata": {},
   "outputs": [
    {
     "data": {
      "text/html": [
       "<div>\n",
       "<style scoped>\n",
       "    .dataframe tbody tr th:only-of-type {\n",
       "        vertical-align: middle;\n",
       "    }\n",
       "\n",
       "    .dataframe tbody tr th {\n",
       "        vertical-align: top;\n",
       "    }\n",
       "\n",
       "    .dataframe thead th {\n",
       "        text-align: right;\n",
       "    }\n",
       "</style>\n",
       "<table border=\"1\" class=\"dataframe\">\n",
       "  <thead>\n",
       "    <tr style=\"text-align: right;\">\n",
       "      <th></th>\n",
       "      <th>MOVIE NAME</th>\n",
       "      <th>CAST</th>\n",
       "      <th>MENTIONS</th>\n",
       "      <th>TOTAL CENTRALITY</th>\n",
       "      <th>AVERAGE CENTRALITY</th>\n",
       "    </tr>\n",
       "  </thead>\n",
       "  <tbody>\n",
       "    <tr>\n",
       "      <th>815</th>\n",
       "      <td>1</td>\n",
       "      <td>1</td>\n",
       "      <td>1.0</td>\n",
       "      <td>26.000000</td>\n",
       "      <td>3.714286</td>\n",
       "    </tr>\n",
       "    <tr>\n",
       "      <th>2131</th>\n",
       "      <td>2</td>\n",
       "      <td>2</td>\n",
       "      <td>15.0</td>\n",
       "      <td>649.000000</td>\n",
       "      <td>3.345361</td>\n",
       "    </tr>\n",
       "    <tr>\n",
       "      <th>7565</th>\n",
       "      <td>3</td>\n",
       "      <td>3</td>\n",
       "      <td>7.0</td>\n",
       "      <td>1018.030159</td>\n",
       "      <td>5.784262</td>\n",
       "    </tr>\n",
       "    <tr>\n",
       "      <th>3946</th>\n",
       "      <td>4</td>\n",
       "      <td>4</td>\n",
       "      <td>23.0</td>\n",
       "      <td>7486.180000</td>\n",
       "      <td>40.908087</td>\n",
       "    </tr>\n",
       "    <tr>\n",
       "      <th>6134</th>\n",
       "      <td>5</td>\n",
       "      <td>5</td>\n",
       "      <td>14.0</td>\n",
       "      <td>352.000000</td>\n",
       "      <td>2.444444</td>\n",
       "    </tr>\n",
       "    <tr>\n",
       "      <th>...</th>\n",
       "      <td>...</td>\n",
       "      <td>...</td>\n",
       "      <td>...</td>\n",
       "      <td>...</td>\n",
       "      <td>...</td>\n",
       "    </tr>\n",
       "    <tr>\n",
       "      <th>5734</th>\n",
       "      <td>744</td>\n",
       "      <td>2124</td>\n",
       "      <td>6.0</td>\n",
       "      <td>656.000000</td>\n",
       "      <td>5.085271</td>\n",
       "    </tr>\n",
       "    <tr>\n",
       "      <th>5191</th>\n",
       "      <td>1223</td>\n",
       "      <td>353</td>\n",
       "      <td>1.0</td>\n",
       "      <td>13.000000</td>\n",
       "      <td>1.625000</td>\n",
       "    </tr>\n",
       "    <tr>\n",
       "      <th>5390</th>\n",
       "      <td>1258</td>\n",
       "      <td>353</td>\n",
       "      <td>3.0</td>\n",
       "      <td>439.833333</td>\n",
       "      <td>8.145062</td>\n",
       "    </tr>\n",
       "    <tr>\n",
       "      <th>860</th>\n",
       "      <td>1394</td>\n",
       "      <td>54</td>\n",
       "      <td>1.0</td>\n",
       "      <td>54.000000</td>\n",
       "      <td>4.153846</td>\n",
       "    </tr>\n",
       "    <tr>\n",
       "      <th>7270</th>\n",
       "      <td>211</td>\n",
       "      <td>1197</td>\n",
       "      <td>2.0</td>\n",
       "      <td>9.000000</td>\n",
       "      <td>0.300000</td>\n",
       "    </tr>\n",
       "  </tbody>\n",
       "</table>\n",
       "<p>7014 rows × 5 columns</p>\n",
       "</div>"
      ],
      "text/plain": [
       "      MOVIE NAME  CAST  MENTIONS  TOTAL CENTRALITY  AVERAGE CENTRALITY\n",
       "815            1     1       1.0         26.000000            3.714286\n",
       "2131           2     2      15.0        649.000000            3.345361\n",
       "7565           3     3       7.0       1018.030159            5.784262\n",
       "3946           4     4      23.0       7486.180000           40.908087\n",
       "6134           5     5      14.0        352.000000            2.444444\n",
       "...          ...   ...       ...               ...                 ...\n",
       "5734         744  2124       6.0        656.000000            5.085271\n",
       "5191        1223   353       1.0         13.000000            1.625000\n",
       "5390        1258   353       3.0        439.833333            8.145062\n",
       "860         1394    54       1.0         54.000000            4.153846\n",
       "7270         211  1197       2.0          9.000000            0.300000\n",
       "\n",
       "[7014 rows x 5 columns]"
      ]
     },
     "execution_count": 25,
     "metadata": {},
     "output_type": "execute_result"
    }
   ],
   "source": [
    "X_train"
   ]
  },
  {
   "cell_type": "code",
   "execution_count": 26,
   "id": "1849c104",
   "metadata": {},
   "outputs": [],
   "source": [
    "from sklearn.ensemble import RandomForestRegressor\n",
    "classifier = RandomForestRegressor(random_state = 0)\n"
   ]
  },
  {
   "cell_type": "code",
   "execution_count": 27,
   "id": "bda7f423",
   "metadata": {},
   "outputs": [
    {
     "data": {
      "text/plain": [
       "RandomForestRegressor(random_state=0)"
      ]
     },
     "execution_count": 27,
     "metadata": {},
     "output_type": "execute_result"
    }
   ],
   "source": [
    "classifier.fit(X_train, Y_train)"
   ]
  },
  {
   "cell_type": "code",
   "execution_count": 28,
   "id": "c2ba6672",
   "metadata": {},
   "outputs": [],
   "source": [
    "Y_pred = classifier.predict(X_test)"
   ]
  },
  {
   "cell_type": "code",
   "execution_count": 29,
   "id": "ce872ed7",
   "metadata": {},
   "outputs": [
    {
     "data": {
      "text/plain": [
       "array([206.49,  41.07, 159.85, ...,  19.89,   5.01,  22.95])"
      ]
     },
     "execution_count": 29,
     "metadata": {},
     "output_type": "execute_result"
    }
   ],
   "source": [
    "Y_pred"
   ]
  },
  {
   "cell_type": "code",
   "execution_count": 30,
   "id": "a9e3f186",
   "metadata": {},
   "outputs": [],
   "source": [
    "cutoff = 0.7                              \n",
    "y_pred_classes = np.zeros_like(Y_pred)    \n",
    "y_pred_classes[Y_pred > cutoff] = 1       "
   ]
  },
  {
   "cell_type": "code",
   "execution_count": 31,
   "id": "c83f1363",
   "metadata": {},
   "outputs": [],
   "source": [
    "y_test_classes = np.zeros_like(Y_pred)\n",
    "y_test_classes[Y_test > cutoff] = 1"
   ]
  },
  {
   "cell_type": "code",
   "execution_count": 32,
   "id": "0c96e48e",
   "metadata": {},
   "outputs": [
    {
     "name": "stdout",
     "output_type": "stream",
     "text": [
      "Confusion Matrix : \n",
      " [[  31   47]\n",
      " [   0 2261]]\n"
     ]
    }
   ],
   "source": [
    "from sklearn.metrics import confusion_matrix\n",
    "cm = confusion_matrix(y_test_classes, y_pred_classes)\n",
    "\n",
    "print (\"Confusion Matrix : \\n\", cm)"
   ]
  },
  {
   "cell_type": "code",
   "execution_count": 33,
   "id": "7fc1b7be",
   "metadata": {},
   "outputs": [
    {
     "name": "stdout",
     "output_type": "stream",
     "text": [
      "Accuracy :  0.9799059427105601\n"
     ]
    }
   ],
   "source": [
    "from sklearn.metrics import accuracy_score\n",
    "print (\"Accuracy : \", accuracy_score(y_test_classes, y_pred_classes))"
   ]
  },
  {
   "cell_type": "code",
   "execution_count": 34,
   "id": "293c02d9",
   "metadata": {},
   "outputs": [
    {
     "data": {
      "text/plain": [
       "LinearRegression()"
      ]
     },
     "execution_count": 34,
     "metadata": {},
     "output_type": "execute_result"
    }
   ],
   "source": [
    "from sklearn.linear_model import LinearRegression\n",
    "lr = LinearRegression()\n",
    "lr.fit(X_train, Y_train)"
   ]
  },
  {
   "cell_type": "code",
   "execution_count": 35,
   "id": "b5e50f64",
   "metadata": {},
   "outputs": [],
   "source": [
    "lr.predict(X_test)\n",
    "Y_pred = lr.predict(X_test)"
   ]
  },
  {
   "cell_type": "code",
   "execution_count": 36,
   "id": "9488e817",
   "metadata": {},
   "outputs": [
    {
     "data": {
      "text/plain": [
       "array([201.28743516,  60.16080434, 177.33393622, ...,  53.86155288,\n",
       "        34.165517  ,  52.0396082 ])"
      ]
     },
     "execution_count": 36,
     "metadata": {},
     "output_type": "execute_result"
    }
   ],
   "source": [
    "Y_pred"
   ]
  },
  {
   "cell_type": "code",
   "execution_count": 37,
   "id": "f5d4d32f",
   "metadata": {},
   "outputs": [],
   "source": [
    "cutoff = 0.7                              \n",
    "y_pred_classes = np.zeros_like(Y_pred)    \n",
    "y_pred_classes[Y_pred > cutoff] = 1       "
   ]
  },
  {
   "cell_type": "code",
   "execution_count": 38,
   "id": "ceab244d",
   "metadata": {},
   "outputs": [],
   "source": [
    "y_test_classes = np.zeros_like(Y_pred)\n",
    "y_test_classes[Y_test > cutoff] = 1"
   ]
  },
  {
   "cell_type": "code",
   "execution_count": 39,
   "id": "0bda2602",
   "metadata": {},
   "outputs": [
    {
     "name": "stdout",
     "output_type": "stream",
     "text": [
      "Confusion Matrix : \n",
      " [[   0   78]\n",
      " [  27 2234]]\n"
     ]
    }
   ],
   "source": [
    "from sklearn.metrics import confusion_matrix\n",
    "cm = confusion_matrix(y_test_classes, y_pred_classes)\n",
    "\n",
    "print (\"Confusion Matrix : \\n\", cm)"
   ]
  },
  {
   "cell_type": "code",
   "execution_count": 40,
   "id": "dc67369a",
   "metadata": {},
   "outputs": [
    {
     "name": "stdout",
     "output_type": "stream",
     "text": [
      "Accuracy :  0.9551090209491235\n"
     ]
    }
   ],
   "source": [
    "print (\"Accuracy : \", accuracy_score(y_test_classes, y_pred_classes))"
   ]
  },
  {
   "cell_type": "code",
   "execution_count": 41,
   "id": "f6a7c833",
   "metadata": {},
   "outputs": [
    {
     "data": {
      "text/plain": [
       "MOVIE NAME             0\n",
       "CAST                  12\n",
       "MENTIONS               5\n",
       "TOTAL CENTRALITY       5\n",
       "COUNT                  5\n",
       "AVERAGE CENTRALITY     5\n",
       "dtype: int64"
      ]
     },
     "execution_count": 41,
     "metadata": {},
     "output_type": "execute_result"
    }
   ],
   "source": [
    "df1.isna().sum()"
   ]
  },
  {
   "cell_type": "code",
   "execution_count": 42,
   "id": "2f84f197",
   "metadata": {},
   "outputs": [
    {
     "data": {
      "text/plain": [
       "MOVIE NAME            0\n",
       "CAST                  0\n",
       "MENTIONS              5\n",
       "TOTAL CENTRALITY      5\n",
       "COUNT                 5\n",
       "AVERAGE CENTRALITY    5\n",
       "dtype: int64"
      ]
     },
     "execution_count": 42,
     "metadata": {},
     "output_type": "execute_result"
    }
   ],
   "source": [
    "df1['CAST']=df1['CAST'].fillna(value='woman')\n",
    "df1.isna().sum()"
   ]
  },
  {
   "cell_type": "code",
   "execution_count": 43,
   "id": "4c2d6c36",
   "metadata": {},
   "outputs": [
    {
     "data": {
      "text/plain": [
       "1.0"
      ]
     },
     "execution_count": 43,
     "metadata": {},
     "output_type": "execute_result"
    }
   ],
   "source": [
    "df1['MENTIONS'].mode()[0]"
   ]
  },
  {
   "cell_type": "code",
   "execution_count": 44,
   "id": "05617918",
   "metadata": {},
   "outputs": [
    {
     "data": {
      "text/plain": [
       "MOVIE NAME            0\n",
       "CAST                  0\n",
       "MENTIONS              0\n",
       "TOTAL CENTRALITY      5\n",
       "COUNT                 5\n",
       "AVERAGE CENTRALITY    5\n",
       "dtype: int64"
      ]
     },
     "execution_count": 44,
     "metadata": {},
     "output_type": "execute_result"
    }
   ],
   "source": [
    "df1['MENTIONS']=df1['MENTIONS'].fillna(value=df1['MENTIONS'].mode()[0])\n",
    "df1.isna().sum()"
   ]
  },
  {
   "cell_type": "code",
   "execution_count": 45,
   "id": "8d4626da",
   "metadata": {},
   "outputs": [
    {
     "data": {
      "text/plain": [
       "138.0"
      ]
     },
     "execution_count": 45,
     "metadata": {},
     "output_type": "execute_result"
    }
   ],
   "source": [
    "df1['TOTAL CENTRALITY'].median()"
   ]
  },
  {
   "cell_type": "code",
   "execution_count": 46,
   "id": "2dd071f6",
   "metadata": {},
   "outputs": [
    {
     "data": {
      "text/plain": [
       "MOVIE NAME            0\n",
       "CAST                  0\n",
       "MENTIONS              0\n",
       "TOTAL CENTRALITY      0\n",
       "COUNT                 5\n",
       "AVERAGE CENTRALITY    5\n",
       "dtype: int64"
      ]
     },
     "execution_count": 46,
     "metadata": {},
     "output_type": "execute_result"
    }
   ],
   "source": [
    "df1['TOTAL CENTRALITY']=df1['TOTAL CENTRALITY'].fillna(value=df1['TOTAL CENTRALITY'].median())\n",
    "df1.isna().sum()"
   ]
  },
  {
   "cell_type": "code",
   "execution_count": 47,
   "id": "6e8f9986",
   "metadata": {},
   "outputs": [
    {
     "data": {
      "text/plain": [
       "45.0"
      ]
     },
     "execution_count": 47,
     "metadata": {},
     "output_type": "execute_result"
    }
   ],
   "source": [
    "df1['COUNT'].median()"
   ]
  },
  {
   "cell_type": "code",
   "execution_count": 48,
   "id": "423b0a40",
   "metadata": {},
   "outputs": [
    {
     "data": {
      "text/plain": [
       "MOVIE NAME            0\n",
       "CAST                  0\n",
       "MENTIONS              0\n",
       "TOTAL CENTRALITY      0\n",
       "COUNT                 0\n",
       "AVERAGE CENTRALITY    5\n",
       "dtype: int64"
      ]
     },
     "execution_count": 48,
     "metadata": {},
     "output_type": "execute_result"
    }
   ],
   "source": [
    "df1['COUNT']=df1['COUNT'].fillna(value=df1['COUNT'].median())\n",
    "df1.isna().sum()"
   ]
  },
  {
   "cell_type": "code",
   "execution_count": 49,
   "id": "cc9caef3",
   "metadata": {},
   "outputs": [
    {
     "data": {
      "text/plain": [
       "4.955028816344631"
      ]
     },
     "execution_count": 49,
     "metadata": {},
     "output_type": "execute_result"
    }
   ],
   "source": [
    "df1['AVERAGE CENTRALITY'].mean()"
   ]
  },
  {
   "cell_type": "code",
   "execution_count": 50,
   "id": "72d846d5",
   "metadata": {
    "scrolled": true
   },
   "outputs": [
    {
     "data": {
      "text/plain": [
       "MOVIE NAME            0\n",
       "CAST                  0\n",
       "MENTIONS              0\n",
       "TOTAL CENTRALITY      0\n",
       "COUNT                 0\n",
       "AVERAGE CENTRALITY    0\n",
       "dtype: int64"
      ]
     },
     "execution_count": 50,
     "metadata": {},
     "output_type": "execute_result"
    }
   ],
   "source": [
    "df1['AVERAGE CENTRALITY']=df1['AVERAGE CENTRALITY'].fillna(value=df1['AVERAGE CENTRALITY'].mean())\n",
    "df1.isna().sum()"
   ]
  },
  {
   "cell_type": "code",
   "execution_count": 51,
   "id": "9da018c2",
   "metadata": {},
   "outputs": [],
   "source": [
    "X=df1.drop('COUNT',axis=1)\n",
    "y=df1['COUNT']\n",
    "\n",
    "from sklearn.model_selection import train_test_split\n",
    "X_train,X_test,Y_train,Y_test=train_test_split(X,y,test_size=0.25,random_state=42)"
   ]
  },
  {
   "cell_type": "code",
   "execution_count": 52,
   "id": "c9abd1f5",
   "metadata": {},
   "outputs": [],
   "source": [
    "encoder = ce.OrdinalEncoder(cols=['MOVIE NAME','CAST'])\n",
    "X_train = encoder.fit_transform(X_train)\n",
    "X_test = encoder.transform(X_test)"
   ]
  },
  {
   "cell_type": "code",
   "execution_count": 53,
   "id": "4d76631b",
   "metadata": {},
   "outputs": [
    {
     "data": {
      "text/html": [
       "<div>\n",
       "<style scoped>\n",
       "    .dataframe tbody tr th:only-of-type {\n",
       "        vertical-align: middle;\n",
       "    }\n",
       "\n",
       "    .dataframe tbody tr th {\n",
       "        vertical-align: top;\n",
       "    }\n",
       "\n",
       "    .dataframe thead th {\n",
       "        text-align: right;\n",
       "    }\n",
       "</style>\n",
       "<table border=\"1\" class=\"dataframe\">\n",
       "  <thead>\n",
       "    <tr style=\"text-align: right;\">\n",
       "      <th></th>\n",
       "      <th>MOVIE NAME</th>\n",
       "      <th>CAST</th>\n",
       "      <th>MENTIONS</th>\n",
       "      <th>TOTAL CENTRALITY</th>\n",
       "      <th>AVERAGE CENTRALITY</th>\n",
       "    </tr>\n",
       "  </thead>\n",
       "  <tbody>\n",
       "    <tr>\n",
       "      <th>4288</th>\n",
       "      <td>1</td>\n",
       "      <td>1</td>\n",
       "      <td>7.0</td>\n",
       "      <td>0.000000</td>\n",
       "      <td>0.000000</td>\n",
       "    </tr>\n",
       "    <tr>\n",
       "      <th>1258</th>\n",
       "      <td>2</td>\n",
       "      <td>2</td>\n",
       "      <td>1.0</td>\n",
       "      <td>197.000000</td>\n",
       "      <td>16.416667</td>\n",
       "    </tr>\n",
       "    <tr>\n",
       "      <th>3738</th>\n",
       "      <td>3</td>\n",
       "      <td>3</td>\n",
       "      <td>2.0</td>\n",
       "      <td>0.000000</td>\n",
       "      <td>0.000000</td>\n",
       "    </tr>\n",
       "    <tr>\n",
       "      <th>3515</th>\n",
       "      <td>4</td>\n",
       "      <td>4</td>\n",
       "      <td>0.0</td>\n",
       "      <td>853.500000</td>\n",
       "      <td>21.884615</td>\n",
       "    </tr>\n",
       "    <tr>\n",
       "      <th>1116</th>\n",
       "      <td>5</td>\n",
       "      <td>5</td>\n",
       "      <td>15.0</td>\n",
       "      <td>160.000000</td>\n",
       "      <td>1.649485</td>\n",
       "    </tr>\n",
       "    <tr>\n",
       "      <th>...</th>\n",
       "      <td>...</td>\n",
       "      <td>...</td>\n",
       "      <td>...</td>\n",
       "      <td>...</td>\n",
       "      <td>...</td>\n",
       "    </tr>\n",
       "    <tr>\n",
       "      <th>4426</th>\n",
       "      <td>49</td>\n",
       "      <td>41</td>\n",
       "      <td>0.0</td>\n",
       "      <td>315.000000</td>\n",
       "      <td>4.846154</td>\n",
       "    </tr>\n",
       "    <tr>\n",
       "      <th>466</th>\n",
       "      <td>1010</td>\n",
       "      <td>1128</td>\n",
       "      <td>7.0</td>\n",
       "      <td>106.000000</td>\n",
       "      <td>1.247059</td>\n",
       "    </tr>\n",
       "    <tr>\n",
       "      <th>3092</th>\n",
       "      <td>1362</td>\n",
       "      <td>567</td>\n",
       "      <td>9.0</td>\n",
       "      <td>184.190476</td>\n",
       "      <td>2.361416</td>\n",
       "    </tr>\n",
       "    <tr>\n",
       "      <th>3772</th>\n",
       "      <td>1477</td>\n",
       "      <td>101</td>\n",
       "      <td>11.0</td>\n",
       "      <td>264.000000</td>\n",
       "      <td>2.808511</td>\n",
       "    </tr>\n",
       "    <tr>\n",
       "      <th>860</th>\n",
       "      <td>102</td>\n",
       "      <td>201</td>\n",
       "      <td>10.0</td>\n",
       "      <td>221.916667</td>\n",
       "      <td>2.133814</td>\n",
       "    </tr>\n",
       "  </tbody>\n",
       "</table>\n",
       "<p>3786 rows × 5 columns</p>\n",
       "</div>"
      ],
      "text/plain": [
       "      MOVIE NAME  CAST  MENTIONS  TOTAL CENTRALITY  AVERAGE CENTRALITY\n",
       "4288           1     1       7.0          0.000000            0.000000\n",
       "1258           2     2       1.0        197.000000           16.416667\n",
       "3738           3     3       2.0          0.000000            0.000000\n",
       "3515           4     4       0.0        853.500000           21.884615\n",
       "1116           5     5      15.0        160.000000            1.649485\n",
       "...          ...   ...       ...               ...                 ...\n",
       "4426          49    41       0.0        315.000000            4.846154\n",
       "466         1010  1128       7.0        106.000000            1.247059\n",
       "3092        1362   567       9.0        184.190476            2.361416\n",
       "3772        1477   101      11.0        264.000000            2.808511\n",
       "860          102   201      10.0        221.916667            2.133814\n",
       "\n",
       "[3786 rows x 5 columns]"
      ]
     },
     "execution_count": 53,
     "metadata": {},
     "output_type": "execute_result"
    }
   ],
   "source": [
    "X_train"
   ]
  },
  {
   "cell_type": "code",
   "execution_count": 54,
   "id": "921fc46e",
   "metadata": {},
   "outputs": [
    {
     "data": {
      "text/plain": [
       "LinearRegression()"
      ]
     },
     "execution_count": 54,
     "metadata": {},
     "output_type": "execute_result"
    }
   ],
   "source": [
    "from sklearn.linear_model import LinearRegression\n",
    "lr = LinearRegression()\n",
    "lr.fit(X_train, Y_train)"
   ]
  },
  {
   "cell_type": "code",
   "execution_count": 55,
   "id": "6ad6d4a8",
   "metadata": {},
   "outputs": [
    {
     "data": {
      "text/plain": [
       "array([ 17.59639168,  49.99465727,  68.90266765, ...,  54.3500388 ,\n",
       "        85.29864706, 125.0821829 ])"
      ]
     },
     "execution_count": 55,
     "metadata": {},
     "output_type": "execute_result"
    }
   ],
   "source": [
    "lr.predict(X_test)\n",
    "Y_pred = lr.predict(X_test)\n",
    "Y_pred"
   ]
  },
  {
   "cell_type": "code",
   "execution_count": 56,
   "id": "35d49a46",
   "metadata": {},
   "outputs": [],
   "source": [
    "cutoff = 0.7                              \n",
    "y_pred_classes = np.zeros_like(Y_pred)    \n",
    "y_pred_classes[Y_pred > cutoff] = 1 \n",
    "y_test_classes = np.zeros_like(Y_pred)\n",
    "y_test_classes[Y_test > cutoff] = 1"
   ]
  },
  {
   "cell_type": "code",
   "execution_count": 57,
   "id": "07633f70",
   "metadata": {
    "scrolled": true
   },
   "outputs": [
    {
     "name": "stdout",
     "output_type": "stream",
     "text": [
      "Confusion Matrix : \n",
      " [[   0   32]\n",
      " [  19 1211]]\n"
     ]
    }
   ],
   "source": [
    "cm = confusion_matrix(y_test_classes, y_pred_classes)\n",
    "\n",
    "print (\"Confusion Matrix : \\n\", cm)"
   ]
  },
  {
   "cell_type": "code",
   "execution_count": 58,
   "id": "bfd395b4",
   "metadata": {},
   "outputs": [
    {
     "name": "stdout",
     "output_type": "stream",
     "text": [
      "Accuracy :  0.9595879556259905\n"
     ]
    }
   ],
   "source": [
    "print (\"Accuracy : \", accuracy_score(y_test_classes, y_pred_classes))"
   ]
  },
  {
   "cell_type": "code",
   "execution_count": 59,
   "id": "27d9bfd1",
   "metadata": {},
   "outputs": [],
   "source": [
    "import datacompy"
   ]
  },
  {
   "cell_type": "code",
   "execution_count": 60,
   "id": "8934cb16",
   "metadata": {},
   "outputs": [],
   "source": [
    "compare = datacompy.Compare(df,df1,join_columns='CAST')"
   ]
  },
  {
   "cell_type": "code",
   "execution_count": 61,
   "id": "3d2a70cc",
   "metadata": {},
   "outputs": [
    {
     "name": "stdout",
     "output_type": "stream",
     "text": [
      "DataComPy Comparison\n",
      "--------------------\n",
      "\n",
      "DataFrame Summary\n",
      "-----------------\n",
      "\n",
      "  DataFrame  Columns  Rows\n",
      "0       df1        6  9353\n",
      "1       df2        6  5048\n",
      "\n",
      "Column Summary\n",
      "--------------\n",
      "\n",
      "Number of columns in common: 6\n",
      "Number of columns in df1 but not in df2: 0\n",
      "Number of columns in df2 but not in df1: 0\n",
      "\n",
      "Row Summary\n",
      "-----------\n",
      "\n",
      "Matched on: cast\n",
      "Any duplicates on match values: Yes\n",
      "Absolute Tolerance: 0\n",
      "Relative Tolerance: 0\n",
      "Number of rows in common: 642\n",
      "Number of rows in df1 but not in df2: 8,711\n",
      "Number of rows in df2 but not in df1: 4,406\n",
      "\n",
      "Number of rows with some compared columns unequal: 642\n",
      "Number of rows with all compared columns equal: 0\n",
      "\n",
      "Column Comparison\n",
      "-----------------\n",
      "\n",
      "Number of columns compared with some values unequal: 5\n",
      "Number of columns compared with all values equal: 1\n",
      "Total number of values which compare unequal: 3,028\n",
      "\n",
      "Columns with Unequal Values or Types\n",
      "------------------------------------\n",
      "\n",
      "               Column df1 dtype df2 dtype  # Unequal     Max Diff  # Null Diff\n",
      "4  average centrality   float64   float64        592    72.777416            0\n",
      "3               count   float64   float64        629   643.000000            0\n",
      "1            mentions   float64   float64        574    96.000000            0\n",
      "0          movie name    object    object        642     0.000000            0\n",
      "2    total centrality   float64   float64        591  9195.200000            0\n",
      "\n",
      "Sample Rows with Unequal Values\n",
      "-------------------------------\n",
      "\n",
      "          cast                movie name (df1)          movie name (df2)\n",
      "6840     ganga  Jis Desh Mein Ganga Rehta Hain               Housefull 3\n",
      "5768  bachchan                         Ki & Ka                  Baadshah\n",
      "1426     nisha                     Bundal Baaz             Baat Ban Jaye\n",
      "1726     karan                    Doosra Aadmi  Mumbai Se Aaya Mera Dost\n",
      "587       baba           Aatish: Feel the Fire                    Ajooba\n",
      "679       shiv                       Droh Kaal                      Boss\n",
      "1127       ali                   Staying Alive              Bol Bachchan\n",
      "1983     shiva                     The Hangman                  Muqaddar\n",
      "8607     babli          Golmaal: Fun Unlimited          Kalyug Ke Avtaar\n",
      "1276    sharma                   Rowdy Rathore           Chance Pe Dance\n",
      "\n",
      "        cast  mentions (df1)  mentions (df2)\n",
      "617    singh             5.0             3.0\n",
      "1128   rahul            30.0            17.0\n",
      "214     ajay            17.0             8.0\n",
      "4043  kapoor             2.0             0.0\n",
      "7408   vicky            23.0            10.0\n",
      "0       anil            13.0             5.0\n",
      "601     arun           107.0            11.0\n",
      "517    bobby             0.0            15.0\n",
      "1216     jai            10.0            23.0\n",
      "166    rajiv             0.0            55.0\n",
      "\n",
      "         cast  total centrality (df1)  total centrality (df2)\n",
      "3707  bhavani                0.000000               94.666667\n",
      "1620   mathur               13.000000              450.000000\n",
      "4395     piya              163.500000                0.000000\n",
      "234    surjit             1227.833333              237.133333\n",
      "748    sanjay              451.000000              211.000000\n",
      "8607    babli             1749.966667               60.000000\n",
      "3398   pathan              224.500000             1309.166667\n",
      "1211      jay               17.000000               34.000000\n",
      "1249    rohan              173.302381              158.000000\n",
      "5645     jaya             1016.416667              154.000000\n",
      "\n",
      "        cast  count (df1)  count (df2)\n",
      "5537   suman         21.0         30.0\n",
      "1983   shiva         57.0        104.0\n",
      "7230   honey         47.0         42.0\n",
      "741   khanna        121.0         77.0\n",
      "4743    sona         52.0        288.0\n",
      "3895   mehta          0.0         33.0\n",
      "116    singh         24.0        205.0\n",
      "978   prince        103.0         65.0\n",
      "4799    anna        133.0        120.0\n",
      "587     baba        110.0         94.0\n",
      "\n",
      "         cast  average centrality (df1)  average centrality (df2)\n",
      "1911   chirag                  6.882883                 16.939759\n",
      "960     karan                  2.330667                  2.878913\n",
      "7        raju                  3.450172                  0.000000\n",
      "931   bhavani                  0.000000                  3.416667\n",
      "3651  bhavani                  0.063694                  0.000000\n",
      "4719    suman                  4.668114                  4.137226\n",
      "272     kumar                  0.354839                  3.607280\n",
      "1236   khanna                  3.323333                  4.900000\n",
      "526      rani                 10.970149                  4.135593\n",
      "927   chauhan                  1.222222                  4.479798\n",
      "\n",
      "Sample Rows Only in df1 (First 10 Columns)\n",
      "------------------------------------------\n",
      "\n",
      "                  movie name       cast  mentions  total centrality  count  average centrality\n",
      "4064                  Duniya       puri       3.0        399.666667   34.0           11.754902\n",
      "4896                     Dil     hazari      10.0         26.000000  128.0            0.203125\n",
      "3345                 Nakhuda       ravi      17.0        440.000000  149.0            2.953020\n",
      "2326      Bin Phere Hum Tere       raju       4.0          0.000000   43.0            0.000000\n",
      "323     Aankhon Aankhon Mein        son       2.0        121.000000   27.0            4.481481\n",
      "6096              Chachi 420        jai       2.0        140.000000  262.0            0.534351\n",
      "2977           Entertainment      akhil      78.0       5128.666667  664.0            7.723896\n",
      "5238       Ek Ladka Ek Ladki   bhagwati      24.0        567.000000  222.0            2.554054\n",
      "6177  Gupt: The Hidden Truth  thanawala       3.0        714.000000   35.0           20.400000\n",
      "465      Raampur Ka Lakshman  kedarnath       3.0         51.000000   32.0            1.593750\n",
      "\n",
      "Sample Rows Only in df2 (First 10 Columns)\n",
      "------------------------------------------\n",
      "\n",
      "                        movie name      cast  mentions  total centrality  count  average centrality\n",
      "12183                       Insaaf     aarti       0.0        110.000000   63.0            1.746032\n",
      "9394                       Humjoli    shyama       3.0        107.500000   34.0            3.161765\n",
      "10499                   Aloo Chaat     nikki       4.0       1793.411905   58.0           30.920895\n",
      "13153               Vaastu Shastra   radhika       0.0        174.600000   83.0            2.103614\n",
      "10345                    Karmayogi    mother       3.0       1375.845238   38.0           36.206454\n",
      "11898                    Kshatriya     divya       3.0         81.500000   55.0            1.481818\n",
      "11618                   Jamai Raja  daughter       1.0          0.000000   18.0            0.000000\n",
      "9964   Jalpari: The Desert Mermaid    shreya      10.0       1471.966667  134.0           10.984826\n",
      "11463                Naam O Nishan     woman       1.0         27.000000   15.0            1.800000\n",
      "12954     Kagaar: Life on the Edge    mother       0.0          0.000000    0.0            0.000000\n",
      "\n",
      "\n"
     ]
    }
   ],
   "source": [
    "print(compare.report())"
   ]
  },
  {
   "cell_type": "code",
   "execution_count": null,
   "id": "b04a68b3",
   "metadata": {},
   "outputs": [],
   "source": []
  }
 ],
 "metadata": {
  "kernelspec": {
   "display_name": "Python 3 (ipykernel)",
   "language": "python",
   "name": "python3"
  },
  "language_info": {
   "codemirror_mode": {
    "name": "ipython",
    "version": 3
   },
   "file_extension": ".py",
   "mimetype": "text/x-python",
   "name": "python",
   "nbconvert_exporter": "python",
   "pygments_lexer": "ipython3",
   "version": "3.9.12"
  }
 },
 "nbformat": 4,
 "nbformat_minor": 5
}
